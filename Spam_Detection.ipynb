{
  "nbformat": 4,
  "nbformat_minor": 0,
  "metadata": {
    "colab": {
      "provenance": []
    },
    "kernelspec": {
      "name": "python3",
      "display_name": "Python 3"
    },
    "language_info": {
      "name": "python"
    }
  },
  "cells": [
    {
      "cell_type": "markdown",
      "source": [
        "#**SMS Spam Detection using Machine Learning**"
      ],
      "metadata": {
        "id": "5-bFpqcZO8F1"
      }
    },
    {
      "cell_type": "markdown",
      "source": [
        "This notebooks explores the implementation of machine learning techniques to build a classifier for SMS spam detection. The goal is to distinguish between legitimate messages (ham) and spam messages based on their content. For this purpose, the **SMS Spam Colletion** dataset is used, which contains 5,574 labeled SMS messages."
      ],
      "metadata": {
        "id": "FGIMbGpxPFC-"
      }
    },
    {
      "cell_type": "markdown",
      "source": [
        "##**The dataset**"
      ],
      "metadata": {
        "id": "sAca1imQQo0O"
      }
    },
    {
      "cell_type": "markdown",
      "source": [
        "###**Description**"
      ],
      "metadata": {
        "id": "-DuuhCf6RDvF"
      }
    },
    {
      "cell_type": "markdown",
      "source": [
        "The SMS Spam Collection v.1 is a labeled dataset of 5,574 SMS messages in English, designed for research on SMS spam detection. Each message is categorized as either:\n",
        "- **Ham** (legitimate message): 4,827 messages (86.6%).\n",
        "- **Spam** (unsolicited or fraudulent messages): 747 messages (13.4%)."
      ],
      "metadata": {
        "id": "enoYgKgt_-e3"
      }
    },
    {
      "cell_type": "markdown",
      "source": [
        "###**Compilation**"
      ],
      "metadata": {
        "id": "DlZB_8bsTNsu"
      }
    },
    {
      "cell_type": "markdown",
      "source": [
        "The dataset was curated from various publicly available sources, includin:\n",
        "- Grumbletext: A UK forum where users reported spam messages, yielding 425 manually extracted spam SMS messages.\n",
        "- Caroline Tag's PhD Thesis: A source of 450 ham messages.\n",
        "- NUS SMS Corpus (NSC): A research dataset from the National University of Singapore, contributing 3,375 ham messages.\n",
        "- SMS Spam Corpus v.0.1 Big: A collection by José María Gómez Hidalgo, providing 1,002 ham and 322 spam messages."
      ],
      "metadata": {
        "id": "_85JsvyJ_8WV"
      }
    },
    {
      "cell_type": "markdown",
      "source": [
        "###**Format**\n",
        "The dataset is stored as a text file, with one message per line. Each line has two columns:\n",
        "1. **Label**: Either \"ham\" or \"spam\"\n",
        "2. **Message text**: The raw content of the SMS."
      ],
      "metadata": {
        "id": "5gP9E-mqTqOa"
      }
    },
    {
      "cell_type": "markdown",
      "source": [
        "- Link to the dataset: https://archive.ics.uci.edu/dataset/228/sms+spam+collection"
      ],
      "metadata": {
        "id": "Ck6wsjO5Q_kz"
      }
    },
    {
      "cell_type": "markdown",
      "source": [
        "##**Exploration and Data Preparation**"
      ],
      "metadata": {
        "id": "-Zs0D9tNPvtX"
      }
    },
    {
      "cell_type": "markdown",
      "source": [
        "Getting the dataset:"
      ],
      "metadata": {
        "id": "iLKZV3mvRNw6"
      }
    },
    {
      "cell_type": "code",
      "source": [
        "import pandas as pd\n",
        "\n",
        "# Load the dataset\n",
        "file_path = '/content/drive/MyDrive/ML Projects/Spam Detection/SMSSpamCollection'\n",
        "data = pd.read_csv(file_path, sep=\"\\t\", header=None, names=[\"label\", \"message\"])\n",
        "\n",
        "# Preview the data\n",
        "data.head()"
      ],
      "metadata": {
        "colab": {
          "base_uri": "https://localhost:8080/",
          "height": 206
        },
        "id": "jT9qdDyrRPtV",
        "outputId": "c19b27be-92d7-4a9b-e9a2-d10e16d7a046"
      },
      "execution_count": 24,
      "outputs": [
        {
          "output_type": "execute_result",
          "data": {
            "text/plain": [
              "  label                                            message\n",
              "0   ham  Go until jurong point, crazy.. Available only ...\n",
              "1   ham                      Ok lar... Joking wif u oni...\n",
              "2  spam  Free entry in 2 a wkly comp to win FA Cup fina...\n",
              "3   ham  U dun say so early hor... U c already then say...\n",
              "4   ham  Nah I don't think he goes to usf, he lives aro..."
            ],
            "text/html": [
              "\n",
              "  <div id=\"df-3001063b-3edd-4a2b-8130-5b50917f1c23\" class=\"colab-df-container\">\n",
              "    <div>\n",
              "<style scoped>\n",
              "    .dataframe tbody tr th:only-of-type {\n",
              "        vertical-align: middle;\n",
              "    }\n",
              "\n",
              "    .dataframe tbody tr th {\n",
              "        vertical-align: top;\n",
              "    }\n",
              "\n",
              "    .dataframe thead th {\n",
              "        text-align: right;\n",
              "    }\n",
              "</style>\n",
              "<table border=\"1\" class=\"dataframe\">\n",
              "  <thead>\n",
              "    <tr style=\"text-align: right;\">\n",
              "      <th></th>\n",
              "      <th>label</th>\n",
              "      <th>message</th>\n",
              "    </tr>\n",
              "  </thead>\n",
              "  <tbody>\n",
              "    <tr>\n",
              "      <th>0</th>\n",
              "      <td>ham</td>\n",
              "      <td>Go until jurong point, crazy.. Available only ...</td>\n",
              "    </tr>\n",
              "    <tr>\n",
              "      <th>1</th>\n",
              "      <td>ham</td>\n",
              "      <td>Ok lar... Joking wif u oni...</td>\n",
              "    </tr>\n",
              "    <tr>\n",
              "      <th>2</th>\n",
              "      <td>spam</td>\n",
              "      <td>Free entry in 2 a wkly comp to win FA Cup fina...</td>\n",
              "    </tr>\n",
              "    <tr>\n",
              "      <th>3</th>\n",
              "      <td>ham</td>\n",
              "      <td>U dun say so early hor... U c already then say...</td>\n",
              "    </tr>\n",
              "    <tr>\n",
              "      <th>4</th>\n",
              "      <td>ham</td>\n",
              "      <td>Nah I don't think he goes to usf, he lives aro...</td>\n",
              "    </tr>\n",
              "  </tbody>\n",
              "</table>\n",
              "</div>\n",
              "    <div class=\"colab-df-buttons\">\n",
              "\n",
              "  <div class=\"colab-df-container\">\n",
              "    <button class=\"colab-df-convert\" onclick=\"convertToInteractive('df-3001063b-3edd-4a2b-8130-5b50917f1c23')\"\n",
              "            title=\"Convert this dataframe to an interactive table.\"\n",
              "            style=\"display:none;\">\n",
              "\n",
              "  <svg xmlns=\"http://www.w3.org/2000/svg\" height=\"24px\" viewBox=\"0 -960 960 960\">\n",
              "    <path d=\"M120-120v-720h720v720H120Zm60-500h600v-160H180v160Zm220 220h160v-160H400v160Zm0 220h160v-160H400v160ZM180-400h160v-160H180v160Zm440 0h160v-160H620v160ZM180-180h160v-160H180v160Zm440 0h160v-160H620v160Z\"/>\n",
              "  </svg>\n",
              "    </button>\n",
              "\n",
              "  <style>\n",
              "    .colab-df-container {\n",
              "      display:flex;\n",
              "      gap: 12px;\n",
              "    }\n",
              "\n",
              "    .colab-df-convert {\n",
              "      background-color: #E8F0FE;\n",
              "      border: none;\n",
              "      border-radius: 50%;\n",
              "      cursor: pointer;\n",
              "      display: none;\n",
              "      fill: #1967D2;\n",
              "      height: 32px;\n",
              "      padding: 0 0 0 0;\n",
              "      width: 32px;\n",
              "    }\n",
              "\n",
              "    .colab-df-convert:hover {\n",
              "      background-color: #E2EBFA;\n",
              "      box-shadow: 0px 1px 2px rgba(60, 64, 67, 0.3), 0px 1px 3px 1px rgba(60, 64, 67, 0.15);\n",
              "      fill: #174EA6;\n",
              "    }\n",
              "\n",
              "    .colab-df-buttons div {\n",
              "      margin-bottom: 4px;\n",
              "    }\n",
              "\n",
              "    [theme=dark] .colab-df-convert {\n",
              "      background-color: #3B4455;\n",
              "      fill: #D2E3FC;\n",
              "    }\n",
              "\n",
              "    [theme=dark] .colab-df-convert:hover {\n",
              "      background-color: #434B5C;\n",
              "      box-shadow: 0px 1px 3px 1px rgba(0, 0, 0, 0.15);\n",
              "      filter: drop-shadow(0px 1px 2px rgba(0, 0, 0, 0.3));\n",
              "      fill: #FFFFFF;\n",
              "    }\n",
              "  </style>\n",
              "\n",
              "    <script>\n",
              "      const buttonEl =\n",
              "        document.querySelector('#df-3001063b-3edd-4a2b-8130-5b50917f1c23 button.colab-df-convert');\n",
              "      buttonEl.style.display =\n",
              "        google.colab.kernel.accessAllowed ? 'block' : 'none';\n",
              "\n",
              "      async function convertToInteractive(key) {\n",
              "        const element = document.querySelector('#df-3001063b-3edd-4a2b-8130-5b50917f1c23');\n",
              "        const dataTable =\n",
              "          await google.colab.kernel.invokeFunction('convertToInteractive',\n",
              "                                                    [key], {});\n",
              "        if (!dataTable) return;\n",
              "\n",
              "        const docLinkHtml = 'Like what you see? Visit the ' +\n",
              "          '<a target=\"_blank\" href=https://colab.research.google.com/notebooks/data_table.ipynb>data table notebook</a>'\n",
              "          + ' to learn more about interactive tables.';\n",
              "        element.innerHTML = '';\n",
              "        dataTable['output_type'] = 'display_data';\n",
              "        await google.colab.output.renderOutput(dataTable, element);\n",
              "        const docLink = document.createElement('div');\n",
              "        docLink.innerHTML = docLinkHtml;\n",
              "        element.appendChild(docLink);\n",
              "      }\n",
              "    </script>\n",
              "  </div>\n",
              "\n",
              "\n",
              "<div id=\"df-4514d5b4-18f2-4983-bdd7-ca3fc53e071e\">\n",
              "  <button class=\"colab-df-quickchart\" onclick=\"quickchart('df-4514d5b4-18f2-4983-bdd7-ca3fc53e071e')\"\n",
              "            title=\"Suggest charts\"\n",
              "            style=\"display:none;\">\n",
              "\n",
              "<svg xmlns=\"http://www.w3.org/2000/svg\" height=\"24px\"viewBox=\"0 0 24 24\"\n",
              "     width=\"24px\">\n",
              "    <g>\n",
              "        <path d=\"M19 3H5c-1.1 0-2 .9-2 2v14c0 1.1.9 2 2 2h14c1.1 0 2-.9 2-2V5c0-1.1-.9-2-2-2zM9 17H7v-7h2v7zm4 0h-2V7h2v10zm4 0h-2v-4h2v4z\"/>\n",
              "    </g>\n",
              "</svg>\n",
              "  </button>\n",
              "\n",
              "<style>\n",
              "  .colab-df-quickchart {\n",
              "      --bg-color: #E8F0FE;\n",
              "      --fill-color: #1967D2;\n",
              "      --hover-bg-color: #E2EBFA;\n",
              "      --hover-fill-color: #174EA6;\n",
              "      --disabled-fill-color: #AAA;\n",
              "      --disabled-bg-color: #DDD;\n",
              "  }\n",
              "\n",
              "  [theme=dark] .colab-df-quickchart {\n",
              "      --bg-color: #3B4455;\n",
              "      --fill-color: #D2E3FC;\n",
              "      --hover-bg-color: #434B5C;\n",
              "      --hover-fill-color: #FFFFFF;\n",
              "      --disabled-bg-color: #3B4455;\n",
              "      --disabled-fill-color: #666;\n",
              "  }\n",
              "\n",
              "  .colab-df-quickchart {\n",
              "    background-color: var(--bg-color);\n",
              "    border: none;\n",
              "    border-radius: 50%;\n",
              "    cursor: pointer;\n",
              "    display: none;\n",
              "    fill: var(--fill-color);\n",
              "    height: 32px;\n",
              "    padding: 0;\n",
              "    width: 32px;\n",
              "  }\n",
              "\n",
              "  .colab-df-quickchart:hover {\n",
              "    background-color: var(--hover-bg-color);\n",
              "    box-shadow: 0 1px 2px rgba(60, 64, 67, 0.3), 0 1px 3px 1px rgba(60, 64, 67, 0.15);\n",
              "    fill: var(--button-hover-fill-color);\n",
              "  }\n",
              "\n",
              "  .colab-df-quickchart-complete:disabled,\n",
              "  .colab-df-quickchart-complete:disabled:hover {\n",
              "    background-color: var(--disabled-bg-color);\n",
              "    fill: var(--disabled-fill-color);\n",
              "    box-shadow: none;\n",
              "  }\n",
              "\n",
              "  .colab-df-spinner {\n",
              "    border: 2px solid var(--fill-color);\n",
              "    border-color: transparent;\n",
              "    border-bottom-color: var(--fill-color);\n",
              "    animation:\n",
              "      spin 1s steps(1) infinite;\n",
              "  }\n",
              "\n",
              "  @keyframes spin {\n",
              "    0% {\n",
              "      border-color: transparent;\n",
              "      border-bottom-color: var(--fill-color);\n",
              "      border-left-color: var(--fill-color);\n",
              "    }\n",
              "    20% {\n",
              "      border-color: transparent;\n",
              "      border-left-color: var(--fill-color);\n",
              "      border-top-color: var(--fill-color);\n",
              "    }\n",
              "    30% {\n",
              "      border-color: transparent;\n",
              "      border-left-color: var(--fill-color);\n",
              "      border-top-color: var(--fill-color);\n",
              "      border-right-color: var(--fill-color);\n",
              "    }\n",
              "    40% {\n",
              "      border-color: transparent;\n",
              "      border-right-color: var(--fill-color);\n",
              "      border-top-color: var(--fill-color);\n",
              "    }\n",
              "    60% {\n",
              "      border-color: transparent;\n",
              "      border-right-color: var(--fill-color);\n",
              "    }\n",
              "    80% {\n",
              "      border-color: transparent;\n",
              "      border-right-color: var(--fill-color);\n",
              "      border-bottom-color: var(--fill-color);\n",
              "    }\n",
              "    90% {\n",
              "      border-color: transparent;\n",
              "      border-bottom-color: var(--fill-color);\n",
              "    }\n",
              "  }\n",
              "</style>\n",
              "\n",
              "  <script>\n",
              "    async function quickchart(key) {\n",
              "      const quickchartButtonEl =\n",
              "        document.querySelector('#' + key + ' button');\n",
              "      quickchartButtonEl.disabled = true;  // To prevent multiple clicks.\n",
              "      quickchartButtonEl.classList.add('colab-df-spinner');\n",
              "      try {\n",
              "        const charts = await google.colab.kernel.invokeFunction(\n",
              "            'suggestCharts', [key], {});\n",
              "      } catch (error) {\n",
              "        console.error('Error during call to suggestCharts:', error);\n",
              "      }\n",
              "      quickchartButtonEl.classList.remove('colab-df-spinner');\n",
              "      quickchartButtonEl.classList.add('colab-df-quickchart-complete');\n",
              "    }\n",
              "    (() => {\n",
              "      let quickchartButtonEl =\n",
              "        document.querySelector('#df-4514d5b4-18f2-4983-bdd7-ca3fc53e071e button');\n",
              "      quickchartButtonEl.style.display =\n",
              "        google.colab.kernel.accessAllowed ? 'block' : 'none';\n",
              "    })();\n",
              "  </script>\n",
              "</div>\n",
              "\n",
              "    </div>\n",
              "  </div>\n"
            ],
            "application/vnd.google.colaboratory.intrinsic+json": {
              "type": "dataframe",
              "variable_name": "data",
              "summary": "{\n  \"name\": \"data\",\n  \"rows\": 5572,\n  \"fields\": [\n    {\n      \"column\": \"label\",\n      \"properties\": {\n        \"dtype\": \"category\",\n        \"num_unique_values\": 2,\n        \"samples\": [\n          \"spam\",\n          \"ham\"\n        ],\n        \"semantic_type\": \"\",\n        \"description\": \"\"\n      }\n    },\n    {\n      \"column\": \"message\",\n      \"properties\": {\n        \"dtype\": \"string\",\n        \"num_unique_values\": 5169,\n        \"samples\": [\n          \"K, makes sense, btw carlos is being difficult so you guys are gonna smoke while I go pick up the second batch and get gas\",\n          \"URGENT! Your mobile No *********** WON a \\u00a32,000 Bonus Caller Prize on 02/06/03! This is the 2nd attempt to reach YOU! Call 09066362220 ASAP! BOX97N7QP, 150ppm\"\n        ],\n        \"semantic_type\": \"\",\n        \"description\": \"\"\n      }\n    }\n  ]\n}"
            }
          },
          "metadata": {},
          "execution_count": 24
        }
      ]
    },
    {
      "cell_type": "markdown",
      "source": [
        "###Basic exploration"
      ],
      "metadata": {
        "id": "KgSVLhjoZiRq"
      }
    },
    {
      "cell_type": "markdown",
      "source": [
        "Let's see the class distribution"
      ],
      "metadata": {
        "id": "bCj_J4qAVccN"
      }
    },
    {
      "cell_type": "code",
      "source": [
        "data['label'].value_counts()"
      ],
      "metadata": {
        "colab": {
          "base_uri": "https://localhost:8080/",
          "height": 178
        },
        "id": "fEmYm4YkVhXQ",
        "outputId": "737cf1d5-6f29-4dfc-dcc1-bada9d08982d"
      },
      "execution_count": 25,
      "outputs": [
        {
          "output_type": "execute_result",
          "data": {
            "text/plain": [
              "label\n",
              "ham     4825\n",
              "spam     747\n",
              "Name: count, dtype: int64"
            ],
            "text/html": [
              "<div>\n",
              "<style scoped>\n",
              "    .dataframe tbody tr th:only-of-type {\n",
              "        vertical-align: middle;\n",
              "    }\n",
              "\n",
              "    .dataframe tbody tr th {\n",
              "        vertical-align: top;\n",
              "    }\n",
              "\n",
              "    .dataframe thead th {\n",
              "        text-align: right;\n",
              "    }\n",
              "</style>\n",
              "<table border=\"1\" class=\"dataframe\">\n",
              "  <thead>\n",
              "    <tr style=\"text-align: right;\">\n",
              "      <th></th>\n",
              "      <th>count</th>\n",
              "    </tr>\n",
              "    <tr>\n",
              "      <th>label</th>\n",
              "      <th></th>\n",
              "    </tr>\n",
              "  </thead>\n",
              "  <tbody>\n",
              "    <tr>\n",
              "      <th>ham</th>\n",
              "      <td>4825</td>\n",
              "    </tr>\n",
              "    <tr>\n",
              "      <th>spam</th>\n",
              "      <td>747</td>\n",
              "    </tr>\n",
              "  </tbody>\n",
              "</table>\n",
              "</div><br><label><b>dtype:</b> int64</label>"
            ]
          },
          "metadata": {},
          "execution_count": 25
        }
      ]
    },
    {
      "cell_type": "markdown",
      "source": [
        "86% of the messages are legitimate and 14% are spam."
      ],
      "metadata": {
        "id": "okHa27XjWF0U"
      }
    },
    {
      "cell_type": "markdown",
      "source": [
        "Now, it would be interesting to see common words in spam messages:"
      ],
      "metadata": {
        "id": "7mVN0hY5XBAK"
      }
    },
    {
      "cell_type": "code",
      "source": [
        "# Filter spam messages\n",
        "spam_messages = data[data['label'] == 'spam']['message']\n",
        "\n",
        "spam_messages.head(3)"
      ],
      "metadata": {
        "colab": {
          "base_uri": "https://localhost:8080/",
          "height": 178
        },
        "id": "cVw8i48AXkEr",
        "outputId": "b73a055c-9d01-4d72-acca-c2c3d4addb35"
      },
      "execution_count": 26,
      "outputs": [
        {
          "output_type": "execute_result",
          "data": {
            "text/plain": [
              "2    Free entry in 2 a wkly comp to win FA Cup fina...\n",
              "5    FreeMsg Hey there darling it's been 3 week's n...\n",
              "8    WINNER!! As a valued network customer you have...\n",
              "Name: message, dtype: object"
            ],
            "text/html": [
              "<div>\n",
              "<style scoped>\n",
              "    .dataframe tbody tr th:only-of-type {\n",
              "        vertical-align: middle;\n",
              "    }\n",
              "\n",
              "    .dataframe tbody tr th {\n",
              "        vertical-align: top;\n",
              "    }\n",
              "\n",
              "    .dataframe thead th {\n",
              "        text-align: right;\n",
              "    }\n",
              "</style>\n",
              "<table border=\"1\" class=\"dataframe\">\n",
              "  <thead>\n",
              "    <tr style=\"text-align: right;\">\n",
              "      <th></th>\n",
              "      <th>message</th>\n",
              "    </tr>\n",
              "  </thead>\n",
              "  <tbody>\n",
              "    <tr>\n",
              "      <th>2</th>\n",
              "      <td>Free entry in 2 a wkly comp to win FA Cup fina...</td>\n",
              "    </tr>\n",
              "    <tr>\n",
              "      <th>5</th>\n",
              "      <td>FreeMsg Hey there darling it's been 3 week's n...</td>\n",
              "    </tr>\n",
              "    <tr>\n",
              "      <th>8</th>\n",
              "      <td>WINNER!! As a valued network customer you have...</td>\n",
              "    </tr>\n",
              "  </tbody>\n",
              "</table>\n",
              "</div><br><label><b>dtype:</b> object</label>"
            ]
          },
          "metadata": {},
          "execution_count": 26
        }
      ]
    },
    {
      "cell_type": "code",
      "source": [
        "import string\n",
        "from collections import Counter\n",
        "from nltk.corpus import stopwords\n",
        "import nltk"
      ],
      "metadata": {
        "id": "6yDQTPfYX-1i"
      },
      "execution_count": 27,
      "outputs": []
    },
    {
      "cell_type": "code",
      "source": [
        "nltk.download('stopwords')"
      ],
      "metadata": {
        "collapsed": true,
        "id": "Pg8KACbJYLSw"
      },
      "execution_count": null,
      "outputs": []
    },
    {
      "cell_type": "code",
      "source": [
        "# Define stopwords and punctuation\n",
        "stop_words = set(stopwords.words('english'))\n",
        "punctuation = string.punctuation"
      ],
      "metadata": {
        "id": "QcKU0gHqYWRQ"
      },
      "execution_count": 29,
      "outputs": []
    },
    {
      "cell_type": "code",
      "source": [
        "# Tokenize, clean, and flatten all spam messages\n",
        "spam_words = []\n",
        "for message in spam_messages:\n",
        "    # Lowercase and remove punctuations\n",
        "    words = message \\\n",
        "        .lower() \\\n",
        "        .translate(str.maketrans('', '', punctuation)) \\\n",
        "        .split()\n",
        "    # Remove stopwrods and collect words\n",
        "    spam_words.extend([\n",
        "        word for word in words\n",
        "        if word not in stop_words and\n",
        "        not word.isdigit()])"
      ],
      "metadata": {
        "id": "sQH03QrXYoj9"
      },
      "execution_count": 30,
      "outputs": []
    },
    {
      "cell_type": "code",
      "source": [
        "# Count word frequencies\n",
        "word_counts = Counter(spam_words)\n",
        "\n",
        "# Display the 10 most common words\n",
        "most_common_words = word_counts.most_common(10)\n",
        "print(most_common_words)"
      ],
      "metadata": {
        "colab": {
          "base_uri": "https://localhost:8080/"
        },
        "id": "xVXPPvp5Zq3H",
        "outputId": "ed26452c-3736-45e4-b565-902bd09184f5"
      },
      "execution_count": 31,
      "outputs": [
        {
          "output_type": "stream",
          "name": "stdout",
          "text": [
            "[('call', 347), ('free', 216), ('txt', 150), ('u', 147), ('ur', 144), ('mobile', 123), ('text', 120), ('stop', 115), ('claim', 113), ('reply', 101)]\n"
          ]
        }
      ]
    },
    {
      "cell_type": "markdown",
      "source": [
        "**CALL!!** **FREE!!** **CLAIM!!** **REPLY!!**\n",
        "\n",
        "<div>\n",
        "<img src=\"data:image/png;base64,iVBORw0KGgoAAAANSUhEUgAAAgAAAAIACAMAAADDpiTIAAAABGdBTUEAALGPC/xhBQAAAAFzUkdCAK7OHOkAAAHRUExURQAAAOjq6PT19PDy8Q4PDhkZGfX49xUXGWlxbw8QEPf49+fo54mKiff39vT19Ovr683Ozbe3t/v7++/w7/n6+leOOgBQ4kmAMJ5aMlqOOVeOO1iPO1qNO1uPPABGyfv7+vz++v///0+GMlePPlWPN/z+/luNP59bNE1/MZ9bN6JZNlePNhMxA0l/MhkyCiFIEk+ANiQ8HCROFPr7/liMOTMdEl2ORaFYMg0OC0ZyL16RQP/7/kIWAwFQ3iI/FlKAOpxaNyk/IRY5BUmALFOGNQ4qAydHGh82EliROScjEC5II/n+81SMNzVaI055Ny1XGWOQSFaGP0d5LT1gKz9rKCtPGxxBCkVoMjdjIld7QAFGzVeIOVuJRk1wOFyHQCAtRhkpDjVPJptcPSAuGA8rWhIpSgRP1gFP52g2HQ05gGKFR6BfQHVDKUMiE/H56+fu5gswbAopG4dQNANHwwpQzpRdQVMfB5JXOFUtGy42FkFTMQgqNgtQxtzj2w5BkFxnVApGtXtMNU1ZRGt4Yw5PvHuFdLnAvA5CobC6qYmSgcbRvz5ENtLZzS4yJ6OsmwFT4pafjxBOqTtGWlNecWhyhKGpucbM2nyGlo+YqEZtpmyEuOjfRHsAAAAVdFJOUwAOqUUSHv4EAgpaHT2+c5F4XeYq1InqMokAACAASURBVHja7H3rTxrt1v5uu3+87nbbvrstaUAmMAITEpCTZPLOmDABgWHDMDCcCYdA+OYH/FwTY6LRqLXGP/m31rpnOGlbrYf26ePau1Z9LCDrute61rrX4R//eJZneZZneZZneZZneZZneZZneZZneZZneZZneZZneZZneZZneZZneZZneZZneZZneZZneZZneZZneZZneZZneZZneZZneZZneZZneZZneZZneZZneZZn+TWy8uLNh1evXr2eyatXHz68ebHy/Nb8+ar/8Or123cvVz++5/3zYnv/cfXlu7evXz3j4A8+9qD7lx9tpPAtJgsgwC9tHwEGrz48g+BP0/6bV2/frdo8c7qfImDpSxRCwZtnEPwh8uLD67erCyf92wDwgJg/tvoMgj9E++8++r8n8wDwzAmB4GkwsPLixZs3Hyx5AzTkGXgPZflv1L6nOC+em2VqCF4/HiWgeOQ10dLVjyDv38OH1Wc6+lCMf2r53bzfxrttHtK8Z7J/fnp1dnZ8dIByeHB0dHZ1eXq+P5mYcOB5j9vGwz8wKcFjYAADEopHvmWZ3q++fKaj9zz8Fqnz8KBUOu2751dHh19Sw/CChPCDmhwdHl+dXCAKeB4Jo9vttrRBGHhYTvry+55pSkdfPzORn3mHX79cNvmTi8ujw4KqhlV1pv8QyAwG8B/D6t7B2em+28+D9udzBZ6PD8MHQPmv363OYevH8vKZjd5d/ZugQebJ4UNxsn969OXzeGyqOhsKZeFPKB0yBT7JAhCyYZX9wNeD49N95g5mCPB4Vu9rBjAgeQn+BSwMvzX32NYTeBaekeUmNkH8Lx/SAP0d1I8CbhwcOc9PLq4OUnS6Q6T4sNqMxMulNogEUq+32+VyI95sptMEC7QJaCgOz053izYgBO6tLfhAj3kPM0B2/+NcxIFWgOdJ826UGf90e2xufpPnN90AFfbDWx/fPZuBWxv/LdK/mzz/7uVBbIxePgsSSkfipVpf1wOKoYBEQegT+LSqS1Kt1Iik0zO3UDi4vCiiNngbAQC18/L1TygCtf9yIezEV+fxmPHI7v7F+ckpk5Pzi/1J0VOEH93kPUz/7ONPPfPfLex/9dI0+x44/u7i+fFoiN4dznYzNypJ1Y2AoUQDGyCBQDRAn8BnAQBCF0QUB4OB1EZrwEyBqqYOr/aLYEs2LQB43HdVBGp/lYy7dfoRnzy6pt3zUwhG9kYpdTgcqiRhNVUY7R2dnV7s2ooeP+meZ/IMgR8f//eWJYUzNDk9iIVVcvHpZq0PB3/j00w2mGwHAhlQvSC7XJwsC0JClmWxp7dKgAGwGBgejA+u9kHvDAD4+P67KAJtkvWirPQjnvz9k7Ojw5TFOixGGprR0vHo4Oxk1zZHCoCYPkPgu8d/Fd9psJ8QwoPtPxzi6c+GmvG6pCg66H9jw9I8QgAOfqabAMVzLpfLwYEIpoggRrUdT6dJFao6PjqdeDZBBUgtiZnfThGUjNgkP495CHD08MFTvLg8PlTDQ3VO99lQaAEAWfwwVD8fXJ1PyB1s8sx9vHz1TAdvfq8/vLUhk4L3t2grFi+/jIfk95tl0H50Y0FQ++sgoH7UO2cHWcvn17wg3ExkvdVomq5g+OXswgYAmNL0WygCDv+796A7RvF55vH3T4+/sIMfmp75SCQeL5vSiEeAh6QtIIBTODy7KE48ftsmAYB//2wEvnH80UqDejDmP90bD7PDbDoNh18Hnz8z+eT0t7fXMwkQPPZrIAQAEKb3NRJuLb/GCUAJyqAMjCHCqYNzG5xghgCP+/3b74dmEPOt2qxsInMBGJAUxuTt4cSn081mvNyu64piGELFFFEwMooutctxxB6mLUAOTskMmHzg2QjccNbevuc9NvLSk8kpGP9sNhxKl+tR1P42yqep4Q8AADIZhykWALxeBAB+B0wBiHfNp2lawlUZBOoN4ANwaNXx4amN0gMsu7j6nbMItv8j756/XLCdn4Hdx//h0U83421JyQyEChAPWXZqdqedXod9jZMdwEYqoiLV8InTKrqDw6tdj+lK3GAEnhGwTP79fvemze232Sb7B0CpIeBPl4H0Tx0+CUPC+rr99uIAfuASou1IGj1BOHYIZ7FIWkA2942ziIno9xSNgs8gxBRB+0OyI2jbwS1VjYHICAc8vnPpSdEUueA/yUJUKmNEgr5g7wrZDSYNIIh8RsCC/l+/9/jdbsz9eHbPYkCvSP1Gdc7nTwGwvq7Z7yhBBycPpFyIBQUAAYgw3IzQgx9YuTkVZRpsdPye3cuDsZmJCjUbNd2AgIMj7slk+Qktq5TPcxoYgjgyAjUUhmfmJ4QAv/+G5/0bm3/Lx/o9J3tZyvU2+kZ0gfSZAED1M9J3FwGy0K0M+mXyBMDKTndBq34W0a0uGQErE2k6fvjB86MCJhdB/+lmudXriRXU/kz93wYAfKZxWkKolpuUnwwf7aM5oazhMxGYmX+e9zOGvXs2zoLxz8aljh7Yrm5/WgIAGP8p67+LG3CACRDAK+ulJosJDs4RAXTR6HfPH0ZUvweDNtP9YzLCsvzNhm6g2XclXEvybQD4fMG85pC7eq1J1xWpy6LHzEY8E4Gp+Xfz7MrnfA/IH7zRbV1Horc9BUCA2N96Rruz9Wf6Z+TQ4RAMvQQRGujz8zGcRbfNhk7Zv2qpAnw/JXx50H8R75X3z76oSPqIkBqC1+vEhwvanU7njwCA4rQHmThdgtFuoh9QD/Y9RYpFnhHA9F/EixQ/kPPJ2WfQfzhbgriP0b0pAOCzT6B+p93+swDgHEGfz2f3CoZSTqfRnhfOqIDEjYZgk4wAqp8cEdh/G7yg4snR5yE7/ZGaIno1IJ8+UuntAcAQgE8ti3qD2ODeuQef+RkBKG/egjmE98LmKV4cDJH8R1q6kpnp3/T9YPw1J52/n5AgIcDp9Pmc8BiCoMebmKUbHoIfmHjoztYNTIDuIYjz+zfh9RRPDj5/HoaTePglpSIkLDrhCAYdt3ABphsw9e8DzAhGK4lE4PNVkQCwufl3R8DKh3eUXy3C232aGmLkX+qg+Z/l+y3nr2GS7yctAAHAC7pHBDi5LpxFDAohoj/eJzK4CTbI9u7d+7mYv3h6OB6qGPA32x2xwiUSzP0kEACOOwDAzvTv83rtmlDplCgreYwAQKL590YAHDngwzy+3ZOzMXj/bLpu6JjoWQr/PzmZ2H9WKDuImSJKFrq4yqAOEMiq4dFlsQgu39I7j3k6YIaT00PM92Cur46h/gLxBA/guiUA5oSeXRONOmYjhkeYGEQEfHy18jd2/++33HjrD+wfzH8olC0r0Sjd7s4DYPtTRrPfU2Z6QFUiHRwoJTACaVXFwGya8NviMRcJ6ldVKjQq110U7S1HHj8BABItL3f7SEKBCtrcE6oVevM31j+/hddr/OTicAzkL11SjGpVWbQAGPk75QcGQKLbdQ0qeiSEuihcTiwAAPsHOILxB9OfBvUrgixTyvmBAABB4Zq402lmIbI42C26/Rhsvn3xd9W/jfQPfOgSi/2yzT6ov1oNLAMAnf9DAyDT5SqGWKnjpZ06PNqdlvN5PHD6h+CmQf1RMdFNcK4HBADeTnQHlU4EAIYI8FNC4O9JA168xpT4Fm+bFK/w5ieU62CBF6vvsQCwjaE/AuDaUfppADAUAJXDVH1PKaM5Hn45t/nxFhKM/8EYK4tDzVJv4EqQWABYeIAlub0FsCe6g0GvjEnpIywcK7pt7/+ONAD1794Cg2ubHI+RbTVQ/6T5OQAEMhi3PTwA1oDHA5EHCAxaTURA7IpK+/aP1CGmfSAWqQwEUJfv4QEAcQRgII75yGNqc7Hxqx/+hvqnUjkAwOQIvH823e4YoP5PG/MACODph/jtEQBg5mfscqUyyIXV2Hh8sD/ZP06h9rOo/oosODF4f2AA2AkCvoQ8aKYBd5dgAzwQdvztaIClf49/9wArftMtXYlS9G8CgLx/QPNi/PU4AKDY3NcVZGFQauZS6nDvao+SfumyLg66QBLwR1jc/7AAQMm4BsADwp8vJqh/3vY3cwIvXrPKGBvoH8u+mlI0sCjT2N/+yAIErituxAEB1FUUSsd1weVygs4f81mDeYesgO8Z7u0XKRP594oFwf9j/O/hbReHQzUbakr6kv4D25/WNfsTicbZ9UIslgT7H45Lg4Qj+Oi4W8vnXSLmA9SjIpac/b3qQ1D/FP/ZLr6Az81G+vqyAQisr2trTwUA+5rdaOWShVSqMNoZuIKPD4A1AAAnVEqAgNgpmgCP7W/EAyn/swX691x8GePVf0dRlgGwbX9CWbOvyYNaLocI6HSfEAA7jRA4AeCBfngz/jY88MWr99Sqx+PlPzBuCv+ii6f/TjV/D6CONdBGrZmKxVINQ+4mfI//nAAArluppkNq+MwzwS6Yv0syYOXVR6qJ9Hj298JZ4FyKlf6fHf9A1/XEAFiTZaOcTKViyZIhJoj9PzYA1ta6XKKeVsOxc0pAev4mPPDDS6rFtNn297D2Jx6loP/TggPIJOQnBkA+H6zojVTqayrW6gn2xwcAPCWGhEYETMBRkceqJP5vYQLevKNGWbeH4v9QKWqGfPMIwPTrU1sAXz5R6Y9iKaQBPa/2FADIA87kPhYnnRMA/hbZoBdvUfvuTffkAIc8xPXAtPZjygC6Tw0ASuTAH7EFTiCVgkjA6XU+AejyvjxXiYfC4QOsDtva/Pjn14mzAJD3uItHKgAA/P+09OfTgv6fHAAoYq9MCGhVjKcBQH6N4+pNIIIXbMDEH28CXrwueuD887biMXbWRfRo5ubz/4sAICoRBECu4/Q9hduhlLJQDoWGBwQA/k83ASuv3nvYJJUzuv+T9Gh16fwHTP0/OQAw258RxVYBAJAsCfmnAoAm6unwMHVOb4z/9Z8NgA+rEO7yWHETU0H/fT3waXsJAJb+nxgA7LoH6wNKyUKhkIy6ngoAGZdYDoXHRzbew7s3V//otvEX73C6lttWPE8Nw6j/KFX7zwNgqv9fBACHoDeSsUKuZLieygJoghRSh+N9mw1HSv3JJuDFaxzcCAYAE0DZdKujU9f3PABm+n9qF8AA4Ao6KvUcACCiC/B9bOp4ZABAJJgYNELZ4RnOG+Pdf3Ay6MVrGxv5unuABLCG9/+fFi3AnP5vDQC6MXJSAxZ9slCot3ylyxp6riX6LQC4HMEg1y3FUrFkredywM8GHxsAaz7feqUVyqpfdrEwhHf/scmglVcf/TwO7iyewfkPlXU9sIHdf5bxX9/+pP3g2n4qlg7xb+z38XqdmhbM5+1OL3Xk0wdZpv5t2UslGJoPPwaDPu8N7SUUkq1h7ZHDkRc6uRgGAjL8U2fQ8dgAgE+9vWZaHV56aCTi2z8VAG9esnbr4hUlgGncEyv8MPP/25m1uwIA+/Q40DN1ewmCaCi6LrVaLRwg2arX65KuGDgsSvR6NVI/9mgSAJw3KINmC63luW4N7wRqla7s9TqeAgDOShtYwCG2qPH8n0oDX7zeBOvPuycn42w4HcHzv3QBtG7n7gQAU6FYL2b0jF6/VRuNCrnkohQKo1qr3+sBBnwa/jhqFKtBnTfG5AAAHyfoOYgEczsC9xQAQLJZUdIQCFwQAP7QCwEiAB7eM9nFG+AmNv8tAWBds9/aBWAZvtV0Xekpeq3UyMVMSS0Jfi83qkmKIQhU4I/MAD98CwD5RKWUKqSSfbH7JABwBe2JShkrhGkowebbP3G8/Mqr95vYb1ecHODsj9Zy/QcEA7co3ZsKOPeEI+iQUfmtEZz6qdoLhdiizIAwarUGAyQGNNKHsHBTAScYFq4DD5gsiYLzCQDAcfm8LEtYGLILFNn2Z/qANy89m5vYAUwEoNTRq4v6hz+3BwBL27rkgd6Ckz930tHm51AKpqBLmKEglsuVWjq4g8HgewAI+taMEvx0o5eBmOIpAABQHjRD4dgJTiVxb/2BPgAcAM7/KxZPP6uhbERRqhvRRQBkut96oyw1zVuARMIl6LUGapdUj4qPN0rtuhQ1UHqWDBRdqrcRJhDaqQSEUatjAAIcjptLuPN5n88pS5gP1gW70+V6fAAgkQEaGB4e2zY3t7YgDlj54xzARzfvBwuwOxqqoWZf2QhElyuAuG8DwEHxnpfOLLVzCaJSLydjSRW1r8Khx+nhhkGDmxwLk0IFgdO8YqXX6fRro2RSTWKIn8y19MFAIEpwIwB8dmMvVYi1Baf9CQCwlg8GE7KUzo6/4ExzfuvP8wHgAHAAnN92NByG0nWj+inwaR4A299L/CAAWHNYMJgPJriKwc4+M/u5BtA7ZSCweX3zjRqWs8AIESPBykCRauVIkoEG7EBFzLgSmha0O1wU/+dZ44fXm89rYgsev9HzPgEAvF4AncPVbWTD41MbrTX403wApoC3/Js2/mocDofagfXqUgHQ9yqAyFU7nT4vJmWCOOuvlEuqzPIXav1OT2T5Hm7GDhYBMB0azMmG19DrIzAcuVgyliv1d8RB14XJQS8dfXOEBAKgh9VhuY7wiH0pC1Mj1hxCG1sEqFh26+3/rPxZDuA9jdotXhTG4VDEugGczwDc1F4907+DhjvhUBaxU2ug38dM3aim97B/D1V9GwA4vbJddjor4D5KZtww6u9UBJz3Ndd6RgBwentAA5OtgffxAWBVBejNsPpll9ql/jAf8OYlW65UPFSH2aauBLaXABDo/ggAzPkPdkqNJJrwZG7U6ivg8l3Ytee6WeHLX+OEAS0Y1PI+mZxIDOOGAqBI8C60HyMAvF2xFkuppR73eHVBSwDgsFd0eMpMwB/lA1685t1+3sYXz9RQONs2KP27RAC/DQC7Q3O5ut2uS+j1R6j9mAqxnGJgNG9d4t5O0NeyfmCnVxR7CoCJeESt3xM4u0bXAxYA1pxePQlhY0/waU8DADAB7bTlA/6oOAAcAE+rlS7GYTUd6ejLAAhkXN8DgF3m4OxXdkD9KlL4XEkyRFISd1cAeBkAgmAJ8NJIaVH6MFUo9UXzfsiKBNbsdqMADLMjPF6DwHLbcKKaDof3JpQNfvkHJQPfvAST5ufdtr1hCCPAaz2AmbmFDzdJJiEMeq0Gsfdco64IHLvew7nw1paQWwJgDa8CUDTN6ZRdODM0R70gDYTAnFIgFhTAB8RaIniMpwKAEUmH1HPUv/8PKg2kMTA87/FcYRFwe6kFjNUALAEgaJ1TuuJ3ditGHUhbAQ9/3xBlLejL49Wew8VG9d0BAF6LU4AN0DhZ7lYGeg0jSggJpJ4gOGe83C60kngjqOWxKsQ+fUn270SrDvaChBvlmokzWUc+z1YbrK0JpVBIPUML4Le9/lN8ADgA4rXF888QAZb1uRYgkwhmrHv9Jf0HIfSDwN/n7NVycExjaqStVERh7ibf0uVPn0A2z9+oRQACuRxYAdGpaXYvE7ETicVGnUTeS1zDsh0UkOQRShC8g7DilW6C46j8AFU9YEKJyNnnjLIkNE3Lc3IeJ9Z6KQOAbslHm256fQDAIZtf/ccEgm9ekv49k0McvKEH5ug/+5TNALgRAF47hP1dqZGia92+oYHrvu+0yOsm2OsUDYgtVYBASQeECVMAYG1gx5XHL/IOS/8AgKAsA48E3oIlJ0BPRNxaqOtsgWW9VpqXcrmMf7VarZok6YjgLgcoQ7U7Ge9A/QcRAE5RiYTCqX0EgO3j6zd/RIfAyuutTfBpdAeUTdexCWTJAmS8ywBwmuO1nV6XCyx0AVP9uVqngocff+qhAeD1yoJSIy6QgqdRLAQMSvCtvshZISKlmNEUBIOYYoZT3enr/VqthFUIVIaAdxILF5EL15KYsm6UWrpB5gNnDVOGUsaqBvQDPk4shSAQpFU2vHv1j1g2/GGVpzHwF+NYKNvQo4HtJRewrglLAMCDge9PEN/jUi5WgKi/1uuJWNp1zVo8DAB8eW7QaWFQCFygg0ll75pvTWyrwAIrnNcyCaK5HqaLF0ylcsOqPZm7dY59X+jHy20dSxMEAfxCB6RHDwoE1SHXQ2n1iADg90Pc9NfHwIu3Hv8mAGAX2wBZCmi29Mma/3wDAJxrdp9j0AHnD+9ZA44lvEle+hnnTB6KhSMJ4+As6iUKNJKtTmXQ1Xz5Sj2Xio0qgtOeQGMvVsSeYeitGl4xqyr8nx1x+JRdQo9AamAQWnPSB8G/a/gfGmAnGGgK8BUZDkRFYdTvDCp4MTFQ0unsngcHJ3koGPD/xRdOYx8QpYAucdx+3VjfXgaAZpZnLroArPH0ihJe9Scj5c5A7ApmGZjz4QEAthetwBrX7XVGORYTVipyfk2WABAFJeMSQDsDBVSPechkUmXGHfWOE2VKNVRzp7OzAycaN8aJ5trKypzgdyo7Ozv9GtmNhWoVeKgUugYAwU4klE7t87Tz3mPuqf34FzYDb96xjSy7o2w41FBYE8ACAKzqzDmFYrQF5najBBQs2YxL7HYX6dcjAADDQ1o1CX93DbEnNfCGOVcDP+116aDgnC7udPr9EkAjZtYekCnPUfGBjrUHFao6FYWBMRh0u6zayIoGzb/Nm2mhJ1Z6eq1h0oVIroGMcZRT8Z4aLF2/00g3w2e7Hp5tTyninlpMC73+a6YFVjAHjHs6j5NgAPrG9qfqNQA4bwJA0ClKcXiP1JxkyJpG90CPB4DZbaGdAzaI55oWA3WpT7RUarCqIjqsaixFRaadzmCnAiEAojOTEOT1TIJL3CD4uNbfeJuBlg2MSZ8iA4lVLFc6LQQBoqCQU9Pq+MvR6S5bn+ShEGrLtrn69q/oCT6serAPqHg+DKvZmhKlwY/zZYAB7SaFYo7HiCfB+pd0kXOw9Mt1/TsfOhPncNgdnDDQMT+cSpYGciaOuecpvcNTT6rvieKADvd0aZjDygg4viMmzl1suXFPmLMQghhol3PT0rYxYWCCK++3bIABbBv9+NeDwIu3EMy4AcqHOHxRV67NAdxevwkATi8AYNAGK9vv9QRulut5fACw7rBKq4B3DpG6MUpOq4oLcOyVHh5YmZ1q9sPzCr4FAL4tml1gNUtJnFUHzzj+cnxic9tsvJv2Fv4FIUCXQOjJrsJgAOrKdQCsa98CQNARLbWBUgGf4p4WAKDVSsUoYblAsjZiB79ca3XA1wsCtp0xd/HQAMB/LvQGg6hUb1OtAmJwfHi1z+M4fUwO+zdt/r8WBN68JP9fnBSG4Wz8+hzIwHbGeTMAnD7c8lkxukKF5U+fFADYXVbpw+GHAA1Dgrph9LxeiAO7iRlfeGAArOEjavT4sjygohdMS6nDr0fnk6LNzXadA6P6+NdZOr7yCsDL2zzF42EIc8DXBZPANykU7wDw3Z1d9EwzNgvy0ACYuzTkKgPKC6UK/UHFcGo+8x45aF0+W9fQjjvI916Ll70FyA8AA6Ko1yKRJoacqrp3uV/k/TZqq/Nvbv5ldo2+eUnLl4oX43AoW4oGFmsA6RpYs3/jRPt8mBqd3fU/KQCwICTocA06mBxOljpGxatZ+g9aFuChAcDUT3wQJ5UIRq+nl5vpZhr33KaOz4ubNgaArS3bX2Ph8MrrTXYJhKPg0roe3d5eBsCSAXBOYwC7j/VvWu/cEwKA9s5jnh5cskKZwUKnJzinmubMoP6hATB/i0y5ZyfQTQW3mtGW2/HROSjf72GDpFb/CkbgzUuqbfKcjMED1KNRAMCnawBwfgMArEjTOa0HfBoAmAhgpz2fl72VPkZmuZYhdjnHrCfhsQBgIYB+OdnrRBqkl9O0d34IEMDdMoiAra2/wKLBldcenpYBHQ6z2cj07mdO1r/L4kxA0N3bYw6GYiafyVIyAkAo9iAcSMX2OoNM0OVKsCIO788urPihEOcxXwySUgKFUm+GsrjmNnZ8MUEAbG1h/+jvPkbkwyrvcW9tei7VcTZdD1SvIQA3Adl/rXBLCFgKMny+NQEQEEnG1EZHlgUaXnyfjSV3tUoYWHQTsixKDdpfqCaPd3HCFgLA9u7Nb24AbDgMii8eDofZuFkFtgCAjPP3AcDNCvWB7QEEtOLJFCBgZyD8CgCAuLrCQCo3s6GQqo5Oix5gg5tuz2+OgA+ruA7Y47kEBpCWqjcgQPP+NgCwMLCcmQEqmOgCBBrJQizX74m/AADsjsLlGhj1eCidToaHR7s2G42R8PzOXgAYAO5e9uziNoiSPr8EaMoAfjkA1jhHIjHfRDLrPKbvIwQS8IXQK+WQCvZETlt7SgDMAk4HJ4uG1KR1s4cXRZsHC0Z+48HSK2AAEAGTs7GaTfej1/VPBuDXWwBziNS01Gexite8hnAOCAGxmpixa78IABR+iu1mCNjg10sPj0um/L/vttGV12wP735BzWYbvZsA4Pz1AKD0K1by4g3PYE6wmpeuaREfGIy6epQRqGsZ7ukBgFkJbFTyOiui3kinISK89NgIAMXfFAFgAGy0/+IM9D93CzgPgF+ofyeLt3u9yiBarYPg3XxjTvBrLOFq9SW6sR8MdnZaqa+pZl2UMT6zxg/c+gnv8LvOJTxMAFDfAD0IEpJ2KBQeAwIwKej+XVfMrLzGBdzu4v5nAEDJiC4DwKwDeHRNz1IwweC65striWDQZ5flys6g02/VagVWy0slfbMC3rnKzlShkMzlCqPRXutwLxVLJVvYQaZ50T3M7qh+qH+BTaK49uO4PNLsCpl+rWlWGow1rE45SoJlimjV9Xh8aoNQ0O35PdfOgwHg/biB/UwNZ5tS4AYAPM0+qKClfaq693oTglwRDF2C8051eanUbL4MfDkr8LVKulOp1OLMsWSrImKxOqji+gzSbwLAywAQXEz8Uyci6h+17HItDEg1qyLnAWBORzEEXDIVi51DIOB3+/2/oxNYeW3zb27aivuFcDZUUqqfNjZmi+AZADLcE6jfEh+28tgxrdfBil7Q99xcIRQ0+e12G61+vWYKeIIC/UdzkACZBgBFbafSNQtHeEk9IgAAIABJREFUbvs7OGdzSc0U01zeiXEQVlWIn1OTLL7e6Y+xtKD5Czm4hFxvhtTh3i7yAI//N3QCK29W4bXZwABgL6he3bgOgHXt6QBgpzdSxEmCkSQr7WOzxEZYvt3vdDo0LIgNkQElsHJ9kJ1ep6OjpyiNRgwIWC6qljoVl3lD9ROZXsGkH1PRQah+vM5EqlZpniG8HPMViYJ3tug6mJcdggREUD0o2tzYP/D7OQHMAfj97sn+aBgOlaIbn64B4FPG/gQbQTW8w9XgfPU6/VqJDZSict5cuVSXlO5gGu5Z5GvujC7Egwo2fkntEraPpZJlvSLIguPWW8XgdTiw4BTbELG3YDDo4MAqxJU51nSuZyTJoJbLNUalWr+vdxAk7PYpoWkJmmMkC6VQMhy+LOLgdbf77e9WIfLmpYcqms9A/81qYPs6ANa1tScAAJBoeMMNvU0T4qiOP1co1Vq6IXoFLzfr9XNYZMx3wygAy2jLsiAanRr2deT62KZyOwDg1MEEaH4gir3eoMMG1uVYH9nUsVwXqkRkaAAg4LxjhKuI1VF5h0MYxEPpbGofSACWCq3+XkVCK69slAOY7GEdSJcaAZYA8CQGwL4mDHQ8+fSGYkEvvJEGXeaC+zXp92L4ZTeHD8/dUps+GDiai4MQsNeOYFIQiIDgZABgVULfC2k4ubfTsdiHGXLEppOMUcdW+JkrsOOP9fBWy8i0CQGnYfUABhyYgIHRbIbVowm2j/l5fuu3KhJ68ZZ6WoqXnyEEqK7fBICHNgBLd+3kaCuG1MZ3k1V1juDtwxmxa/Z8PsiUT+Kb0/QMAAvaNyu1ZJlz2s1upZha0HteWioVtACAYl364wW26e57RlSqj+aagWi0WQNbyFqsnwjEmAqwDl3HVjKceo1BqqqaQAAXBtYA7RdYgkpFwn2zJ0WexLb5/vcpFl358BEBMNnFOoAyWwi1BIB1+wMBwNQTK8snOy7Lmt0h4FDIUY4691LhJChfAZONpT4sy4LDgPH4UlvwtLZEY3aATRBiQRp+nBYl0Y2Rl5ONOg4azNUUwWuOn4fgjGGFkUPM3IGfFsWdfqtUyJlRJh5kTDGBCjs0NmDGO4X5Ihfzu0QQlSpS0AbusIpZnafMkg12GqGmujfBndP8Js6X/vib1ImtvHnnd2Mx+MlnHAi5Ud24RgLXNecDGQATADgohKY2+Oj0Dwb96RzB3KiP97gCTuPFGIpd+2U0+xo738LCm493A9MxINZQ8SAbDDErB87oDTTmOannpStjbPNmj0ZDrLlEV8b24RbrI4zRVKMGNRPhJFPSuFU8zFnJ3gVZ87KOEUxTI2nsYNaKGlJZ6iLZjAAK1HBYPd73AAI2sVx0c/O3qBN78eolbgTwFCcHaigbD9wIALC2DwkAVjaE+neCcdwB7ZvGNldrYUBl1tjQsnazlIv2icjivLAfYRadDrXLTN8tAwAUXKnlYqlCEoyA4KR/IODuAYzd6fj2+i2wP58/s5ijAWdeGeDNQsVFN7uJ7nLtOMddq0yjS0nN5/SafYeioUSlGktgJQssPaWqauFqUuRpBivWiPzypNDKm9fvebffY+MnFzGcCGqqfQEAVj/4AwIAkz2YbqkYrVouxxh0roQjRLGWLxic6+8XmWPWJRZ112p1K/4G0aOGwQJDq3WLIWARADgTRAdymVJrnZ7g0ggAaCycXgFHRtDJB//zOVYotfQdMPZ4n4MhHGscuF5IaM0vmlkiygzavXkfDcSwuzCK9AqVys4A3EoJ3ArrWEqFw3uXE2whJQz4f3GFABx/tgMdXtExLQXfWBSzEuzBVrKaLgDzqXIFAr4amx2O2m8ZvQpNftM0XxDOlBcCucrODlrTUqmQit04yIHGzAM/YwminR2cPJ3AUnBHojtfBAoWRGyBnUmWOhVR02TO1e2Kg+7AAO2Dd0ipRNslSenSYgI2VIjNAjJjT7agSuawAjnPaV7abjQTjk0qovfJl6faQNZcTK5B6OgEdBo6ElY75wCBIjWOeH5pldCL1x89JgAmF6lQKN2+CQDrmvehAQAeJTEwWmzqI9DlQq3fq1TA0SYAa+tdIGTYq99T+iVzIEPqu2KGXhCAY/c3PFC3m7D6gNgNkNOFXQPAzZKjTsWp+XCMIYR6fdxbQcNHwfoYgjWUcDE1iY+DSSEvXe+KAgAXBCcMIf9H0XXDGPSwARUjf82Z50wAcCaXgQeoVJAXNDCoBAgcXRRx2RC+9b+wRuTFa5tnc5MB4HQvnMWRwDcAION8aAC4BAMHCNP08FgyUpawfRNHi3YdCTK6QgX5+Gg6Xnw56XJTEsa8LMhRACnMmWq6kcE/FWOkppKlngj448RKv0a+J5lstCRFrLjILiEv8U5jlVkHmQsQ2YOgjyWaG4VCaj41gHnAxoj1IQ9Ewemba42gcSZYK4qDKAY6tRHG1NTZvs1PEwV+WY3Iyoe3eAO4aeYAcSlQSbkJAA9kAJxsWBTdtfZ6LfPGRs3VOoYXjXKGjm3C5apg/g6b72dN3skc7pHC+/65ES7WGJcRJupS5n0REzTnes9qVDYBICe6RgEviHEmiGL28qm5kj4QwW/4KKsI6p/mEuZmB/Zo1ki5gWMhzBDxuhmiTGCk0cANGDRizipHNxMYPtwyk8DcZBiMwHB0AghAAPyiy6EXr1YxEuF5D/C/w/BwGAo3W9ctAPaDPwAAHDRgzefT7MCtxJ6OE4RxHcioBSE2i6VRWXlNE5QWDRlLFQrEDRo4iQUXS1BSjW5c5gW/HAxwfgNqKD6Xu8FsQkfudimbwCDACTu5JF4QK7WUSoF6o26IArC3ILvaD9odTqfsBUDawXzjwJgdvAMYFczJUpY5UpfWnM3DgeWDMZVh4FR84AbaLG8N9AFMTyOLlYKxS78N337PL7kcevEax8Fv2TZ5/+QKe4Gz4XBEWqYAAIBP6/b714IGLQDIawlXpVdi0XGs0N/ZEXGIsNc8bWJPKpXN/wgQ2Kv14XhWKsCx6Pb9enev1eKLsRx65n6/VsLwGzWBk0HKdaUrzMr0hIqeQ4efI4wU9vo9jPATzO2z6fa06IJd/ylSCyeN5OaTwAUzI2haIhQaJkVj53JsFpGJA5xIoyvAbEUrkU0fAFiDfiSUDmeHl7R21GZ79UvcP+83d8IejXEprJpMN67pf+MTMwD3BgBFfU6fpiXkXr9gmumaIQ4EOCQ4XcLhEoCU0dknH4/DHTo7lYq5VIQN9/w2ALouueIyUwXgZ8vwOCrTA9K7isihihGDlRZm7WkJTanfM/BGH/65byZBLDil28jCdKlVLhcvg2GXFGABPRFduTBgiQkUmijVQ1Yo1Uuj2Wwa9quMSh14fhHeQjOo4OSuUFHaaTUcLlwUccSs/+n3jr55yzP9857zL2NcCpsbJdMl5ToAmAG4twswqbWjWxnUUqmvX8FAt3oy53NxLqqnQfW3qL+fjQLvkPJdjMzTuNbvAyDTBWjh/StOKQCnwCZ3EDOMqY1a3WD5Q6dP7o3QtaRw9cigi1lAEkxLUUEHHH0re0Pj4ODEE7UjX4O5HvAOTi/HhldPC1iCtLKaAyxQ3IqLDaYjimLhHN1nCianxJRBxjXQ09lY+HBCSlh96pzwm7cUgtp4T/Hy6xDLQFutZDNdj366BgBzIsx9CaDZNSpUWjk8mWM2RZRq6zBi6vY6qH5UGHDyDjIogZ7WvAFmI8Z/LKQMs0ATLDgtHqMIsdHugC3m8j47bpgtJBt1eH4XVaBRfz8lnUH5gBu62Usm2XQhcCAUyFvE0G4Hmmo+EdqLxeQQBPw0adhFA+pyuWRsRgtK4IxkKjDg7Jrm4HotCLvDp5iF4/1PSwNXPrxj20BsnsnxeJwNZSP9TrvZbEpzKUBTAg8FAC8E4rIANh6PVWzUGciuNfSJoK2MKHZahSTG+7gWagfU77Wb9pg1/eKmzh8DYFpPhvNK4DjLojBgM/5SBdw+2O9VBE1pIMhqwCwStMcWowPB6MrAJKV6GVRGJzeGl3g7gx2ZPaiP1YiZAEBCSb/VfK6BehawE5lRCq+AW8/6LeQj6EpwdGoEIhPKFXi9gDyxV06nkwd+ahh4Uh+A2T823doP7j+mZtMlXRmUm81IdX17GQDWSKgHuAAG8tcqkH/PSQbNWWXllSI4RDQL+A71jYFI80XnCsRoJKTzFgCwzwDALnnyPs1rGHq90cQhTikaXlwLp2K5foWuEkzWRz6/NcpZqcVSXVeo3I8ajdh6e+8UAGblMib+Xazu1yo3n78w5dYSXQHvFxUJfNFns4wEt+bgxSKuznBwejqkft1FUww+4MUT6v/jBNN/fk/x4nCshkOhmmLoUiSSjgeuAeDTzwLA9PlWHS5NWdZLLOlfw/URXi1D0bFXxL0SObw0bSmYUXVO63ZMdVJ7960AYP4TPK94M4cGRLPLXdHo13J00Zws4A4LFbg/qhSXTeIFEroKNk0UyEerT8RQticy6xmmf+dM/1MAWB1pJgC8FgCsCiVM/WgJF6etVSqDTmsPsx5EcHPwe+IeVJxAWA5lxydFHDH7hKOkIPzDOwhMAJ+mhmoapwFHo1Ep0kyXo2wz2EI72L2qu13oPrFPQuYEpR5htKrfA/y7BJdTk70aJ9IlTapZBquwXIhvpWXvAEDrXxDw2Od0SdjDCx/GMNVSD0cI2QFtGObXSuzmPxkBL63QJEBzSflcVvj6GbjN3gMHcwyYrBjotDmNDFESHV1P7lbaYALO6E6A93ieaJQU6B/7EzbdnuIpHP80HPsu1v/Xm810O7r9UABgCLDGr2KFbzsSwTvRZAvQD7YXAMCYWjuCcXZDigqcyxF8rK3PDgi+O3T1AJruQFDmpTHAfdxfTnUIuVq/gyd/cTvxAz4/3gUA0VHVJEsZlqXOTisdDh8Vi24/ywg+RZUYS/+44fxPzoY4DLqsRHEQRLSWbqal9Wv6//TzpI+MJtp+oVfp1IALoZ5LHTCwXnL9dlwj3sdwC05/twKcPPEo7z07y5qd6xoKXj4ma4BApwHPvVdgcRqus8P5hlbVx6O0u8A5GAgDHWId4DuFAkAh16qFw+EDvBSiikyP+/GnyKy8eo+tCcVicXIcC6dD6bYSpUkgSgkBAJ8uA8B5HwBgCtkp9IBf5cD/qrm23hOwizsfzAM24EzWUipQv3pXpp5udKiPt/ab47SEDGYAHIDgNDpYIELFfqNaBy8ihdn82Ed5ehwconFd8DlIN9nldioZDu+d7+J8YYaAR58f8GHVb+r/CCfBputWB1g0km5G9GtDgX5+JIxX5hIyS+3S1lA1N6rh3kCq3gF+xDk4g5hZoSUKjpm/eCQAOM17GY4VmNgHpVSMhYbKDl4xOGfXVY/z/HYzbsRNmjhoOpdkF5EAhL3j8wnonrzAIyPgzTssRQP97x6EAQDNVpSNgYvqeqTZjF8DQEATfvIdccjdQUXsKa04unhwfKVWTxQ46vkLYngld+t0GwyBWcbM7lETjvOR3v/p3EIOu0TXBqqKYYcB4GOZSHPQmfNR9e9LUDUijrjXKSGSyhXAMoZjRxc2D0+l+Y86QeIF5X89qH9VVbORukHTv8EBRKUmBgGBwPbSULCfVYhLQH49YvW1kUZdh6g7gbtmsZo34ZCFfgkDr5Ii9pzTcrvHAwDj7EGzgHNtTXbVy229K2CVsKZZLusRm5/NiBavG/G5RJfcVfq1At4dJcOqOv56vGsCgH88HvDiNU8BIFV/hkKRagBYPwHAiNaBApT1wPZiGPBTpWC0V6mHRi6J+s+NSp2BkMAMOiIA32i8D2gC/kt9wSt6teBTAcBMFebz9jwyMowU8aJWm5HWRwcAeRl4LxzrXVkEHtqqlSKhbFgNjw8uiAjwj9c6+uK1bRO3wfqLR6oayjarmek2WMVop9Pp9oMAAGm/VMb7czUNrF9SBIFd5KKl1XyaV/ZiMUgM2bgX3xG7Pe+wZjg+JgCAewIvMZcI2k3CZ2V0Ew+52u6bCGDNpmZXOcKdBl5I8XQ2PRymTj04pMvtXv3wWAGAmxYBeHAdNHYAVqfjP6MKAKBZDywBYF27OwAg8HPIpSaW8GCB1MBFLWU+zJ8n0M/KsoHTXLE4s+dljtc+P13L/mgAELzBYNdlbZG0jMJcg7/d+QQTMGYAsK43E11RaoZCwARO0QmAkh6HBrx5ifdOwDUvY2o4m64G6vMTYMsAAGkZANrdp4I5Kb7X2yVJVwYyWllq5sOkLLvdkQdYC5YctSqiYNbgPPoYNwIAJp8dWDvkSgQJdosAYGfy28uwHwkACTSYYq9Xxrax1HmREGB7DCdAm0AAAMVzrP5PS5lqYG4QdDXOosBFADiFnwEAMG4q1Ep0aWEjAwC85/i2e4UOkL9wstaRE45Mgq77ngYAWMWfl/WyFBUQAM7fBADMAohGpR4K4xZyBoBHKBEDAogFILx/fy+czoYkY3ESfLXJosAZAOCz9Z/gRWb9sJOuTtZmw3TgG8E8Jxo17LWt9QfybK3vkwDAjl0ciW6p0egMEnRfPLc32uWaZq2fBAAzmY2TG9RxoOAR9Yvw7tcrD08AaDoNjwEgboONzuu/ygAQXQTAp8zPEGNBYDdi1P0xUyoAgJMN7AJRR7jgTws+MQAwEZQY1AqFfs8V9Hl/LwCAGJUaIEA99YCaPO4HNwG4CAKH1tvO8Pq33a0GFsbAR00AbM8DYN15GwAszgVHrQYtALis7imsBcC8L2Y9cq1BxYV9+2aD6FMCgNvpFwq1nvD7AGB2ww1BYTkLTmCXBwvgcT8wC3jx1o365z2nYzUUiijb1cVFEAwAygIAqB3kxwbgGgBMtjc3qQENXK9ejuTYkl8xg2WAZmPuEwIgv8aJ/VxqZAi/jwuYAaAiyEo6GVYvwQcAAB62QujFazcYgE235+LLMJtN9jHet5K9NAou2k43m+0o0sK5oVDyj8Ki6at3LayOwO0h2GWhYQ007nnfwc7bWCqXLOkVc+2ey04zAlwOh/1phK4CnEqjUNCFtfzi8snvyeO/MtpCjmWJAg6UPNwt8h6P/+WLB0TAyofVrS1cCD85VLPZcGsnOgMAIGDj0zYCIN1WFuYCrttvA4BpyQT7SbMLxuFYw0ZJDce8SaUym/eTGnWMnjHd0epyPsmJmweA12mUCwVJwNf4OwEArygEYc2rNyEYxFBwy//xIcuE37zDVaBuvng8Hqqh2g6x/XkABKLtJgHg0wwAAc0r3zoxMjejx1q5imYfa+vxIphuPkf9Hez9XTKBTwoA8EklIAHiHAAcC1MffgkA6NgQACplMAFnHh4A8JBlwi/e8rjM1o2bgMKhcl/HZWA/BMD67QBg5k+xq4MJjWcDqdfKDauDLpYb1To7O4OKfM0HPjUA2rlc6QYAOH41ANZwB0pFQh9QxHId/9uVlQeLAG24CGrTs18YhsNN2gU5l+zZJgCUgQPUozMAAAW0c9yPAYCz2LxYAc1motSwa9Yc0Jik227qk6v1ez2RZn1Rj94vAwDnFaXCqGzY2eQZmhyRkGel3b8aAILSDIULuwSAhyMBH1ZxE5h/4jkaA75a+tKV/zwAPs0BQPNy3tsAQPZiUT/rpMFd2rPm7WTSGpU2ENikZryT/5UAwIFhhQICwKzl57hMtMpqUX81AIA2eRODRig8PicArD5UhShEgDiVzFM8G4/D2VonsFT3eTMAPq2bBuCHLkAWjQ5u7qZF6knWR5kr0GytuqQrXSqvp0JvqsbgfqUL0JyiniuUFQYAhyPByfVyXKKKpF8MgDwBQK5lw8Mrqtl//0AsEBwA6t+PBGCYbXSUT0s3vtsUBSwDIGAZgB9zALFDZd2jUo017Et9Hdg+TlUTcLWHzCVYezQpQRB+FQDwlHVdCIBG1HQBDs0lgukqG98BgPcJAbDmkCEQHJ8RAPyv/mflYRwAEMAtP797iENgJeNa1efNAJitiP/Ri9cGDWz07fesGXqzzn36xzQ2HT9JuG6UJwQA50rICgJgzZdfC3RdXELslQq5tkj9h0vbyOZlfhjUY1wZkwvgvGsOQQqFh0cYBvr51w8CgBdvUf+8x382DmVDdSUauBEAgWUAZG6/7VvBjqrW4vTma5mvxDfU/3QAQN7vcsloARQAgLfclmUAwKiQqwtzI4gd+WnZ2CIArE8eo2SAkcAZALYeDAAUAWANwAn4/1C5owcyn25jAdY17y0B4BL7WNlrOO3fBcC35eksgMPRdcnSFADxbpcTDYha+l4nI4XfPPXTwZCPuHPocQDwYZVHAHgmX4ahUKSj6IHtWwEg47ytBRCw2z82Etes38T+OwNAEFsYBTAABBycrMQLBaxMuuYBrEsMa/6/aH4u2B9hLe6jAeDFW55VgR0Ns6FQ34hG5+b/zyWCqlFsC2lPAUClYLcEgFjDLJ8x/V1+VwBQX79cqWEegAAQqcsOl14GC1CROWvF/HTqH44E6xmGgmsCaCaVOQamJTyeBfAiCQwPjwkAD0ECX7zC3QQe9+7pcBhKl3TU/60AkLk9AFyVOs5b6Mm3vP36VQCAXySR6ApA+golEwBtzpExyqPUqG8MXDKOdZhmMc2tZCCY2aLcFv5VGBUajwgAjgHgigDgfgAAgAPg3byN3/8yzobigWhgaQfIXCq41pwHgOb03hYAdq+Ecz0kIWG+0b8tAJwAgIHeoLsAAEApUnY5MnIdR8DgwjncBYKSs5SNesc/qcJMHh0AtVB4fFpEAHz8cG8AvHiLReC8rXgE+k/rgerNAECTH6g30+k2TgS7MwDWjYaaijVwAm8Cp/b/SgCwfvQbhG4p4Ijv1ECL9cqazyeUIvGuy4EmAaf8p+bVPKdwkJI1nRCngrUGwk+8qB+1G5qpYAcB4PO5xw8AePnmvgBYeeWmLgDPSRhnQF/bBL5oBdKRdFnZ2CZhSYBbniyvqDeTKSzzNQSH72kXSy4Oh6AaS3mnM50h2bK2iZUsew5B36hclfOaDyxAXM90ZXlQb+BBT6XMk4/Ja1wHha7AmFsUZTFBa068Ob3GnBSEH/PWFhv6RHYkMtZYK6vl0TlbluCaNcPgAAVgnHlHMCiUqDAUAfDuX/cFwJtVGzHA/VE4nG3euAl0DgJlsAAmAAKZOzRJAgDEfkRVY8mI1HX4nF7nrwEAt8aBhRcHemlkKjJ385HOtXoc5/MajVy8LgiubsYVrSM0aPMoHHJz1Q9t+5luqHIJHFgNKiz1mjWO1vo4WmRskkd829ZYJJG3BptNAcq6gua2ZSwDIBhMdCNh9ajoRgC8vS8AIAKgfuPicQyrwL8PgMC6FG9Xq5+YAbhTg4RTFgcdbAOLSGap1a+RhCBi0+1oQd/sVLNVguZ3Sr1KAkh+NNKIl6OCS0skOEEwDAPnktH8P7q15LiEWdM2vwkQN1rht7vdrsHGRUenggQSv4fjbs311vL8qZ9/T+ct1xQAeE0mNcPh0yJZgFf3BMDKq/fUcF48GY/V0GwZ/M0AWF8PRNlYWDQAd2uR0rQMzcFWjG7wiV0ABJ2Wz+8ZHanVAPU3aLcPE8sVWLOF8YT3Ki4w/KLUbEQibUWQtYyGu4Vw9hv8ofnuLizPml8/F92gdcX1NkjZlDhJZE7Yd/C/4c9VqxtR/PcLKWSTC3wDAJxcboZiF7RlfvXNPQFAe+BsvGd3Tw3jDPCqVQD4LR5A5BAviu40Fo4mMiVc2HAj4HCnpwXA+pq9StSMdgqTlOq6MeiJi7K0YT7ByZV2PAcaqxsVQ9M0R0LLmIkgAYN/XZckCfQ9U/SCqnOWmIvDks2ZLAKiXGrTfFEDW+NppQTalkQ3MatFMQHgdHIJoRoPhY6KRezgBg9wLwC8YLvgef5sDAywpbArwO8BYNoNkrHfCQA+SrEk7E6777ZbGR/SBLQjppWnD6W+Ythn6dvr17pOKgd2CeC0yuVIPFLW6RJLMLpgAHU846Uy7oKLRPBPLhdJzvuPArFFNgFWtSQ2PDwy5eDgoH+4tzeabpSEf42YQLvQrtelKK41Z4BMWBiwLICcqCjlZjp8UgStuYuv7gmAD6s0bsJ28VVVQ+WuOfvnOwDYZhXhVghwx5NsTtl9avV77d56uVQus/3xbD0bd3PBr9daKud0+oIZsd+INGoR1A0z642GdbZB+xQVWNpGZY9BhiD/d6N83S9aMpns7u7u71+cn5xenh0fHQIacrlkE6FANqEBJqGuKxhTcGZNigUAu6CUI+n0QRFHBPCrH+4HgBdvadhAcXIwHoaaemCbIeA2AMjY7w4A3xQAPwbBz2bSb8KXZvfKYm9gIHPHN7WrBfNsfxO3eJszf5sLj5Pp1SPJ0dFOoxkhxWMFW2GmcfW7+r4mp36MtrdMYYaX9zBA7AIWLq8ACnvWwHmiCmAPoplFx5Spxpu5UPJi4rF5eM/bfwIFWLkXA7RhGfDVeJgFB2CVgP7ABQTWPwV+eiycpaYfkwZE2I9hsMScreZiaiZlXAoj7/ya02w0EGhjV17GQRTzzH1JqAC3YsQjycPji9ODvRGmgEZ7hweg9P+7rcoX5MiNHd3XpTgTOImTi3MCAjgqNDyRHKAAnIIO4YOBywbr5XgkFx5fsWVS7nt6AGSANo9tclEYhrIRA6uAN24BAFD/+vojA8DOAGD/sR2YBwBND515GWpEoSBgdvto3eVbm8a+J5V6JJc6upoUd8/PT0/OL3Z3J5Pj//s5OdzlefePhbaygEXYB99wdDiiRYI5K3IgkhlPhsbHbFyY++WbewHgxWs0Q/BQx+FwON1XlMCnW1mAT0QBHzkn73UyDNwhie+cW1k02w+Lf5nL+maTYr1eQ2Ex23zItiyNeC65d3xe9EzYAUXl/CQCvux7fqx9m42NAAMc0BPu7p9cHR2MWPRgBRVJdXg8KeLtnef9q3/dCwDEAOG3O1fD4Wzb0KdlQD8CQHX7ngbgNgAgBNyBYzhvkKW4jo26l7m+AAAgAElEQVQjBS6/AaFbPNKcj9iuxW4mrT86m6DawVCigBn/KQQc7rtvAQAGAvjj9pO1AJLg8Uz2z5EpHnf2UimcVhreOycwAgBe/xP1v/LzDJAWgXsmh2E1G9GjG9H5PtDvh4Hrj1oEyXGZdntD5Nbk7xfbytyaXdPmeUM+H5zv32A15lxFlgkBuG3MqLZLLFqnaByp/GgPQrI9JqMF2RsdHQPdWlCQ23N1Z/0f7LtvK5umMCtA1gBPaXH/jEZIpw4vJ8z8ezzv/nkvA7Dy4SMbO3mFneD1wKeNjVsD4FPmkVO5WrkZr2dku7b2/eQiG88vmLuBMa/KmYqmNCx8wPRrleVr2piuAXcaaSZzhf7R2dXlJXj284v9fXTupuzOycXBwfElG8czA8CW23P69W76P97lbw+ArS0TAJSh8WCzDu+5OPsyHqe+nF2e7xY9FLl5+NV//+teAHjxjibPFi9GaijbULa37wCAjPdRAcBp9gAGQVWnzAW/awE4L/YRGgbbYWT59Ha7VCqbYb+ZnmuyI4+SGx0en+7DG2n6dQ9z7jMuzt5fGz85/O9X4G4e24KGeI+b3z+6i/s/gX9zewSAQJQ45YRAHXdPj75C8JEaf8FNsugYcIbLx1f3NACvMCr1e4rH4VA2rUsQ3d8eAJr8qC5gbS0jG22EQD0jUCnAIhewvLuyIdUZhbsxAzvNzWEzEhz60V6tBQf/9GKCWTTejd4W/Tr+Ycdt/rDbzg/H468L5I3RAHACvPvkyy3V/9+zfQi03Tb3T4nHs3t+Bq8DeyfHsTFeAPG8DVd4vPzPP5EB/DwA3rxEW8MjA8RNEAETANs/sP3mYNCHbYS46SZMdlXjTYCAFBVocBOODtQ0DOBkOZHZkDAZi0fbio4a5nWelYa1BN624cHV5SmGcfuzccszV7v8lvOICJ6fXH2FfzoeXgF7W/hBOp1b/O7lbSDw9fgCR/ncQXibzTz/SNBOjg/h8KvhXGunFlbHxwhcnt/0v3/7738yA/CzAFh57aZO0OJBOBzKSdHAbRQ/NQAP7AGmep+/Ck10lXo50oggBjJeEXgcpe67AQmTIfG5zDvlYSGSDQ9NyaLMUzBm53lcxu7e9OMazM1FBMy+QroP1uHkYKyqhb3x+MuujZ8HwPRz3nZ6MP6B8T+7ADXafsT6FqMAjAAwOp9cXB7B2R/C6Y/UOhUR98Yc2japf2v1P//vn/+6l/6xEwgfyX8JDgAMQPVOAAAD8NAUwBoFNVfEkTBEoxVPg1HH1Likw5d6vU2nHVlcIUWZ2B8ewuHZhMd8J51rD5KsqSwCgH2PLPwJON1wstTfyY3Hx8UbAzikYu6Ly4Nv8sEvRye7aE7c308ALWPRhrOfJhencPQ/g/JTKm6l6lWA0QIAvkz8CIDVf5v6vwcDfI2twG7/7l4olC3r0er2HfT/6eHHJQend55TAHAcVlz36mVy5QAD4vARzJOPDo72bkvBvp54eD9z3hRjzyv7JgD43bsnB2B2w7k+lnrHcDyz5yYXbuby90/ODr4souC/X78cXZ7bbBiqIVJstwQA+SZK/qDdB8efShZA+5IiComMYITU8Bcbj4Wg76b6X7lHCIidYMUrNZtOS4HA9l0AkHnovjeafuXgMt2BYLjMyN6q26woNdycgVW4jWQziQz+HJj5xcGt1D8+293kbXNHbPM7GRg/fOD3r8DuwvGvSYahK0orCV7g7Hx3YpJENCJgTignxJs0nZ/sn5xeXZ2RXF3B68NG26XwcQE57D+xB/QjPP3ISXcvTs+ODr+g2R/H1NRoD2sY9KiBZQGJihQKqwdFBgDm/++VA+IJALsFYABlZXn28w8ooPYYAHBwXTDvbcM1/R51Cia63UEHIEA7XA/PTs8xEsLIzHbyYwj89+iCx4yKddC+o3tUJu/fPT34Mh7G1EJNxwofJaDoSRVveb8cHJ1dnrDYcRoseNxTVFBnvWf611JAcR0BU8qHe+HxMvDk6hgMyVdUPvyuuIUU65N0PeB0eu3dbkLOxNPh8BXPo916fV/9Uw4IAXA8DuE02O07ASDzGJ2vDpccxSxNubquZeyzwA+YP+4LLDXDaix2cEpJeRsycYiGTg6+m5D5Agyczda/VQqW3z05/vLf/8Lhy7X6Bmofx6PXAXhqLIWH8uvXr18Oj87ghO9PMHHATv/s4VmsbyO8/eA5TcjwLM0Lp/7rV/YEEHkUSiWqXpJAAl2sQut2hUqlnAYAnHsIAK/+eT/90zxgQIDnIgUxYIlGAWzf0QA8OAA4IVqmML5dpXVsTvPWEJ7N3lUGnb1cWB2ODy/3i0CstnCcpQ0TZIf//YbrP7jc53nm938AgGIRLAoEXF++jlH9e+D7qYozsF3NROPJZA5rAGKqahZ8YHLgy+HB8dUl3Q/OTACzBjYWa3zb+JOfvzg/vTo7OgDNI5EdU8VQCnPSWJmo61K1WpWkKto/cITioKLHQ6Fw+Hji9m9uba6+uV8AgGUAm3iEPEdhNR2JRqt3IYB3KwW7ixtwVcsN5Hg5sL9GptvNrINk1iFCpWLafikXhrcfHDLR6i0bTyMtIFj68nUBBf8dY6aPFp7fwLZm4dYW2X7Ms++eHNHZH6f2Wh1T/QQApYRppXirL7XqtVKpgXdxWAbCZAhIACgcHYNVADCYKWWbdbz5GSxstglWAGHRx9kxqB30DmonoqfiyJRcA7g+9RbiuZfq9Wp1O7CeSSAHEsXBTq0J6lcPwf1sQhz49p76/8eLd/BGAEfFeeDZ9vrGDZ2APzQADx8G5r1eo45LnJNqrq4Y0XUaTTonSr9VUOGNg8O966YErXn4dnfP8brs+OgIPpxdnu/v8n7+WwAwBZMtW5gUcO9fHpE6PqcK/f7OYFbBDU8vRRrYF6DgcZR0HXBQq+3tjXIpGmgYG88Leogvh4cHB/Qy5oQVAZLWrR/FDypNRiuMqCq5r5Pm4eTX63j8MyCahiXsuEovAtYf9L+Pe3z5rc371gGuvLKxy6YjNZyN6HcEwM+Ugt0OAVicFW3HqT6y0dID0QX1IwJ6nf6IDuCX45MiGHgPTbXgzYtTduJY+tzmvgaA5Xw7eREM5L8S68cBdXD29egcABS8Ooq3B91MQGrX6mAIpCpWjrP64hp1CGLdp1UPaFkGU8wvyG0wiTGhPkNUPB16XW9JloDuq58C610iwNhm3jPqTRwOPVSPJxMCAH/PKhBMAlP0Ujwfh0PpmlG9GwA052MBwL6WwelMJQz2m822RDx8CQOG0oeQQIV39fDqYjL1rUQIMDbb4pnWN2nl9bfSvSyju3tydfCVdBMbYczfUYD6L4AOs07NsiJ35W7dLNGTdHZW62AP+tM+ArAKy5XAsZmwz+Gwo5O31I6Kl6S+XpfmpIqm3ylD8IMxsKhI7Xga1a/Gvlwi/0UAvL+3AXjNbpg9OBA+Yt6j3RoC6/ZH25lD5Xx2r6HD+w7ONldqdRS0Apk5layvdzv9WiFGJwtd/YQ5WjNTs0nh3KZl74EAEgDgL95P/hjAAu/hZP/i9BgDPrTEBdCI3pmhTTFloLeoElSqyC6X0GM3yVivCyCozmutvyCtm2Tuv0tLUiW+B25fqlcDGSr8pUXVhiHF4ezjjpjQsHBGtxiYyLSxKpD7GQAMYjynwADSNWXjbgDIPB4A7FTPafeKhl6KYIk0OIKeocx7AqKFSqfT3yuAGQAFfj08vjq52J1nXv4Fh0+gsPiYGzR/gmEXOH2m/RxyfsBZdGO+dYtJP47FeOAAKCc10OtWlw+gAKv3dUV6EAEE4EOXowNsClmzO6lsaaCnQ1kI/bLZsHp0UaQtQTY3779nFRAyAJ4AQHVADSV6NwDcfirYXU9/cLY1U5AHVXAEWLDTqElVkwrO+YMBYADOZxI4TBZ9LIXnl3TdN8Ecnd9t6dxt89t2dy8uWP39weFX5qHJ7hf2aqB9atyj3x+fg/7Pnq4K+s/F24qLo5X22A1UxUoyAACYgka8UWrjsLv7ii7BgzbgMdtCReAcZqO8MIDAPxRG5586vqCzj3f3/PvX9ysCoBAArxOLxZNhOB3q6xt3A8AdpoL9DADwcX24lEeWwf1FmpEkqECqzk4m6Ao3l0S74K97Ou4cDA9JpwgE4uFExKdyCOT7CyZYvs5oWXgYG432wCzD0a8i6WO//YaJM8sQxCMQAMSVBOrfIQgy50jInKurS23MV8Stlq9Sqd2+DwDYpXYkUsf1STQnjwxAr55OA5MYHV0i98crRQCA7d5FAGwnzBYuhT/MhrJxXbkL/8NqYO5R9+axx6VLIa5bbWP1FtgBwICuROcrFs3DquudTquG42fV8BIDH85TccQIxFG4kb1QxqCLKB8zKeyvWciJGUBgHRLE/BEwyzLAMRNQDFCOq9tN4AQxwahK7TZzB7kIFh01yuUyTg9pmSahvyzXTr3UatXrNaxaijTi+AtGWdkq/f4uCP8GyP0Pz/dZAQPaNJvN//bf970EJgMAkZPNfxJWQ6F6NHCnJNB2QOMee3HirCuW6xpts9KnUaoriqFgdJxZDA4VHM+kI/ciJp6KJRca8lQVmTnWd6J2UPGGshhdLOkfvo4GMgbqPxcpK4Lc5bgo8n/dECsCrY2nZdeCoqPpBohSk9isA5RZhUWpzaSNX4Pe2bmnX69cp8V5VLZMb6wjIfbK2TRuh/NTVhGcNpDYl//5f9Yl0P26wfEeuHiohkMNJVC9GwDW7c6nA4CDk+Wu1G4gF4D/l1oQGCICFoqXaZsloEA3ULkIBh0TNhY/RxvBBNvySdk3BJdTs2K5mjoczEa8FBW7siZzShncQaRcA0WJOCuim3DhpAdRNJSqVKMuUaxMYo2+hJylsrT55vBGzuwvRDoJIUVL6YnYdc4mZGJTatDRrbQh+hte4un3E/vj+dX//ff/u/clIOsF2tratJ1gM3A9Wt1YvxMANE57QgDgSgmXqJPPbSAjKNfBZysZZaY00hpAwDDwHEeRHoBkrqk4msEfJfBEbxD23Sn/bzP9K6DkDIYAGJiipY5ACKgYFbEiCy620hWnxBkdIHL10lyL+M0TAWaCDgPjiIHBxuO7pu2f1JXsqgABAO6PpYsQtWK68yOp//76X3mF+vfzxYNhOBtX7lQGREkA7xO6ALQBDo6TK4wNsPcUjLGkT2du0DyLajWwlDVW5mU5nbgkBJ8oqNCcEFTvt8Cpg22vD2geAw12cQWA/gMZwbPcqLUU7NuVcYJAt4tb5qnvoNsFkFWlWWXyfMcR+xp0LiHhVozeQr8KNzeEGvivIAEBHO+h/3d7cIknnv4H0T9thQMAeE5UFQ3AHfWPAJCf1AXg2jD8S0AMmBDALnpkhXMaXgbA90S5LobUnh3ZpnleJSEhY+uwOaAhkaFyNGa+MQSsV6OGIApcF213wlJfAu9vhOkUSVOsz+AvnChjtwZAMfU72TY06xFcA70J4d+X86KtiARg9d1/mPofQP8rr/xIAT38Ad4CKHcqA6I0sN35hABwCVgHKIJNdAIT60YlbOdC22w62xpOnKeJOxYAAtHobXEwg0JHKs/77AZa+3g7IDtkDTdbrZF1BvssVwyjCi+BdRuwwR4Ig4wBBE6uoJpxmkMisbxkFv6pOSQKR8twjsXiR+yBm5s17Ah2FVwNqp6YhQbvQPum+u+t/3+svGUAOP8MIUAr+hMAeEILkOAEnJ0CHElwEUsC0oUYiDPKlaPT2iBnGo3+2ABcMxKm/qUSPEsjtzixRcokMkFN867lfXmOKRW0B+zfaZh5gAjSfmYs0L7jFR5Epoqx0IxodRljmxI+f72amY79Cs4AMD9s2uGINkNgn8+A/WFhwSrT/7+Y+u+r/zer/i03AOAI5wFFq3fyADgV5qb6/ccCABjTOuVdy3XJEEx7WqkMyBDQKaQDG8c8gZmQwfs6fckxzATnWs0Chy6Ne22V4pbOLS8NhzogCMRAKUPFDPv88kiXEMCMYIN5jUbcnOnRYIOfkEdYHICFfIwcsruEhi7MTX2y3ktrJEGC68qDSEjF/n+6+LO9/8/i8b/fRLiV13Rt5r74HFZD9fW7nX8cC/XEAKhSxhU7A9rVKBynwYAafLuGjtkf9ALMH0w7PXGUC77hEG/TJRuGhNZYNhTijTq7z8O+EmB19BgYiVunVYYIjz2/1ag6Wxk2Xd/K4YuQ6lYWL0IvZToQai4AnH7Bvh1pTgHgugYA75qW4QKRLM6BpptfQMD/muTvAY4/GQDaOO05HoIBqN6RAc6mAj2RC+BcmAciPdMcrVYHCIHRzWCRlDAwKBGzFG9ZDYDTmHspMVM2Gwbjc+FZOd7WAVkC/qEmU7umzftoa7XBnP5p4yFrN44GqDnNfB3Wy1mMBK3vwROXS4N5AFhirk72ynIgHQIDcIwNoFjP8L8L1v++M4HxHhgrASZf1Wy2pHy6GwK2P63bnxIAYHhFw2iVqREE4vJILhJv1/UoKAq4N0QHyLe7gSoY7dL1yPsHQieSWe56FLzLgMSVsM789wHg0IjgOWh4F/xbo9tVsDxgGgJagGNOpW5e+eu6offE7wBArEjNtBoG/U/YOqB3/7a4/wOoH2NAP2UVroYqDoS6IwHEmQDz8tgAcHFUESPqGKPRYWZqxiFfwLUqqIL1LieLAmYF9Gqdxd3xb4NhIStHs/nqerdLLB3cerkdEF00umaRpVubIeZHic1vkaRFN2ZIdxtxLQ1/ZAAAiyKKlVo6q47HZ0WzO3mm/wdZDrnyim4UPbtfwiEwAHcGwKcnBoBrGkMb1A0YsVRrxl8BY7Z7SkTGTWP8KNVPPh4T77PTWLYIWqlcQoag61FQfiLR5XBYs2zghbwh4IrjWwJg1s507UDfLCYAHDcDAF57rx1Kh1U2/wnvf17++5/3v/tZHAlHADgFB5DWlY076197QgBM37aE5gPX6PXiUJdyPDKXaMWEaq3V2tjYiBrGLOiaW+UhVkAWJsGDVIQBgoWN32On2NWtGMjS4VHst7IAwXkxEeu6pVjKn58ITgbAaID7V8eXwP1wlpz75b8f8vjTanBgFX7P5CAczjbudg1stQQ/NQDgLzvtEtS8djkBxLteLrNblAi7i8UpatOpu+hrq1ThSLeGijJfSxY1S6+kekZ2aXZZzudx/YsgStVoF979Njyi3hOc9p8CwDdGFH1vAPT0++bKIamJ579w4tnkqU3xofUPFNBv4zf97nM1lA5JRvWuAAhosvzUEz7tC93CLPyKVpktYOzajBGWZO5m9vp/LSuyA9MvPs0nD/RSM9KMdjmuTjUZtMLQcU1uGimKo97n98bdxb3NAwPOUkYQe228/ol9ubD58a6Gf3D7DzHgSyyW3+SPw2oorht3tgDr9l8AgGvp4SCOcEfaF8VKqvbSkOYpAKZZ3ZtESjhY/q0SLUWauWZT6jocyDTbrCDjVvq/tjjyjgCwzAZj/wo1/owPdnkPmv/NGf97wN3gbh7LSvZTmARSNn4CANzaLwYAxd+4pgbffqBNCSGRWceSLjP8KpWXrmSXhUBSx3SsU4B3vRZpNrEcx+i6MuV4I1K6BgCTod9Gbn3DaaWCTfcBr6RXT4NVzqpnkyK2f29tPYL+gQL6/TYPX7xUMQaM3pkBfNLWOPsvBQDw6C4O0Ra8Ti0YzIMTz2tacM2cHEJiZfso3ccyfvpyDV5A7GKZt6C0IziDs1mSBoJLUDC1W14CgMvaB2KR/4cEgINGYrgEQ5QiobSqhvdO2egiAMC7h7b/jAJubgIF3KOJQD8BAOcvVT+unAElQfinQPQH4Zsv6AsGgSAG7ZxMBpm9yWz/CosIIAQQhQFu9UMoKBVz/Csq1VDqccoclqWBKLgqgzomm5YtAChfahviLHabLXa57hfuAgAzFqARGHopncXWj6Pd4qRIA8I23z68/oECYl+hv3iqDsPN/t1jwE/rvxgAdrkSZUX5wPirG8DczTSBa3ZCzYoKQcDrHsoFmEUZZP8DeKOEbRdg/OvxZqQBf+qG2MWSE6kRyTVyfbqct88ZgDpwRh2rda07AO4BAcDJYk8qg+kPh8OFU3P6s9ttM/O/D6v/Ny8RALbiEQ6E6IABuONV0CftFwMgKGv2dRrwyuqCMPSbXvhML3hMhSP7j0yzfma0sE0zotdk8P00JbYZLwe8orae4ALteGOUa9R6ywCo6JgfkiwABIPBb7PD2wPAyggMBvV4OoTqHx/v0/hH1P/7/zyC/oECFnEymm3/M06F1rEUaPuOWcBfDYDget5e8W5ULRDM0r3zyd+FVBG7pS2Xqf5uPe/DWN6Lvp+gUap2g+uadz0RoBqDRq1zDQBiRYrHm/E6JfDBIFSjA9lljhtHpzOfH/jG7LvZV66p+tFyDSrwQtLI/dXx4Tkcf5ubxsNR6e8/H1r///iftzjqzF28GmezTRwKvb39FwOAOWDe6cQNblWJcgFmRsiEQG4GCDM1VK9WqxuGVxRZ5kpzUtMZhId4/HVDzmt5r7cnxZtYBVQdiMZCop6S0U4pHinH64bdzhm1UWFU6/dEr2b30d4zEJ/dIqDXcsJm6p+1vDjpBcC/S3QHQqXS67dKwPzDofBwfHhKmV/bFvarmqW/D63/lTerNIWqeDAOp8t64K8IAEsoBOSwdF6h3b3tGsv3o/m3Fjn2ej2stDUrsShpCb7foJ5D8gzleq/ndfpwJgEWFkTiNcWQuYRrAQAOF/YmSGhU2oYgSA1cHdqoSUpPnFsrYt3l25cAYHKU6R4DzPk44SXt7HT6tUaugNd+IIenu2w6Gb/F86v/md7+P6j+wQMw/V+Mx6Fm9TbDoH9fACAEgP0nWG3+fOklK7vE77BLBJw2FsznLXMuovqbVNRZVypCF/4r563i/QLEAoZrYaPAnJsHRw0QKfUqgTIOFqeNY51epcI2EcxSxdaCUOfc+jdrYwERSJGiD72Fy4dzhVESAACnf9e2yfsp+7dpe6DS7xv0v/KWt23ibsixmo0H/toA0DDuw6APgjKOxWaaWaVB+zdZqMblwcBrGCZaXlcqgeEH698s1xWB1C1XaB5xJN5Wut11VsB5DQCurlinrnBpp1PLjUZsNXSp9f/bOxO/JLOvgf/S5tEWtSwrDXp4REiTkBGjF5zCCEQTEBS3UNzSKS1tyjItW03b16npz33POfc+Dw8IJoiKxZlP1rggcL73bPfcc+14yTBu7nL9tykAxIueewJQfsDu9/f04D3DeA3xJS9eRdHRIVolNqGw5PAff2Sn9TOZB5AE2ggeGTHZMwGgWl+VKwDQ281XGPbRqZs2lO9Bk4y2wufTNkWMoGk7pf29EP2Hu4yOpgg2mxu7cAsQonxw4HgAOCkAWKoJN3RCUuEfCA50d7YyAuBPd98QNpH4fDjXoL7ex/uAWcmoyedwsL4RbDYZHACf7+/ht0yzvxZf0ZF/SvwlUSqXl/8W6B/LwDgAt2NlfMR7MXCZtcee3cUA6BUAcFcSr4nAvT1eXFU+TxdKYFmA0n5qGcPT3k14yrfSHexijURhi82Hh5NTAtCkcQcae1p7Whv7BwZDdOnsqHy9LN5AF8JBTuw6EjkjcOCtBdSsEHKC7rs7R3tG5TuJr2B34MWLF/98uYSFHxz8CP6/7PAfW6j/4lJRJ0pSxwvwAKO1vwAA8orHbCwhNa/nV3Of5O5CGw30N+J9O5gshC36ar1W21TpcLjDeB9kQ3+tg/ab2a5uMgAAsCa8qo/60iB4sHX5e+RVjCrFewiHBgam8Nb5IBf4J55Y7ev2+0d74m+lbu3s7xvq8WD+t7iCFkCEAEA6elh98iPL+kcPgK2AHbNvx72mvgwByJkQMAGAtjUAgAVoo69XVTmMFntnQy+7Eqgx7LTpWQwBEQGov7OxMxzR1uMt7vyxkwBAowvc0VCYDog2dHY6Q8HoEGaETJTbxtWngNkN9KqryOkbe2gWXCgSHRzsxqmPI9j8hWPkmoVmOvi/JcufPACeBhN1ryDr6A3Ip2g2CsBZ7Ab0ZXqN49bD0MaE3f94kv0N8T8kdY7QWTxe3koX8HXiyGWcveRoMtoC/VQ86McCj5ymrVODoiKQs5/2mSEhsEMSELV3g08fVZSb5P75UTlagGUP/8CDrSE6XYzHGyyd2P5hfrFEF8CCHGXTP7dE/0WlmGOKOBUO5wJzAjYMwFk8FZ67AHDRqwHQN2kdEUu4Hw+NIADY+W2zabVBDW4nWvqpj6TfEtLz2wk30OVc6Qg6+7G3v4c6EiPB4BTNpriSVP0qwab07r6BARttWmnlJsBQH5UBR3EEANWAy/fv2RL1sxwAJyTN4kagPZIJAL5dAsBJXp+P2CJ29Py8HozDHWw2Ou1jhISgk9pKA4ODtqoNAoC+IKJx2PAGC6wvg/sAnU4FB3GOW0/PaDIDQKcAuvvwImi6pNyoaYo1BjY1OYL2BqwDX3lFVxYxArZE/zgVCmdndbwCA9DrrM0EgIrcBwAzP36xuxEU1cji/t7e3sZwCN99ivA1jlCYbSmGB21GWyQdAHxuMCtRpx0ZaOxhZ5RDNm1TgIYJXLmyyHw/xQE4KiZgCYXoOnha8Jr4w6JNETz1gDMAsQsY74GDbAAJ2Ar9F5fi2FTdzIsR6gavvYxK3XhH0G4AgB2r1kQcmHzRQAm8HAw3fMJdg7wZH+M7Ry1b/f1OTNxibV0/b3Ktpw4eTBWDeEQYI0J4fH8AIwpLf2dPD+SIU8FoKBphLSQ4O4Cpu4rvC7EgUxZWIQq7TOaREXYOBG1A4RZ5ADoPMPPWa3LhSIBfFACHBtJxsMmdtPYx8msMo+k38jefzLidDptaBnkPQRoAcKEJZjYjmP5OtAKdTkeT1kajLRvR1DRBYlKvury4Iv5y6zgA9Fpj1I4nwc0vZjsEigQLjmyJB6CpqbqVcZMZ54L+agC0ccsfMeLSbFDug+20h2yhCJ72YgrABeyAxe4IkS8AACAASURBVNpfaww5IhGqIm8cABpiiQTUnNQ7KNFwH6c+0qCjSu8Aq0CtKhajr4L62FXa57VgY8wBoND+oDFk6+rFsyBPZnSSaBWbpbIDW+IBBHY9oNfUGapNGwA8FprTAFTSQU0bRn3sgDD4fT8kfQ4HeX4GgJ4A0Ngg8gMXTPPe0gNAvpW8hl1Wqq9oc+gxnnDqfRX6Kp/PTVXlLmMENyDUPQHyibAEAIgAjVFjaTBBHPBktkNnxWswSvdkHYA9ZZJokHAwqMkTdp9NH4DLOB+6oiJHAcBm0aiTzWxgYV9nvz2ExVnF2DKRu7y0yoEg+Uxu2gddyKLX1+ttEFGEYdHjVrDRyNxApHJtU4hyAkgt9EX424nzAP58MkPndpubs05A8ZGjBqskdbz704s7wZkCkJsI4Op1aCPOxl7W5AWGv7/WTU0AKm+rAoBrXv4705NO8jYRmIB+YxM/tGK0ow3QVKb4mbUAsF5nIxCAJaEOA94z09y8f0+WPUChaMBmwE80F/DyLwmAu5FmAnSGwfDbaIlr1OY2/kyeDIBen/lRN2WGEQDQVHkSbzmrdOOdN73hpoq0AMCrcgaAAI/5E95cAyYgy6lAcVEpACDQiUBT2HL8lwOgor6iSWPvBLtvwZBfi/69Kd7fbhUAlUZ3Z6cdlryP0oRKR6gq4m6rTw+AimqjbaDX5PKO4LXw2BZecCC7IUCBzmA1dCxdGTG5ApZapvd0AJAnw+SqBcD3Vn32/mencuUt2ywAwMe8yWkiTjuX9xU3DkBNE8QwOBfu0kqHrkMUmqWshgF4QRx4AMPKwoip4VcFgM3XRiUq+/rbAgBvIYjPFNJ0AVRcCDpxY+AS7QwJkpBFJ1BctB9rTILu5fi4ye+Uj4T9SgDU8KEe1CSCvcPbCoBykFx5j6rSA4CKCzgb1OTxPpmdkfAyo5ID2QwBaNjEDM6GDjtZHZABcPwXAgDWfQUHoGI7AYhNEohV+1K9U+sB4HbY+vF82EtIBqVmgy57ToD3gohLeD9UoOsy3RB5Nr0YsLrCkasArEnOd6HQHkOlcbAT74d402EwQC6QvUyguJDqCyLuBPZkDIB2t765u0iMzgaz17s4S9PBpWxlAhACSHS94stxs6dbviI2XQB8VXkAth4A2xAeFHjJ7ofR7c/SXKCiMrIAeCLI1Gfh54HSBsCXB2DrPZhjsNt00Tv+hm6IkEqOZC8EEK3i7KVxs2uITctN85o4HA6m3eqhUHnB4++DjegEWJ9olkxAcSG7RPHV+IipNZAHIJdF7whCLuj1fmI33mfFBGAIYEAAXo54zX4nAHC81pIHIFcBqNT4TaaRt3gxts7QnA0TACGAKOFe0JMRs7kbQ4DjZ/MA5GoWq692RHtNpvFPHQRANkxA8Z4CUTJI1tm3Zo+rC48Dnj17Nn0AqvJZwDZITVt9ZTAMTuDKEt4V1ixkwQRgDChIBus7uh/ibLykcV18RR6AbQCgvr7e6Gw0mb2vZ3BUeBZ2BYuLCvEOXYPuw4jJ1JgpAL6qPADbVBGs0Af7TSbPIpkAqXnT5cDiolIIASWr7rXX7OnOFADc3cgDsC0VYbw4vddjNn9AE2CVSos23Q1UhteOCh3PzWaXPUMAqrkByAOw5fqvxw0tMAHeJwCAYDAUHCjefAwISaBudtRsctlrMwWgIg/ANhmAiqqT9V29ZvOfbzpwcoBYWJyNOqCge4OXBAYyByCfBWxTCFBVAZlAp9nrfd3RIYk6sXSTd4QVHTmKx006XnnMnkZLpgBU5AHYPgDq6yuHTCbz4owgiJJukz4AkgA8EiR1fMLpoJH0r4ihWwKqKqryAGwPAfRR44Qw0PumQ4cXfBVuEoD9BIAOx8P2u/MA7ArR2DpN5pHXHTQ2dv/mLgouKqW5AJgEmOyWTAGoygOwrQA4ulwm83O8NlwUyzYHwJ4yBECCJMDsCuQB2B1S2RRqcHn/fEcAlGwqCCimewINundes7khUwvg1ucB2F5xoA8wf6CBAbrNBAGYBKD+xRUAoDVgOZ4HYHdIMGwyeV9QECCUFhVvBoByBKDjgxlPBeYB2CXiczhdLtPbWQKgbE/xZrNAHWWB/lAegF0ibb4QTo960yFuMgigdiA2GcLsCju7MgPAlw8Ct9sCtDkoCMBisCAWZp4HQBZIV8XiLTGusOVyHoDdITVt2rDJZcYgQJB0mwgCiovKmAt4PmJ22Wtr8wDsEhdQU2lxmbyjEAQIolRWvHkA3gIAgbOWPAC7JQaodLpM5j+XREknSpkHAcVFewrYgNBLZldD4GxmLqBab8wDsM0AtFUa/SaX94MoGkSdVLhpAJb+RAAyjAGqq/IA7AAA3RAFvhbpjND+TIOA4qIDJQYE4M04AJBxGcCXTwN3AIAh8AFPBAlHvJdlDsCREmwJ1a2Mm80NTndmAFTnY4DtB6DNOID7QTN0RKxgT/EmKsEIwKtxs6nTcjntOgAdJffpfdsBQE2c/N5NqACA1tjgMnuXdHiuO+OmEKoEIwAfCIDjl3cFADiLld378ztbgJPGRgBgRQAADEePZJgIFhcVygB48ZqInAZAkfr463l/WwD6IQr8hFdJGITCoowBEAiAT+Nez64BgC5oViCo/20BCJtM5pcEgGF/5gAYCIDXXq/Jn0ESgPqv9um3KQvQatvAA+DMJ7zu0aH1uavdvjX3Af4Ooj3ZdtIWwDTAYBVFnZjphiAAIO0aAHy+kw6HjQkOX8SPVRU1vpP8ktDfCgAtAOCkNAAB0M2UHtnzywPgcJyMRKemBmSZmpoKGvH6xZO/nwsgAEK9ODeSLICgO5rR/OhNA3CcADh5cksBwGn6oPlAuLN1AcTLBf7Z2ukP2wMD0YFBvAqcRrJqKCrk94Pyn6cp4Oxfsemru98FDDaYzONvsCNAJ+ikjOYGxgAwIwBnz2ZCQLWvrS27beHykES8arfG12QMTg0sLiy0J5eR9vaFhbeLi8/RJgSDOOu/DQJEvJUFbwbHAbF6o6ZSU8kv5sAHXmdYay6LXAHRNFX4aioctkZIA1Z01NCBGGRAgAoAMwGQLgF0X+BWAQAZf6XbGAwOdLeOg6bPyXLr1rlEIRJGFhZG6YbW6FTQYdQ4tDihu4puBUfLoFzIsGsB4GOG4SVU++od0aAfLMAHPNrfgQPEJTF9L1CUmwDASzRq6NU6ggNDV8ZHxlH9tx48uH4T5dkz+us6yINbt2799ddfMQpQFkYXh4bAHNiCDh8mjcrY1Zr4m5p2n2jk0ePg4DRTwUV4Y96+/ESnRHF8cPqzQ4s26wK2CACc7Y4K0wSHrrS3M+1fv3Pv3vTY9PT0GH4guQcyfwdxQBLi7cG4d9TfNzQVxeuao1GaEl9Rs8sJ0Mgj7zUOR3Sg78o4e2/OvXhHADSLac8LAQBEui7uk9ns6bTUZgZARX1N9gBgsVuTRhO1RW0Do0z715/dGSNpAalTpEWRsbF79+7cZBZBbQxkaxAM2iIOra+6QqPVoiXYtcGfpimiMQajU30L7YpXbH//fkVqRgDEdEcGAQACA8CbWwBoHTaI+7u95PJh7becP3MGFX0mTs5zgX+cOHEaIQAMwEE8UNsDiBIXWke7hwaiUVsQUkejQwsWa9fagFB0aqBvVNb+AxB8jW/fCc0IQLomoKjoSDkB8AGvjM4BADT4WFj0gYx/YIGt/jtj03WnT5+mNY9aj2OAf/Y8IsBsAbmG+Ts3EYO/1LHBwpXFPiwe2DQ1Nbu0dKBx2KamFhdGuFe8+QyRv3cdXuITAS2AzpBmFKAA8IoAsOw8ABoWofuCYOQWSP3TLaDg0ycYAajqNfqvY8bg9OkTJ9AeTNehm0AM7twha6CKDNAl9AWizuhUFIOp+Kec8BIwEt2p/UZexqDqhXKjqNE4ODU0SssCY6J798bICY7NIwGvIAgAANL0ATQeggAYMZsaNwNA1ko+FKlVh6ZG8XU+uHNvuqXlBC7v9eW8+lsACW4OWGwAwcF98glKYLCwuDg0EAwaIyG9Xu9o81W3tdU0NbEbZap4tgXPZRBrzTsgVRV8swuSVw3dQKn3+bRUDWGm/8FNiIgxIIJX2wJR8f1z5550AAAGXdmetFvCJHZlrBlvC9ppADQMgKrg1BV6nfemT2RBTtdNY7KgyhQIgtZRyBKmgjYbuydS29RUZZSvlEECdhoAft2QEZ6h3hgMKov/rwfP5sdO13Hwkffpm/BpyASshnQbhAGAAgLg3SWzqTeD0+FZBqCSXIA2Suv/1s1781kBAJcJxAYQGcxTwqgKDBbAJWAFEXeXtBp232uVXHGr0ldVJTYibYdUqK+bwczPJi9+NIoQEk9P1ymWjyzePESCnwiANBuEsSuYXMDSJZwRtuMAwAuvqXcHpxZR/8/G0MKd2bwBwEc5c5rWzBkIESEwuB7LEig6hCQBosNBG9tPUBeManZE6lX6j4L2h64s8Kif2X6V60MAWu4BAE8QgHQnyBcX7SsjCyC8RQC6dhwArHCh/s+h/s+cztL6x5iAkkWMG1t4uqhKFmVb8Hxg0GazBR3apggEXnjBd039Tklbm7ayKeLQRCHpQ+3T4r95T6l8xFkATATeIgAGKb1jYgBAKZ0MEp4DAOEdtwD1BEAf6v/OGCgrawDIVQOWOrRgDWkeawY34wOD8Ys93X0D0SCKLRLR63cGgJp6n69SawSjNNDdytf+uQfP7tyDePgEi2/jLJwKAKEsXQD288OhXpOpP/3j4VsAQHQAzD+s/2nK+7JDwBkVAPzdw4JiS90YmAOsIHIK2sfb20fGwSXw6qFxp1yAwwHaf774vp1XfNDzj7UkC24oyI0BoEsbAD4f4CUA4I9W7zwAlVOtFP+1nD4N+skmAGcoYga1xxzoGYwNTrSwOrJSMcCdRe/CRdxZnBoc5BsJciMiLtB01akS9b6u+ltq6ivYJbPGaDQK6X7f6BW51Asp/zNw/PPJsmGC+cwZBQDRkLYLKCQLoPs0YvL0hHY8BnC4o93tt85dvydX/E9kj4DEwBARAP2jtOA+w/Q9TBWRglizwcIlrBhQn4Fyq6Tb1+Zoq8fagc/XVuOrZh067JpJ7E48mSj8Imp2XXUTfe/Jk216VHwbab8NyNAasU49NTAwtDjKex/gibBNsOnpeKO/5sVNP2hvfyI2gwdIsz20uIjPCNK9Mps9rc60z4dnGwC3bWqh/RYEANnVf+oMISb42+rGaHeR6uvn4gJEP5iDwEA0OkXxQdDhMBrxj0bTFNFCBomtJ6h6+cbRePWD/pswp9dqaV9avsXaWBUCN2MLBqMRZ2BoqHvxyoKierb0sdgLOR8Zr1T5LRJwDwB4iQDoDIXpAnCgBAGQ3v1p9lwM7DgAviBWAJ5Nt2w/ALSUMDocu8fDwwcJO4vt2JA2Orq42NcHMQJuK2DPAQfCodXGr/Q4wa8hMij0A2y1Dwz1LS6OjoLix1U9Tlz5z+7M35u+hzug59fVf0vL9J1b7e9fIQCG8iPpArCHxsRJs1fMHq99pwGo0g942889UBzAdgJwuu40xNi0twhRwRjtJbAs4VZC65Hch7awcOXK6OhoN8iQ3W4PgAwMRBWZUgk2sQ6B9IH4QVDnC17zyIhK50rD04Pr10H589PTfL/7xLoAtEyPQQjQ/v4dng8QCw6kC8C+UhEnxXYsms2m8E4DoIl2j5w7d2f6TB3f999eANiOI7zddRgUtGDGMBazBn+taUJbKwsppD2VsMeiPjfqeHp25869+XnW+sA3Oc6fiXVAJElx4Sk+u3Wu/YUOAZBK96V3RAQA2M8AoFnBlh0GwDiwAAZgfvr8mR0AAPWPv5atrDrWbQBvcB12IUFsgCBcJxQUm7C2OXGDEnuEWw+44ufv3aN2J5akUtQn9zusB8CZlrF5eLD37wQEQLc/TQAwDUAAxA5qCXHvHADUth3ta2/HEuD5uh0CIPYrISjg/8bEkTaeqRltbJ5YwL5EwoEBcevWrVsbUfstWuigcRBsbryDegehXqe68yyvr6Pel7rzyhbnmTMpAYBMdhp3g1934CFRQ8mR9AE4clQSwQK88o54GkM7BQDmWCcrNFOjuAXYcuZEEgCUlo/1ha+b2I+eP38+tQ9dC0DsS/IDMrdwPtaIQCzIm81MnqnkZhKRv3YHhGuczDxra+OPj8+TnkYaAMCTePbXrfbnMzpyAaV7i9IGYE8BANCsW7o04nENWHYGAOwBrdTqwQOcO3f9Xl2s7y+mHFbDnWd2OE7wDYaVNEaeE36EAdCiaEztRhNxqUsiHAz52+tilVe5JU31QGPpSYrfL4OqlK7RE60HLuuBOXFifuzeHXQAb2D9gxqPggFIFwDcDkIAZp6PeMxDGQBwPFsA6KtsQxAOPRuDuKYlGQB3rt+/f/+v5AJfuQ8s3MHombWNtciLlrnyjQOQ+Hm1eTmzScmW6+L24gTT/7kPoH+c9LJ/byYAlIoSdhO9HB8xde8kACcrbIvt527dGzsd00AsSa+rm7//Vyr1x5GAHMADTNfVKe9TgtXcOgDO/0SyBwArZd+7+RcA8LoZx4brhIID+yAESBuAQgBAEmc+jJs9Pc6dAaAKC601xmArFQF4/19mACgY3ASvgCa77sQvCgA6oJu4/l83SzQ0urwwbQNAQcCBEkFqFsWlcY+nwXm8K20Aat01mx7SUIX9j5QE3sQY8MTpJABM37xP61v2+/LpoOvoGVRo0FkhouABGQMI3uvUPaQ/AyCV4LfnCgDwi1qmp+9dvwWZ6Gs8FAT6lw7t3ZcRAHvLJABA17Ho9ZjsaQ4JyRYAeCluFQNg+kwqAO6hh6e+72kWUNEWDvxHe/t3ICm7nyw2QArmW/Cn6lp+GQDOnBm794y2LD6JeCRAJ0mle8kApA0ABAGSDpxIx4sRj6m/+viOAIB7pvrogJkAwGwoWRBY1zLdcmJNLniCG+1p/Bv39pMFiixAxI2VeAR2KQBnzuPyp0NBHyCAgwXcLJQdzMQAsCBA0GEl4MO4x4SVABz6kM758Fp3No691tcbo0MjuBGUCoDzZ7C1h8r1iU0xJ5TzQWAo5qkDeC0GlCjcYXVWOSFTzhWo1LweAHXbBECqHznNFgBYvZu0bf18RcJzwQZJKOD6zwSAAyU60aDTvRv3eF0BCxv8lN6IkE0ftNFU1ddEpqbGAQDVgQ81AKexd+P0zyt79GNj8yB3IERIljfeZ5VXAOH0iRaWcMtl3zr+Bq/Vs7pWWJeag813L8vbP/HYMKt1At8E3Km6d5MOhL1/LbJjwSLqPyMDwIMAHU6cnXluNpn6nGkBcJnPiNl0GqipqWmamsIYoC4FAPKe7YZLu2fqTreMzadwCiw2uIkcYHTAY8QTJ5IrmB9BPCNXB7cMAP77TySajboz/FwUtiyA88fg//3zFbozCiN4Rf8ZAbDvkIj7CLrXIx5PT8idrgHIFgCawalL7eeuT2MZJxsAwLsor1geG9z/K1WQiNFlHYGwRrf0NBRdbDUAKWx/7Pfz1f/+/dsPs3RpmChJYhnXfybD4lglwGBo1nW8MZtNvXbwARvfFc4SABUaDT8Pcu7BdF12AMB44Tw7TIrv2zTGBnhI7H7KQiIaBKVGHyfbDkCq0sXYHX6w5e2n2Q6Bbo6F8O2Qov8MAcC7AyGUmFn0mDzh0NmzaQJQ6/ZlBQCjrRsrgQDA6VQA/AyGtZt7ZDmV+j5ql2FwP0UBiW/Kz7O92Tr595BSzp9uYds3J7IJgLwZUHdaOcSg/hqmr8pu9AM2DQXUj8PhIPcDAsoP/YH6z8wBAADoA0oRgI6ZlxAEdFrSuDU8awBgIlBRoe1rxwMBsSRgUwCoq3pxuy2nMUqETAFThXgO7qtJYK6hRZ5Igg92Qm4qziYAqtdCqxxbQOVKBxqtm3FRDKz/5x9myfcjATqx4DDof2/G+uc+AAEQOt54TSaXfYcAqPC1tTlxN3DsRHYAkL/ndF3d6UQLS6lUHcWIN5OljCrXwCYT8fRxuo6VErJtAVjQKh9ql3tP7iczVHgQWIeRPx7pguV/cFPrX0kEAQBdx8yiGXxAOqOiNgdA7DA+HsSrbqsxXsHNgJ8BwBOzDQOghoXXCxAJFuJhiwfbZF6HA44C5Q13MMVM0YxQ15KBUMp6B5e6rPQUzwPz15v3/zrX/gKLfxICIC//TeifANhXKkiCDvMAk6chdLk6PQAgCkz7BAjNPaDD+AoANTU1xsWR9lvPIHqTlb9OkKwES+qSkNr1n96A1KmmDE0ze7DOnrMqYnzAdiFQcfNc0GZPJ5E4TXNRppyBJNd4bEfjvlLOhuB0ev7+ufZznySq/gq0/DOP/1SJYKFE5YSVP8EJdF2uvrwNAGAPsL4iAQDWEzhflwKAtaW1hEaZdAFINMXke0FT1PD14KcoxDR0X96mSi33VbKxLU1sHaOIFHLUM9PYtQyZLTWALHEAsqF/7gOwL0zQPTF5POlcHJEpAOwUWGzYOwegIoh5wPV7Yy2ygtarriZWapK4gHQAUIoGJ07QNhO87fNyBxLqbMN70ZsTZl24q6GIQyl7Y23jxPQzbAEUcPtHV5YN/RMAe0vh4YCBD16PqTew8atjNgFAJTtrFQdAjRuLgbduYstdzNtvQGSHsBkAGARytnCaAjryDAQDqyKg0d7wCk5f65R/UgaqrjmraoTwhOdxGMD7JborqORIFvTPEsFCg4Q3kC1dgTCw31mdHgDH3env/9dXOpyRoIZ3BMsAOIK4IXTuOmRflGyp27p+YgXOK6c/1RWc9ABQHjbh6y3qTcS4oE1l2v9Kw13ILoP3M85j4jetahlER8bd2em62K4l/Ot8yxg4gfevxWYkoJCFf5vSv1wLwr5yXQeFgV1pAnC5OhMA7L29dg5AZT0HwOeI9iEBbNuOBVGUfsUkZZNlsh28TAGQLW7yL7COYbkjAf+6w+XmOiJ/Dw8Y4eewh5Ud/ORmjFeemcnnDJyObUXyPdB5mgdCJqB032aXv5IH7KdRMbqlSyaPKRypTQ+A4xk0gGi6Td4eYyIAbZWR7gU+HvR6rJ16HVHarFm5Jn6cZAa1hKS7t+tt68rZhExoIoSxz+Hfsa/Lv518XcKDKjvTib4OCcCZUG9n+X1xWdA/8wF0SFTEE0IeU0O6J4QuZwCAsc/r9Q5WVVXgRBwOQJu+pj4yNbAwwo9N3VLL+octyJziLu88b7pn77Gsf2VDdwN7Cz8FgLvl88rUwtOqI+f8K6lbBZJUAE8kHv+rk42a6ofJyxEAz/AkEAPgQNHm9c/DwEOShPXlN17IBPtCG20LOUtyvLriZJoNIBXGAQDAbsMxLFWaCm4BkAZNNEpDkeKPTP5U2vlJK1bMx3NWEDLRZCh+yit+g2ADm0sbyRxU/7/eo6UMOlM9B/UgoNj3UhBwvoUAELMMwL4jJaIABMy8GBnxNAQ2CMDZDAGA7M842GO+6LfpfTU1MQAoN2xqMk5NDY1eWudMZeKVEe0Jp2wRBKzfkjWQd/O4KdgIABtOHTcIQJaOsTEAxq7fOvdWoCAw08ui1voAzARFAdtC3lwa8Xj6a4/XooffKgBA9ME+s7fX6cCBfEoMwIsDTQ6NA+8JoSPVahlIEPwcHs9eHL2ycNHrNSectcbpKmgM5A4L2mZUNfjsRgAoCzj3RGBBYFYMADcBhQYAoKMDTIDZ1NtlcdZuIQCQ/1cZnQ1eVzjo0OsrEgCorG9rq68GMjRadjkYn+Wp1cQJTdlwOBw2PnABgOl7vogTVkbkg/fAwF/3wSXcmx9T0oQza9O83QTAGHWDrjQTAIXZAoDCwAK8fUTXMXvJY/J0DjgttRsH4Hi1Nr39/0rwAbZO18XWaIQAqOcXPcVGJLKRSqhmjUaZz4PTNmJDFNUgMJkaHBx0Op0Dfd2jVxbULoFN1h6j09ccgAzc/xoI0m1Y2TwANA3g3JNmqtyWHMgSACwMPFwuUSLwyQypYN/AFgJQqamsqXHY7C6vt8+mr6pMAIC0jqmB6oro2ICu+IFb7DsqlWvB6Nv1NhsahL7FKwux6AD8AYsKWhJi9t0DwOmWumksBLaviDoRjwIUZRMAiAKsBoPVgN2hHk/vgHOLAdDrjY1eb+ugsSIRAEwEjEa0ATWxsWprpinG3f+SMIStrU3r0Bod4BmG+hZbFxYUW4BRwbN5mkGzGwE40TJ281x7+0sJzwLppMJ9WQOAJwIAgFWYgVTQ4+nZyMywzF1ATY3PF7F7r3i7jZWxq/5kAIw4zl8B4KezlSvUVoH0j5PX6t3uSjZpGUevxeLDW7fu0zER7hOUbKvuTF2SkqI6e9w5AOrYqaax+Wd/nXv/dlYQsRkMksBsAcBNwH6IAsAESHiPpCdsqd14Qajap0//woiqwVGvudcZjFRqT2orUWdtsdFqOEsv06tdFDOBgaMRBy4HowN9/taF9nPtsQLSg5vPVAUDVjkcY2lCHAeqYyO8MFN3eptE9Vup3+TeTRoHIzaLUrNYXrgviwAQAQcxDjQIwszzEbPHNOR0brgkXFtdkcGNIcYh80VXz6BRQwAAAYkzFjfbZiY/BNiJCEAw9eT52wV10YBNZrrDqvN8owHb78/8BIC67QfgDPatYwDY/gnydUOzQSrdm0UAuAkoLAf1GwyGd+OQCTRAHLhBAi6DCcgAAI3D77po6rZpcNGfpKsxtgYAX02FNhJicx4D9m6/XGNSFQz4xJ6x6ZbE0VzryJktllhbOvzP9L1n2BP8WhKwGwznAWUVAEbAIYwCJLHjg9lsNvVseHLkZTABGQBQqXU39nq93UGjHgetbh0A8NHH6gjwR0vBoRIXqGID3oID9qAldkBg3TOk2wMA7jlA/H+d9N+ho35AoXBvVrYCE0wAOAEcOq7reDniNZk6Q8erqzcGwHHyAekC4HM4ey5evNhnM0Yoj9dn3wUoj4GRYRsrMVTgNRxYOhrq9l9ZYw0wPECDo9g1wwAAIABJREFUgAECcwwtGCbg7Lg6OqjeMt9CKdl2Cc0Cm2fnAV/jaVCDIBoO7c2qAVBMwOFyK0aC0syTEewNqb28lQBAlGYbajUjAUGayX1yiwBgt5HVtFGawTNIyjZsQao4Ly5eWkjcUGAgMNfAprmxhk5148a2qB8vhsJhABDBvsXT4CAGXdmBbAPATQA4AQnEICy9hUDQFa49vhE3QD0B6QOAA3Rt9gav19WH87iVLGCrAIgvJgABDofWGI2y4b0DQ33dPa0LZu+afUg23I81hfP0UW7c2QYXMF13gq3+c++fLIkMALHs4N592fUAignYWyZZ0QgYVsZHvB5Xf6h2AwRkCEClIwLB+cAVs7fXHxg0VtZXtm0RALyYACagjWpIoH6GgLaSLpjXG5t4cMAGODO/MJK4y/gXZ4F1+Cjz/ta0KGUSM8hNkKouIH65zfX79Muff5iRcM8eAODTALJqABQCDhYIgijh7MjxcUgGw05OwM/Oi7hjbf4bNwEYlgWdfvNF78XugMOBpZ+TPBAAn92WDQBkaWOi/A+FAwhIJd0sX8F2F/DKhsFBjA8C9n7/6Kgy0/lcMsNAYz8fyFM/5SmQcodS0r61E6lnR1D+cYLdX4AXoOLZ9gf8xsP3bz/N4GkwAxjozZwG/7kToD0B6jYQXr03AwH9FgsVhH4GQLUvfQJwf6dS6zB2QyTY29DvDIJNVqcC2QQglaS8vAJHu4NFQJvQtzh6Ze3M5yStSapRsHLTpzwhNHaI5J5qWKgsMjjsaBgbUH1f7oJ6//7Jp1lclASAULZF+ucmAHJBgQDQSa+8XogD+kJdtbV4ZvgnvsCdEQBghMH0OjsbXACBv2/Qhrc30krVZ2BSsghATX0bMmCMRIwO2m+O4nz/cLe/ByKFBBo2NiVYLQ+SyS02eFg1hBofGrT/rgO79kV2JLh0E9MANuYE/jiko98k4K3iZrPLH7JYAICf9QhhOTgDABw+d2V1ky3Q2Gv2erw9/oDTZtNz2UEAsDRV4fPVVOjJedQ3NUGMIF/4MMWaVSBaWFy8ckmNw8jIes1LaQ4VB8P/5PWrJZ1OBACAADy+x0+DF22BAWBOoAjiwD9KJTp9rDPgteJmV6fzLG4Or09AbXWVMRMAmprolJjRFvBDPuD1trb6u4cGBoO2YERTuQ0ApASDB7X4UY4e5L4Uuf8AwoVBvBuCdSf1UXcS3gfR2kpGYgFfz8jI+lCo+cAP78nov33+4uWnV0uzZPeZPdZhaFZ2eLOngTfkBA6WCvRLxY4Pl7BLtNPSdfans4Oqq/SZAdBUAWsdIrDoQN8V758XvWZwBq093fZIVLODAFTFAUBbjCRabfyGEwr2JSEQNhS5QYnfFKK6LWRoMUFGVbL49m17+3j7+OuVlXdLS7Mz3A2jFmQEhILDB7dU/7Fc8GAZJ8/w6hIYAU9vl0UGICUFtb6qDAHQ2Gy4+dumt4Xs/a0XvUxcPQPGnbQAqo3oOABOqvqWuHCPhQyEmERxR9smC8LAbhcKyp8KqoV5lm6wtuMvOwQR57VINP9X4n8TCiXZOQ28UQJI/4IkvFkcN7uwJMQISGkGLh93ZwwA1gDa6mt8Pp/DGBzoG730JwQfva6h3AEgJskAkLuRtNTAVlUlhzDwfvjorjh+/pF2JZQuFviiIvWRYKfLZDK/mOkAUw+JuEHEmzzgPx2L/Y6W0erfav3zMIDZAJpBrBOWnoybaXiMu7br8uVqfhro8tqsoNqXYdCmMdKN6fi+VKF/HRwc6PN39naGjFXxUpFLUlmZbObFuk83LuiM3TDm80Eq3Ggymcafg/51Ma9PY4AEnXS0DBb/H8owiK3UP5kATgDGAcChIL4YAQI8DXZA4PLl1ADUurOkoSq0kWBHbfpcBmCTm1PqK+Y0jmCnyeX1Pl/SCYr6QfUY+x8tOHQYtc+X/1brPxYIQiTIogCDYWUEs0GPqztgqe1i9aDa2iR1gepsAQDhZJVbb0s0AL8oAFiA7HS5zBdHlwSdKuoXjxaUgfIV7XP1b7H+EwjAG6UM7yCTASdg8nRilxCVBJMCUJstDfkqtA69w1H1OwAAPi/qbAT9jzxf6uAGoKCgDFTPdR9b/NuiflUguPePQ4IOwhBx5pLHc9Hj8ZhMLv/QoOVsrSxrioFb8Gb9agDE7pSl+NEYCgbDvSaXB+z/jCCg6S8/JCteWfsq9W+9/tUElGH/maHjOQAw6vKYgIHesDNkSQVAtS8PQHoAaIzBwT4XrH/vc5z9iYmXcChe90z726h+NQGHrBAFSjhG2DzU3wsAAAKddqclBQBZMwFVLJX6FV1A/KXiGuNgv8vkujjyYlbH/f8hte5V2t8+9asIKBWtmIWujHg8/oAdMlWwAqZef4AQoEggvhaQJRNQ9XsAgEXlwUaXyWv2vu7QSYKif5XqVdrfPvXLBBwoLLE2i6LYsfR8xOMK2O3hHpMJEkLPxe4Bp+VyVxdaAfVkUQBAm80361cGIBJxGG1Bu8tk8o5cWjFQugXx1qFYyCfrfvu1TwQcKCwtEa3NDIDXHrPJbwkHAt29hIDpYl/IyaJBdaPA5ePuk3kANgSAVuuIBAcg+4P1//ydQbBiq7fIRv/tVemelL/t2gf17y/A9iMDGqWOjqU3Vzwel72rq8se9rs8LmwU6e0LWbgLUMrDGcyL+i0BaGvT4nGlIVhNYP5fzggG6sIzlMdGv8qq337do+wpLBAlSZC3oXSzS6//z+NpDJwFq98VbvRgTcBjasDC0Nnjqmkily9nLw/4pQHQGm22Ab/LZPZ6L33C8j+d9ShX9nqLdkz1pP4jpTgzDH0S1oKtBqtBWHoCCYC/qwsQuNyF+YDJjDlhf8CibhUDANx5AH6S2mq1FVpjMNgHb6LZPPLkDejfQAOaCg7Hej12Tvto/Y/qDFwkcE6S8H3lx48n/0Ac2N8VBjdw+fJZQABiAbOJELCcVXUHV+cBWP81aSt8TcZgAGt/Xu/4644ZnaAzWOFtLj34x7bU+jdg/UUZAKth9vuPf78MD08MP/znnxGzKxxAAjAW6He5PB7MCFydduUQaR6An7+mJofDEQLrD/bf/PyVDsy/gK2+5Yf+2Ia93g3of385WiODDg8JWr//h8qfmLh27Roh4OntG8JQsOvy8Vq7v8HsGYFgwORqsGPncG1t7HxAfX0eAJXU8GEner1eGwlGwrjzbzZf/DDTIVCxXZJiF3/srP4PlNJVdJIO4lLh29fhYdT/tWu3b4DcnvjH4/F2B7pkCftbzbRDAMFA95DdGamuhpzQrdcb1Y0S64kmQSp+TamndicQ2uYON5g8kPx5nyzN0GYrvt+lB3NC/8VHykj/otBsFVa+KMp/vPp5eXn58+MJiAPMYAO4G+gKDHW3uszME5ha/YEQXjhkCSkA1OcBUACoD+r1wVAwFO51uXph+S++4qE/5H9HD/2RE/rfU1iCLUCi1SpZv/9L6r99Y3X1Kcjdq3OTk49WJ8ALeFQ2wA4I9OAmkQlcmsnVEw44LWerlWFNFXkAOAG096t12GD1o/E3Y+6HIRYBoLr4ZWf1v78c9G9FEX4w1w9rf/nuVZLJyQsXHj2+9vAfj2l0SAagtisQCNj92M3EMGjwd1vcEVbH30Ag8JsAQNt+Woc7DHEzxn7eF0sdHbDQKNAuP3QwV8I/rPuIVghJltD5T9x+/BnX/qmrXMAGzH2+/dDjGfH2OWNWAF1Bf6OJikNYJO7tsYeCNmOTo7L+p1Wh3wGAStr20zickDq7sPLrffGmA/SPBz3Z8s8V/bOiHwDw7csw+P4bj5/evXvqFOl/Ev4ACZMXJj/feAiBgKknEE8AmAFwBQgBiqsz7AwFHdrKJp8vD4BW63BE7Fj1R/PvffKmQ8DOTwz+DEqnd07oHy8MAPuP5v/abVS/AgDK3bsIwNzy42sQB3h6w2oAzlJS0NmLFWKzGeOB3p7uwFRQm7cA2AiuCTe6cPW7IPRf6eiYkTqo1VsSsfVHXv47rX+8MQRTf+E/DP5ugO8/RfpXCMB/QBwwubyKgQBWBWNy/DhCELB39/SCj0M3ZwY70NBjd+KBGX3KgPBXASD5C8Rz50Zj0NLfYMLlD0sDjb9uhu58FnUx67/jy/9/xYVHqQFYsoL7h+UPkf9dBQAOwSkeC849enrjIRmB/ng/wHxBuL8BX62ZOYOLPf4hiy1ohBDI19bm8/GDFoknK3Y5AOwGxNik4/q2tjaHFpu9jZZwJwbIWPa98vINmn4JkmxBEppLlOW/8/r/35ES1gFuXfrCzP+p5MIQmHx6Y4IQaBgaSkAAfIHb0tXf0Es2ABMes6m3sbPLCSvBqHFo6aBt/S8LAH9dNb6aNvD8RmfAT3sm+EaMvl7qoJ4PlGbpaIL6d1b/B8pEakgB/T/E6H/57joAoBFYhljw/7AI6Lcn2oCzEUskEoXUsBfL3bK4GvzhgSmblis8VieQh8PudhdQRa9FTvt9NdpgCLSPttCFm75PPszqIPDnAIjlpQe376DHBgKA0mba/rFavwwz/a8LABDw8dHqDSoK4VZQPADV1W53rTtidEJQ2IBpj5nZAdwy6Al3ARwYFehjU8B/BQBUIJAEI/b+XsIfXvoI2P4ZzPtx+Bbqv7zsMPX97cuN5Y8FAJw8JknCvxD/gf9PqX8lI0AjICPQ61e7gcvVsrjd7hCDgADglqC3t7N7KGQEA4ktkZAiOyr54ZjdDoBDD/o3OhzBiKUL8iG23yMv/g48Zwtilayy+vfuy4HgnwWA5TR5ymrF+D+1/1cDgIHA3NPHtx/+gwz0hgNJAEAGjFFnIACpAVsLLviPdg97Gzr77c6Q0eZgcxa0Go7ALi72V/iaNMagLeQMN5LlZ6t/8TUEfs3YWoVpv1W0HpVPeeaI96cAUKDZY4YfZP+f3t0IAEgAWgHaIQSV9p9NZgGYOJ0Be7iztxd7ymlR0MaBByiACAIxsNkQgewBEBvcsJ2lfocx4gz7G3jcAy90fPTlykzHjCBKzah90SCJierf+eWPAYAo4m3k1m9c/xsD4Ork3OSxC4+YFcDmMH8yAGIgWAJD4c5WpIDqoSYKjuAPuIT+oYAzxG4G0vBg+qeaU+80r9l42iIAUu1usytOjF39jS5l6Y/8ufjy1Sxafoll/aIo0IAH2fjnivopAJDQ/kMCOHxtdd31n8wMKFYAYgE7CwKrLRYZgeo4HJxOp72/s4FZSMyNZBR6ext6/GF7wIJ3QOFqamur8flqcHw8K7LUqIYqyLsrcuwYO0Eif55dKJIYmG1EUu3k8F/G/8LfWFGhB6fv87U5gho3rvyGXoiIMeA3mS56n79cmeUH/TG2EsEK0HiXBPXngP4hAGhGACTh68OH1248PZWGXGWVwTnZCmBGYO+qhdXurk4h7lAoZOkK93f2cAx4jmBmJqG3sbM/DI8QweDQAQFCRRX+o8KXSimy/rcSgAr5yip+dxW5Kr3eQT7faOnqJ+9Gr4XC3UtDn97MCAZFBAz9Sw7lpPr/9z+8KkwyAAL/TTycuLGR9b+2LDCHZQGWEZhb+5yW6vUlAgKxIdiCxgYMCvFkJBXKZQMKBgFBsAcGBiMYVjuMWuW2MNnic3OcTHOJ3iFTAJRPcrzU99XhXJ+os8veCQGfh70EEu/iiw/vIOXrMEgKAJJE010SfX9OqB8cAG5JGgzN3ygBvJsmAKf4DsFVQoAFA412Z2oGjle7fU2R6tpqd6Qp4rZYhvq6/Q18AeEHryphRIvQ2dnfb++yOKN4i1RM9HHtZmq9JXaiZa7/uJ9FIyNfUIej4XCMLEW1HtmEgfJHX3x6M9uB6texnJ8J8/wJEx5yQ/2QARzFhjTJgBXg26vL6eqfQYB7BnNzjz7foE0iCgZC7oi7+vLl5G5AkWqMCpwRix18QmOvyieYXGZTrIgIghlDd3cfRItRW9A2GGVGmTbamypPatvwCiofjtoBrBzwgY1l2ljjaeJgKDYLEIdE4tchomxq8tGESHBJgwOBoe5O8PeYxvDnalKUT9upbKgKFXwlUSgpPZzD6ocMAAuAomTFHaDHT6+CMtNW/1UC4CpuEyICD//Bt6YhjAi43akAiE8R8C+LBXJFf09jAxaOTHKWYIpZBKwfYNLQ0NjpD4chUqi1RKI0udNmjNCWe5NGy6VSBqD+J9KWICo0tG1t9RXg5kn10ZAlwClVno4XM1qX2XvRu/jh3dKMThCpmGrldl80iCVl8drPNfX/b08hxirwVL8NX8MAkPZ8M0CAbxKBFcAKMZoB7AewO6Mad2oAEj4HgQFQoHFbaiFG9GOQiBaBs2D2emOWlh1IARQgdegBw4ADGAPkJRxBLMQZMWyMtWPXpAMAfg4tgQMsADxKJDQwZKeQtSGmedb+yKTB32v2jFyCmN8Ab6WV0j14S8EDiDzsy2H1YwRIJ1INS7QDfPdqpgDI3QKYFnIzgBA0+MPOiHuNHUgGQPw3REJYQLQjCFhVi20orBG0xEom2YgRQzhs7wpY1DGDZh3RqkT+fjzxjIlKZyMseLXesdGBhSomckr9fUMDfSbzP/88HB7+8u+3WUGyspl+IgJQtnbx55j6IQI04OUjovVfyAAfLz/NKAJgFoA1D12dPHZscu4RCwhxngxEcfZAKBqpXYOBe63Efcli4YUDJ8Ta/WgSKEhwxepsspCX8DJP4VFiBpDW1tZGP0iYi50EWxaYdHWxz+DX+kE6QVob2G+Rf5PLLHshF/dMmKI0doa7INd1R6JDLs8/DycmJvD8xJf/vguQ8+NUb5q0zHp9d2C8Sxo1YEgAIQVcgQzgxurdp3fvZgrAXQLg6uSFY38fO3bs44VHMTNg6u3sD0TBvq8TDK4BIO77NE1NkRBkFgHZKDQ20MrkMLBmVAbCGpG/SQYjmZgSJP4BVIEo2Bg/ZKe1tdU+fIa+Jou9F/SPZ2au4dGpieGvP2YNAt/z1UnlpQdydvGzCFDCCwibZ788pC1A6v/NHIBT2Dh+DAWLQ2AGHt+mcADPjbR29zmjkZ/YgFQAKN8LYYIlYrRF3LW1AXDNGJRBzNhAS1alraQgKF+RM3b5X7HPKw9jjk9BQO/gXCDsDDhDxlBEqXGGnH4wcg9vL0Ps83T1xm0gYOLh8H/fDXjWn7JAqaBwT44ufjoFdBTjlebmH8MPJ1gHaOZB4CneMMgBOPb3339PPvr8mNmBf7CNuLcxHIgoqnWv7wLitV8NThkCAywh1MrFJD6SGQyDhaZWdHd3d/b09KDpT7KqzaYNiMrwkwtpgAgTY4pAIBTCZx6JqJ5jxBcKNHiY/uHFXph7uvr4NjAAruDfJYOVXbwlSeX7D+So+tkmEJYrlr4MP4QI8NQmAOAbAxdIjnG5gFnBMkLA2sdwF7gx3MUUp1b6ejCsEym6Ey0ExgsYwKl9egNaiN6YX08lpPAGDCNxrcNqP0s+Pu75qH6hr7r6bD94npGHN5bpJYPRm5xbfvr4GoUD/y0ZBLx4SwcQgBHISfWDAShhx0D/hRSA7wFkpP9T8frHt+Nvbgfw4xz6AmYIPCwkCA8NDEZUes4MgPXF54tEaFeKnVqmoE+J+OLEbmchIftW9tt9Pt/6pezQ2U6XxwPh/43Pkxc+0ktGMzC5jJ7gGiDwDTKCZhr1Lx7dvyc3AdhPrcni9+FhiAAzzQDUbWIKAPBefOQk/H3s4+SpR8wQPKQTJVg9vdjab7egIYiwIlD2AVBVFyJrHz2S/NPr/d4Yrs5odKinF2D+Bwzn8mTM5JHVe4S4AwFfv4MJ0NFOcHluEnCggFUt0ACsLrMs7tTdjAGI6Z8B8PEjvTG0MNA+ys6AQoJ/8ABZgx+8K1jt+Pd+0wAcP57yS5dT1Kbj9bzuF8HPDHQ3mGj1T9z4vDx57ONHbu+YGTgGCNygWOCHYDWwOx/E0hwkoLiQOYClL+QAWBifuRGIxX/qBRFbGZQYPFrGSOka2zRik4dH/X0Bp4W97aQesL8yAVk0BWnajTW/GH0CGo6Q3d9A87H+eXjtxudHc5MJr5Z4h5zgMRJARsCAYZa19ECOegA8BjZx+/FdquSc2oQXSKr2JCAwS3BbtgQjkCJCaIhbv86IET0vvs2+nVF8KoEMhJ6YJdyIR99GYPGT+ieTvEAkAF7lMhmBL9+oPAwpgZhzBBQXl0kEwNeHWAPiAGQcBE5uFADZEsgUjIyMkDEwey+2doMxGKQMYd0YbNtFEwpZasM9dO7RYwLTf/vG6vIc+LyPKQGYe7RKbuBfwYAj1qTm5rIcI6CYhQDWpeHha9QGmjkAaeifM3BBrhQBBEABGgO8Wo26hXv6MQXz+XLDBFBqae9vpJ1/8Pug/Wu3H+Pih+g2mbvjAOA5eqoMff2O+4PWZkHKMQKKjxwlC/ANQ8C7mwRgMoXnT6F8bgmoTLD8+TO9UwiBmawBVtuxHyjc5Y5oNBG3nCesyf23SOX8b4s7ZDnbZff39PayqZgeNPyg/OVHuPgxvwFFr3nd9GmG+KPVG2gEVgwC7hLmmg3gMSCeBLj9Gb1/xgBcVSrAaQAAsbP8GYwK0BZghsAiAxYgsv02yNKdTswXI+gaLNsQ/lGGSA1rDcq6Z0v/BmifhX38RVxY+8qZ/qkQcuEuI+AbhIJ07iKX4oDiov0GsgCQBFIfwKYAuJCe+VctmwvcFMxhGW15lXPAS0YchN4ef3df11lLCEnYOueA1R8f7v/3+UH1bNGzeJ90v/p0eZlF/bF0N0nO8zd9+W/yBNgtywjQNaPkUjYIADAL8GUYksCrOwWA/P+QS/PYCQODG1g4VFsDDgLuxWHjucUZcoZkSb+ApP52pyzYz05Nqib+69jCR+XfxpX/KGbtVQB8/Jj0NR5jAHyEbOAxzlf8ZhVA/TlFQHERGwZs/TIxsSkAaGrIsSzI38d4QR2TBAgNVh8/lmMDiBBNMRCo9aPB78dOoKGhgQEn7gdRWRH8RKRJKfGt1XiEFQBpH8k5MDAQGBrqw5t+sQfAJCt+BHcvmepvs+l4jx7hyk8wWxc2EPZ8xKx3FeJc5gUAguacqQkqAHyd2JwFuHsKl8aFrDAQt4woW/y8Cubg9oRiD5ioYKAdvIbGxsbOHuwGwr27mNAYO7tqB4BvEDU2sl1DqkrH0OK+HjRPsxEff8ZCz8fNvo5Hj3Fz4JuhmU5flRcW544LIAD+3aQFYDXArAPA0gSWJ1Cm8Jg8w7UJ2TOMeJJLssYO9eeS/cw/irW/Rov+81Na9XNzqvJ2MtlQ4YtsAOQCkAliHFBwIFcAKKTmRet/ExO3NwMAqwFnH4AEc0ssPOUcUOfFRLxVyEQeMpmQp6HCmoc4j6udErrNP/3JyWNzj4kAQaJAMEecQHHRkXJRqQOcupppGshTwK0CQAmy0BzQcWQMER5xs7CKcQKOMAahjqyJhz8VGnt97TaNPn68uroKqx3lEZO5uSy/ENwpxumaw8PDAtYDm6UccQLFRQdKeCUQzwOcyhyAC8eObaUFUCdXLLhmEvMRspPAsDFBbsRE+dwqfutnyunmJuU9a5KPsYV/4cLHbAHwEZ7qMmaD/xIBopQbTqC4aF8Z2wz6iieC7spdvZkAQNrYErUzVccVkNQpA/MNsmVgtoGt45ioP6f6J/upOP3//VGu7W7cxW/EhVFPDNqAHwSAQcgJEwAA7KeJFVY8EoKbAbQdnCYAuAtwbCsAUGtGrZGUmvkIsvarKoORkKgrP/SRShBM/7LHiQdgU0Eg2RIcronJ4CwQIApiTpgAAKBQQAAkgQ4FnrrLJwJv/DxgmjWg3SRZtAD88eZWb18b/irg1SAGXS6YgOKiItoOBAC+DWMx8C5r7En3VPAvqf8tkMmnj2/jvhBJLpgAvBWUisGSVfjKmkL5Ic88AFtiU+aeQi74lU2NsOaACaBrYTEPMIjN33E08OrT9LqCOAB51W5UHt24du3hd2YC9ucGAPv2C3iKsbl5Zfgh5oJ3797NW4AtS2QnP9+4hqkgWoCy3AgC9mEUoOPj4fBw6HIabYF5ANKtZNzFVHCWZgYV7MkRE1BYLklAAHUF4ID4pykOfeUByAIAk09v46aQwSBZjx7JEQD2HhJ0OskgWsEGMAKe3lUpfr204OqpPABpyl0IA//De6JEQy5EgUjA3r2lgk6SwAlYV+iSkBurj+RxH7G5D+uUAfNaTWNXA8LAia9WyWoVraXFOWIC9h0s0NGUOIP1+xe6JA4HRbNJIVd/DkB+/acDwNzjaxNfsE1chCgwR0zAvr2Hj4oSGxMj/IebrLflY4JX8wBkFYBjfzMArDgwvGxPjuQBQEDhUYmGGhkE4dsX1gK3qr4qLg9AtsJAAOAaASDlCACcgMM4KlSi+0Jmf7B7otEKbKAqnAcgPQAoBrAaIAgoK8qNHUFyAnsPHiIAkAAhdl8sXhp1Nw9AFveXliEN/A+PCUnW/UU50hXCCPjjULmBLowB92Rd+YpWgHXC/2RmUB6AdACYW72GrYFUCCjMEQAUAg6X8OmWVqsgAQIPyQw8VpuBJCjkAUgDgMnlG9eGIQTAt7ngQG4AoIQBe/84WCqIkggmgI4yrvw7zD3BY+X+oCQxYR6AdRTO1z3rOblwYfIujg/6j42PL91XlCvd4TIBaAQkK785XLIK3//D6+O4J3h6927SqkAegA2k/6R+1P/tCUgCJbYdnDMAyF6AjMCho/KEc4Rg9ttXsgKsV/5pnPa5X8gD8NPIHxvNsCXs6Q0cH/adzQ8swclx/8stAtAG/HGwTDAgAqIkiCJQAGZgmBqpCYGnSkBwNw/AhgHgx5/pkOgKXswCsn9fDgGgsgGAwOECK15sZ+V1AevsCjMDHILPwMDVubk8ABuP/bEXaJUNjVqxNhMABQdyCoB4Ag4eKhABARHrAjpBMAjC7DeICB8OJxiCPAAbCAJxUiaq/xqbGGVAAARreeG+3AIACIhD4HAZhIOSZmDaAAAJg0lEQVQSu/hCRwcIgYEvVBxACFSZwc8BuHDht136F8D/09BAPNE4/OWHQPF1syTs37svN66LS24EAAEwAyUSv/pEAmPQLBmk2RWKBx7KySGzBHPxQxLX9lL/VgDEj8kFwTsVaXTslx+zBiy1IQGlB3LNACQaAULgcFk5XnYn0dBjlhjMfv/x9e0w2yxghyk/L8/JR6guHIsNiWTRz99sWs7vYOqVs2r8+Bp8hgbk3mDq//pNsCqXyJUd3JeLAHAjoEKAzIBEHoBtF1sNgtWw9O2/r8Mk/Cj1U/kUtQqAv/l7cux3BADHhkxOzt1dvSGPDmcjY+keKVEqPbh3X+55AJURiEMAowE609xMdkDA9MBgXcKIgFWJ6JQtTs95NKc+LhX/fvx2Nd9HyzgOle6P+PIfpP6CJHAAyg/9sZddGP2/XJR4BGIMNLPshYIYK3kDgSCQvQHuHUJcGBupIJ/m/c0AoCkGk4/krA9t/yxYTUmxAAWH6QKZ3DQAqRAgBqh8YRB1cpmQBN2BQsFtZgtwmBKduj3298djF36fIJANxJ5jI22uscAPFj+/QY4ukMHrI/nFgTmr/zgE4hg4VCCJOmwh59mhDp0BhDZL33+gKRhme0fXmEPAASt0ABt3Qn6P4H8S55s9pSl3TPv/rsxarTqdrH+dgLeHyhdH5rD+kyCgMFBWIogGNlvOamWRAe0ezn5npoACQ24MsGhIU/V+eQsQG25HU0oo5wftC1ZsteSrRdIVkPr38gAgtwFQEEhkACEoETgAQADYA5HuxoqngIPAjcFTHhkosxiSLJ8Lu2y9K/9gcykeLcdWPln+WSvZSoWAo3SBpHJ5YM7r/ycMlBWUS6h4UcTbUUUeGFBkoKJADg9ZZIA1o8nYiJcE/avf0wsXYjnkDnlz/N0f4yo7seeo+hdegfF0dZWvfHZz4Ncf3O9jHQ0NPywPdnN07OLgXaF/hkAiAzIEB8Eb6PDKcYgIZCunY5ejQGwgAAVyXKAYgxuPP6M14JNZJifjVB4HQKyItHMA/K3azY8raCqrfm4uTvm48r/+h4ZfuTIeC3+ioZzdHaxW/y7Rv9oMrGWAhQR0I04MAIIB4bcahNmllW//MmNwjQvlCTh9cVkdHKjHh19QVLDTIX284LP7KI+BfyQPMeUeP6b8ZmqoEinmp0Z7UXVtvHJ36P92l8QxkASCgqM6NQGofmow1qFHUGMwrM4XV1dX5VGMc/KsplyKBeLVL0+iYkMrcfQYM/kTw6T8f799nxUMbASciEPBGQCSfHW06urg4l2n/5QMyBAwU1AuSdjrhMFgMxcWFLA9BAWDCblyJG8mULKwzD0DDxJ3HAM0+x8TMrzl5VU2opKte+byv/z7Y2WJLogk5qlYAmGRABGSWvu7W/3x8UAKCBgFosCSA0khgBog0TKANRAAA1VswAwCdwu4t7jMBvdNKsXEnYvyabWzkZTLy0+fgsW/QeUdtuxJvqLucYNHao4ZQHrN2PCReG180e5WfzIG1kAApgApMDArCPpvbmYA6ARBwHwBjyBL4BUwRFQyhQlVgIDVA0CBxQhzF3aohHRBvsZkFWM82dNzb89M/n9g88m6WVmNJ+YBcQGs0f4vof71IVBTcKgMbAG9PRwASYBcSIfT8nnASGZh6fu3H8DBl+GJmEFQRYoYJDyKSWyy4+Sa8c3p1OvUojxe/DxJDO5XlemzExMxi/Xl69cf374DzlYc9gcfrAbWNEFwN6MLKCmL0/4vpv7kECSjgEWHAo+HdSKYSpEKSIYEAQ5Wfvz3r7qAJBuF20zkMa9YSiA3sTyXAELq4P3v5PrnaucDh5ef0iTyx1znt28r0f2EbPC/4KJfWZq1ygGOxHo7wcZhUazZKoDjP1qgKD9B+7+U+hUGOASJpiCOAoaBAQNEfpl6MrFSfAAgMIug2APegqYqKN2Q5zuTyEDcXTMcdq08UrQtC5srzB6SlK4onP4My4r/8W3lOzZGCor21QIQiM2SUKKYfVn5v7D211qCNaYgRkEMA6oY6hKVLykQsI8ChAgYKqpRiAsVVHJbLTd+LqrvXvtgEypbD6YeFf99CbUeo5QRIMUEDECzpF74Krcf0/4vqv41EKxHAfkExKA8Uf8Sq5hKLJWik4n8YAqgAFbhG/qHOBiG47hQybWfiNqbr5UvX0jtsNwhpxfk/JU+0H6HQe6FiOmfG/0E5e+Nab/oF9d+En+wloIEDNAalBwV6cyBiJrX8cUkqcyqQd10wNtPlr5/X0Ec0DgAEMmQmFhHmGGPVzhpHFY6Kn0JtW5QK5pLzOFLFMHoRBH8WXlJEt3/Xmt/AxSkwEA2ByV4XYVAq0vkmaPsVxPsBO05gk1QVEMlRkACoPgG8uMHgIFoMPmqEvlz8GX4LvzmlRXS96zAl7NVvbQNbLObBas8Y8G7v0kEyGHERNUnVf7vpv11KUiNgWwPygW5dNQs+wW1GHjySMuTlISrEQcZsC4lK20+WA1qZ21V9y1ZFR1b5bPPAl/VVirb4E9LzBulEDBZ5UchxUPVr9W9/EqLfmvtJ6UgKQZxHDC/QCAIzaxEEK9/HK+vk+S9RhpuTTtQosg/KUiQZqq+jBuUBrncIGtQYvNP6MibJFdsIahjP4Cb9+wnkwit+UOH41b9H7EXk1d+SgqSYJCaAx4glJFJEJt56MWiblK3ju5ejWmZtCXyP3Eb0oa1kWbMnKj+H92PgQPA1I9QcQxE4SgovqwsUfMq1SfoPq/8dDDYl4oDRgKiUFDAWGgWmX5I+/hBbkwUk6zaZAAkR4FlHvho5OPJzIsiGPoC0Dtb8Qfjn9jetbpXL/y88jeGgYqD1AGCKkwgBwE0lJQgDsgAV7XCwMYBYDFejAaMQoXyo0dLFK2vVXu84teoPr/wN4/B3gT5I5kcPKjgcOgQuQpEApgoLxfEDQIgCuWgbVA36bsMH+gw0/lara9RvKL5eNXnlZ8BBioO1gMhFQtqJGQsDitsJBPlOw7LP5P6Ydc+iX1rVZ+3+dk1B6n9wkZp2Jwk/XXqZ1RUlF/222IPEkhIycJmoFj/AeN/fdEazedVv2UcxIOwBoWN4JCe7Euq80S95zW/4ySkoCEjKlI/zJpfWZxX/I6TkByGnwCxQUnxwMV5vecsC6lx2Jyof0H+Dd9VPKRNRZKfzr+nvyoXeVXnJS95yUte8pKXvOQlL3nJS17ykpe85CUveclLXvKSl7zkJS95yUte8pKXvOQlL3nJS15+dfl/VtryNbXEHOIAAAAASUVORK5CYII3NTUwMTE=\" width=\"200\"/>\n",
        "</div>"
      ],
      "metadata": {
        "id": "evOkW1-6bM8A"
      }
    },
    {
      "cell_type": "markdown",
      "source": [
        "Let's visualize it in a bar plot"
      ],
      "metadata": {
        "id": "5SCFnTP2diPl"
      }
    },
    {
      "cell_type": "code",
      "source": [
        "import matplotlib.pyplot as plt\n",
        "\n",
        "# Prepare data for plotting\n",
        "words, counts = zip(*most_common_words)\n",
        "\n",
        "# Plot\n",
        "plt.bar(words, counts, color='red')\n",
        "plt.xlabel('Words')\n",
        "plt.ylabel('Frequency')\n",
        "plt.title('Most Common Words in Spam Messages')\n",
        "plt.show()"
      ],
      "metadata": {
        "colab": {
          "base_uri": "https://localhost:8080/",
          "height": 472
        },
        "id": "4KPrHchBc9-n",
        "outputId": "1a896e2b-751f-4be3-a3d9-c59c59ce4b4d"
      },
      "execution_count": 32,
      "outputs": [
        {
          "output_type": "display_data",
          "data": {
            "text/plain": [
              "<Figure size 640x480 with 1 Axes>"
            ],
            "image/png": "[encoded data removed]"
          },
          "metadata": {}
        }
      ]
    },
    {
      "cell_type": "markdown",
      "source": [
        "This gives us an idea of which words are most important to consider a message as spam. We will explore this further later."
      ],
      "metadata": {
        "id": "o0cyAUq91dHa"
      }
    },
    {
      "cell_type": "markdown",
      "source": [
        "###Cleaning the data"
      ],
      "metadata": {
        "id": "Ws1pBsTQZnoC"
      }
    },
    {
      "cell_type": "markdown",
      "source": [
        "*   Remove special characters\n",
        "*   All words to lower case\n",
        "*   Remove stopwords\n",
        "\n",
        "Removing special characters can be beneficial for several reasons: normalization of the text data, reducing noise, feature reduction, consistency, etc. But removing special characters will strip out punctuation and symbols, and if not done carefully, it could affect numbers and URLs, which are often key indicators of spam messages. The same could apply for emails, hashtags, etc.\n",
        "\n",
        "-   Numbers are characteristics in spam messages, often appearing in contexts like prices, dates, percentages, or contact numbers (\"Win $1000 today!\", \"50% off\", \"Call 1-800-XXX-XXXX\").\n",
        "    -   Instead of removing numbers, I will normalize them. For instance, all numbers could be replaced with a placeholder like \"NUMBER\".\n",
        "-   URLs are commonly used in spam SMS for phishing, scam offers, or directing users to malicious sites.\n",
        "    -   Instead of removing them, I will also replace them with \"URL\"."
      ],
      "metadata": {
        "id": "p1g7CzzjZrbQ"
      }
    },
    {
      "cell_type": "code",
      "source": [
        "import re\n",
        "from nltk.tokenize import word_tokenize"
      ],
      "metadata": {
        "id": "-Qs18xN8Z5RL"
      },
      "execution_count": 33,
      "outputs": []
    },
    {
      "cell_type": "code",
      "source": [
        "nltk.download('punkt')\n",
        "nltk.download('punkt_tab')"
      ],
      "metadata": {
        "id": "0CQjUJUJbHWg"
      },
      "execution_count": null,
      "outputs": []
    },
    {
      "cell_type": "code",
      "source": [
        "def clean_message(message):\n",
        "    # Convert to lowecase\n",
        "    message = message.lower()\n",
        "\n",
        "    # Normalize URLs\n",
        "    message = re.sub(r'http\\S+', '<URL>', message)\n",
        "\n",
        "    # Normalize numbers\n",
        "    message = re.sub(r'\\d+', '<NUMBER>', message)\n",
        "\n",
        "    # Remove special characters except for numbers\n",
        "    # and URLs which are now tokens\n",
        "    message = re.sub(r'[^a-zA-Z\\s<URL><NUMBER>]', '', message)\n",
        "\n",
        "    words = word_tokenize(message)\n",
        "\n",
        "    # Remove stopwords\n",
        "    words = [\n",
        "        word for word in words\n",
        "        if word not in stop_words]\n",
        "\n",
        "    # Join the words back into a string\n",
        "    return ' '.join(words)"
      ],
      "metadata": {
        "id": "gAj2EV50bO-3"
      },
      "execution_count": 35,
      "outputs": []
    },
    {
      "cell_type": "markdown",
      "source": [
        "Before continuing, let's check if it does work:"
      ],
      "metadata": {
        "id": "xokoqt_wcXhm"
      }
    },
    {
      "cell_type": "code",
      "source": [
        "example_data = {\n",
        "    \"message\": [\n",
        "        \"Hey, check out https://example.com for more details!\",\n",
        "        \"Win $1000 now!!! Call us at 123-456-7890 or email spammer@example.com\",\n",
        "        \"#Giveaway Alert! Participate to win exciting prizes.\",\n",
        "    ]\n",
        "}\n",
        "\n",
        "for msg in example_data[\"message\"]:\n",
        "    print(clean_message(msg))"
      ],
      "metadata": {
        "colab": {
          "base_uri": "https://localhost:8080/"
        },
        "id": "Y0ww_nRJcibf",
        "outputId": "74a722c6-a202-4fdc-a147-ceef544156e7"
      },
      "execution_count": 36,
      "outputs": [
        {
          "output_type": "stream",
          "name": "stdout",
          "text": [
            "hey check < URL > details\n",
            "win < NUMBER > call us < NUMBER > < NUMBER > < NUMBER > email spammerexamplecom\n",
            "giveaway alert participate win exciting prizes\n"
          ]
        }
      ]
    },
    {
      "cell_type": "markdown",
      "source": [
        "👌"
      ],
      "metadata": {
        "id": "_K7NlB1hA4NS"
      }
    },
    {
      "cell_type": "code",
      "source": [
        "# Apply the clean function to the 'message' column\n",
        "data['message'] = data['message'].apply(clean_message)"
      ],
      "metadata": {
        "id": "_VHw_A6eplZc"
      },
      "execution_count": 37,
      "outputs": []
    },
    {
      "cell_type": "markdown",
      "source": [
        "Now, let's split the data into training and testing sets."
      ],
      "metadata": {
        "id": "r_fNOn8XaY-Z"
      }
    },
    {
      "cell_type": "code",
      "source": [
        "from sklearn.model_selection import train_test_split"
      ],
      "metadata": {
        "id": "03sQq0AGadCL"
      },
      "execution_count": 38,
      "outputs": []
    },
    {
      "cell_type": "code",
      "source": [
        "X_train, X_test, y_train, y_test = \\\n",
        "    train_test_split(\n",
        "        data['message'],\n",
        "        data['label'],\n",
        "        test_size=0.25,\n",
        "        random_state=1,\n",
        "        stratify=data['label'])\n",
        "\n",
        "X_train = X_train.values\n",
        "X_test = X_test.values\n",
        "y_train = y_train.values\n",
        "y_test = y_test.values\n",
        "\n",
        "print(f'Train examples: {X_train.shape[0]}\\n'\n",
        "      f'Test examples: {X_test.shape[0]}')"
      ],
      "metadata": {
        "colab": {
          "base_uri": "https://localhost:8080/"
        },
        "id": "0-8u3VM9arRY",
        "outputId": "d53a4b67-db65-4542-c1f1-b626d3986c3f"
      },
      "execution_count": 39,
      "outputs": [
        {
          "output_type": "stream",
          "name": "stdout",
          "text": [
            "Train examples: 4179\n",
            "Test examples: 1393\n"
          ]
        }
      ]
    },
    {
      "cell_type": "markdown",
      "source": [
        "Here, I used <tt>stratify=data['label']</tt> to ensure the proportion of *spam* and *ham* in both the training and testing sets is roughly the same as in the original dataset."
      ],
      "metadata": {
        "id": "xntvGGc8bY_j"
      }
    },
    {
      "cell_type": "markdown",
      "source": [
        "Lastly, I will encode the class labels"
      ],
      "metadata": {
        "id": "uOfWc3S4QaJD"
      }
    },
    {
      "cell_type": "code",
      "source": [
        "from sklearn.preprocessing import LabelEncoder"
      ],
      "metadata": {
        "id": "rLNGPZsrQddV"
      },
      "execution_count": 40,
      "outputs": []
    },
    {
      "cell_type": "code",
      "source": [
        "le = LabelEncoder()\n",
        "data['label'] = le.fit_transform(data['label'])"
      ],
      "metadata": {
        "id": "rGEVEDUvQmDw"
      },
      "execution_count": 41,
      "outputs": []
    },
    {
      "cell_type": "code",
      "source": [
        "data.head(3)"
      ],
      "metadata": {
        "colab": {
          "base_uri": "https://localhost:8080/",
          "height": 143
        },
        "id": "t2-gvIi2Rg4O",
        "outputId": "123b0d82-a356-4033-8366-2278fa9429cc"
      },
      "execution_count": 42,
      "outputs": [
        {
          "output_type": "execute_result",
          "data": {
            "text/plain": [
              "   label                                            message\n",
              "0      0  go jurong point crazy available bugis n great ...\n",
              "1      0                            ok lar joking wif u oni\n",
              "2      1  free entry < NUMBER > wkly comp win fa cup fin..."
            ],
            "text/html": [
              "\n",
              "  <div id=\"df-249c9d3e-b9d2-4950-bc63-11ef913d54d7\" class=\"colab-df-container\">\n",
              "    <div>\n",
              "<style scoped>\n",
              "    .dataframe tbody tr th:only-of-type {\n",
              "        vertical-align: middle;\n",
              "    }\n",
              "\n",
              "    .dataframe tbody tr th {\n",
              "        vertical-align: top;\n",
              "    }\n",
              "\n",
              "    .dataframe thead th {\n",
              "        text-align: right;\n",
              "    }\n",
              "</style>\n",
              "<table border=\"1\" class=\"dataframe\">\n",
              "  <thead>\n",
              "    <tr style=\"text-align: right;\">\n",
              "      <th></th>\n",
              "      <th>label</th>\n",
              "      <th>message</th>\n",
              "    </tr>\n",
              "  </thead>\n",
              "  <tbody>\n",
              "    <tr>\n",
              "      <th>0</th>\n",
              "      <td>0</td>\n",
              "      <td>go jurong point crazy available bugis n great ...</td>\n",
              "    </tr>\n",
              "    <tr>\n",
              "      <th>1</th>\n",
              "      <td>0</td>\n",
              "      <td>ok lar joking wif u oni</td>\n",
              "    </tr>\n",
              "    <tr>\n",
              "      <th>2</th>\n",
              "      <td>1</td>\n",
              "      <td>free entry &lt; NUMBER &gt; wkly comp win fa cup fin...</td>\n",
              "    </tr>\n",
              "  </tbody>\n",
              "</table>\n",
              "</div>\n",
              "    <div class=\"colab-df-buttons\">\n",
              "\n",
              "  <div class=\"colab-df-container\">\n",
              "    <button class=\"colab-df-convert\" onclick=\"convertToInteractive('df-249c9d3e-b9d2-4950-bc63-11ef913d54d7')\"\n",
              "            title=\"Convert this dataframe to an interactive table.\"\n",
              "            style=\"display:none;\">\n",
              "\n",
              "  <svg xmlns=\"http://www.w3.org/2000/svg\" height=\"24px\" viewBox=\"0 -960 960 960\">\n",
              "    <path d=\"M120-120v-720h720v720H120Zm60-500h600v-160H180v160Zm220 220h160v-160H400v160Zm0 220h160v-160H400v160ZM180-400h160v-160H180v160Zm440 0h160v-160H620v160ZM180-180h160v-160H180v160Zm440 0h160v-160H620v160Z\"/>\n",
              "  </svg>\n",
              "    </button>\n",
              "\n",
              "  <style>\n",
              "    .colab-df-container {\n",
              "      display:flex;\n",
              "      gap: 12px;\n",
              "    }\n",
              "\n",
              "    .colab-df-convert {\n",
              "      background-color: #E8F0FE;\n",
              "      border: none;\n",
              "      border-radius: 50%;\n",
              "      cursor: pointer;\n",
              "      display: none;\n",
              "      fill: #1967D2;\n",
              "      height: 32px;\n",
              "      padding: 0 0 0 0;\n",
              "      width: 32px;\n",
              "    }\n",
              "\n",
              "    .colab-df-convert:hover {\n",
              "      background-color: #E2EBFA;\n",
              "      box-shadow: 0px 1px 2px rgba(60, 64, 67, 0.3), 0px 1px 3px 1px rgba(60, 64, 67, 0.15);\n",
              "      fill: #174EA6;\n",
              "    }\n",
              "\n",
              "    .colab-df-buttons div {\n",
              "      margin-bottom: 4px;\n",
              "    }\n",
              "\n",
              "    [theme=dark] .colab-df-convert {\n",
              "      background-color: #3B4455;\n",
              "      fill: #D2E3FC;\n",
              "    }\n",
              "\n",
              "    [theme=dark] .colab-df-convert:hover {\n",
              "      background-color: #434B5C;\n",
              "      box-shadow: 0px 1px 3px 1px rgba(0, 0, 0, 0.15);\n",
              "      filter: drop-shadow(0px 1px 2px rgba(0, 0, 0, 0.3));\n",
              "      fill: #FFFFFF;\n",
              "    }\n",
              "  </style>\n",
              "\n",
              "    <script>\n",
              "      const buttonEl =\n",
              "        document.querySelector('#df-249c9d3e-b9d2-4950-bc63-11ef913d54d7 button.colab-df-convert');\n",
              "      buttonEl.style.display =\n",
              "        google.colab.kernel.accessAllowed ? 'block' : 'none';\n",
              "\n",
              "      async function convertToInteractive(key) {\n",
              "        const element = document.querySelector('#df-249c9d3e-b9d2-4950-bc63-11ef913d54d7');\n",
              "        const dataTable =\n",
              "          await google.colab.kernel.invokeFunction('convertToInteractive',\n",
              "                                                    [key], {});\n",
              "        if (!dataTable) return;\n",
              "\n",
              "        const docLinkHtml = 'Like what you see? Visit the ' +\n",
              "          '<a target=\"_blank\" href=https://colab.research.google.com/notebooks/data_table.ipynb>data table notebook</a>'\n",
              "          + ' to learn more about interactive tables.';\n",
              "        element.innerHTML = '';\n",
              "        dataTable['output_type'] = 'display_data';\n",
              "        await google.colab.output.renderOutput(dataTable, element);\n",
              "        const docLink = document.createElement('div');\n",
              "        docLink.innerHTML = docLinkHtml;\n",
              "        element.appendChild(docLink);\n",
              "      }\n",
              "    </script>\n",
              "  </div>\n",
              "\n",
              "\n",
              "<div id=\"df-ce1ce5d2-43bf-4819-abad-8b373df8bb05\">\n",
              "  <button class=\"colab-df-quickchart\" onclick=\"quickchart('df-ce1ce5d2-43bf-4819-abad-8b373df8bb05')\"\n",
              "            title=\"Suggest charts\"\n",
              "            style=\"display:none;\">\n",
              "\n",
              "<svg xmlns=\"http://www.w3.org/2000/svg\" height=\"24px\"viewBox=\"0 0 24 24\"\n",
              "     width=\"24px\">\n",
              "    <g>\n",
              "        <path d=\"M19 3H5c-1.1 0-2 .9-2 2v14c0 1.1.9 2 2 2h14c1.1 0 2-.9 2-2V5c0-1.1-.9-2-2-2zM9 17H7v-7h2v7zm4 0h-2V7h2v10zm4 0h-2v-4h2v4z\"/>\n",
              "    </g>\n",
              "</svg>\n",
              "  </button>\n",
              "\n",
              "<style>\n",
              "  .colab-df-quickchart {\n",
              "      --bg-color: #E8F0FE;\n",
              "      --fill-color: #1967D2;\n",
              "      --hover-bg-color: #E2EBFA;\n",
              "      --hover-fill-color: #174EA6;\n",
              "      --disabled-fill-color: #AAA;\n",
              "      --disabled-bg-color: #DDD;\n",
              "  }\n",
              "\n",
              "  [theme=dark] .colab-df-quickchart {\n",
              "      --bg-color: #3B4455;\n",
              "      --fill-color: #D2E3FC;\n",
              "      --hover-bg-color: #434B5C;\n",
              "      --hover-fill-color: #FFFFFF;\n",
              "      --disabled-bg-color: #3B4455;\n",
              "      --disabled-fill-color: #666;\n",
              "  }\n",
              "\n",
              "  .colab-df-quickchart {\n",
              "    background-color: var(--bg-color);\n",
              "    border: none;\n",
              "    border-radius: 50%;\n",
              "    cursor: pointer;\n",
              "    display: none;\n",
              "    fill: var(--fill-color);\n",
              "    height: 32px;\n",
              "    padding: 0;\n",
              "    width: 32px;\n",
              "  }\n",
              "\n",
              "  .colab-df-quickchart:hover {\n",
              "    background-color: var(--hover-bg-color);\n",
              "    box-shadow: 0 1px 2px rgba(60, 64, 67, 0.3), 0 1px 3px 1px rgba(60, 64, 67, 0.15);\n",
              "    fill: var(--button-hover-fill-color);\n",
              "  }\n",
              "\n",
              "  .colab-df-quickchart-complete:disabled,\n",
              "  .colab-df-quickchart-complete:disabled:hover {\n",
              "    background-color: var(--disabled-bg-color);\n",
              "    fill: var(--disabled-fill-color);\n",
              "    box-shadow: none;\n",
              "  }\n",
              "\n",
              "  .colab-df-spinner {\n",
              "    border: 2px solid var(--fill-color);\n",
              "    border-color: transparent;\n",
              "    border-bottom-color: var(--fill-color);\n",
              "    animation:\n",
              "      spin 1s steps(1) infinite;\n",
              "  }\n",
              "\n",
              "  @keyframes spin {\n",
              "    0% {\n",
              "      border-color: transparent;\n",
              "      border-bottom-color: var(--fill-color);\n",
              "      border-left-color: var(--fill-color);\n",
              "    }\n",
              "    20% {\n",
              "      border-color: transparent;\n",
              "      border-left-color: var(--fill-color);\n",
              "      border-top-color: var(--fill-color);\n",
              "    }\n",
              "    30% {\n",
              "      border-color: transparent;\n",
              "      border-left-color: var(--fill-color);\n",
              "      border-top-color: var(--fill-color);\n",
              "      border-right-color: var(--fill-color);\n",
              "    }\n",
              "    40% {\n",
              "      border-color: transparent;\n",
              "      border-right-color: var(--fill-color);\n",
              "      border-top-color: var(--fill-color);\n",
              "    }\n",
              "    60% {\n",
              "      border-color: transparent;\n",
              "      border-right-color: var(--fill-color);\n",
              "    }\n",
              "    80% {\n",
              "      border-color: transparent;\n",
              "      border-right-color: var(--fill-color);\n",
              "      border-bottom-color: var(--fill-color);\n",
              "    }\n",
              "    90% {\n",
              "      border-color: transparent;\n",
              "      border-bottom-color: var(--fill-color);\n",
              "    }\n",
              "  }\n",
              "</style>\n",
              "\n",
              "  <script>\n",
              "    async function quickchart(key) {\n",
              "      const quickchartButtonEl =\n",
              "        document.querySelector('#' + key + ' button');\n",
              "      quickchartButtonEl.disabled = true;  // To prevent multiple clicks.\n",
              "      quickchartButtonEl.classList.add('colab-df-spinner');\n",
              "      try {\n",
              "        const charts = await google.colab.kernel.invokeFunction(\n",
              "            'suggestCharts', [key], {});\n",
              "      } catch (error) {\n",
              "        console.error('Error during call to suggestCharts:', error);\n",
              "      }\n",
              "      quickchartButtonEl.classList.remove('colab-df-spinner');\n",
              "      quickchartButtonEl.classList.add('colab-df-quickchart-complete');\n",
              "    }\n",
              "    (() => {\n",
              "      let quickchartButtonEl =\n",
              "        document.querySelector('#df-ce1ce5d2-43bf-4819-abad-8b373df8bb05 button');\n",
              "      quickchartButtonEl.style.display =\n",
              "        google.colab.kernel.accessAllowed ? 'block' : 'none';\n",
              "    })();\n",
              "  </script>\n",
              "</div>\n",
              "\n",
              "    </div>\n",
              "  </div>\n"
            ],
            "application/vnd.google.colaboratory.intrinsic+json": {
              "type": "dataframe",
              "variable_name": "data",
              "summary": "{\n  \"name\": \"data\",\n  \"rows\": 5572,\n  \"fields\": [\n    {\n      \"column\": \"label\",\n      \"properties\": {\n        \"dtype\": \"number\",\n        \"std\": 0,\n        \"min\": 0,\n        \"max\": 1,\n        \"num_unique_values\": 2,\n        \"samples\": [\n          1,\n          0\n        ],\n        \"semantic_type\": \"\",\n        \"description\": \"\"\n      }\n    },\n    {\n      \"column\": \"message\",\n      \"properties\": {\n        \"dtype\": \"string\",\n        \"num_unique_values\": 5074,\n        \"samples\": [\n          \"one week leave put know time\",\n          \"interflora late order interflora flowers christmas call < NUMBER > < NUMBER > place order midnight tomorrow\"\n        ],\n        \"semantic_type\": \"\",\n        \"description\": \"\"\n      }\n    }\n  ]\n}"
            }
          },
          "metadata": {},
          "execution_count": 42
        }
      ]
    },
    {
      "cell_type": "markdown",
      "source": [
        "##**Text Representation**"
      ],
      "metadata": {
        "id": "ssx4uP1Bv1o3"
      }
    },
    {
      "cell_type": "markdown",
      "source": [
        "I'll use the **TF-IDF vectorizer**. TF-IDF will help us highlight keywords characteristic of spam since it assigns higher weights to terms that are frequent in a specific message but less common across all messages. Since the target class is unbalanced, I think TF-IDF would be better thant other apporaches like **Bag of Words** because of this. On the other hand, SMS messages are short, and this make TF-IDF particularly suitable for extracting useful features without being overwhelmed by word frequency.\n",
        "\n",
        "Anyways, I will also try **Bag of words** since it could be interesting to see the difference in the results in practice."
      ],
      "metadata": {
        "id": "QBp3uXumVAtV"
      }
    },
    {
      "cell_type": "code",
      "source": [
        "from sklearn.feature_extraction.text import TfidfVectorizer\n",
        "from sklearn.feature_extraction.text import CountVectorizer # BOW"
      ],
      "metadata": {
        "id": "cO55q_dWW7VJ"
      },
      "execution_count": 43,
      "outputs": []
    },
    {
      "cell_type": "code",
      "source": [
        "tfidf_vect = TfidfVectorizer()\n",
        "bow_vect = CountVectorizer()"
      ],
      "metadata": {
        "id": "R5F407MSXBna"
      },
      "execution_count": 44,
      "outputs": []
    },
    {
      "cell_type": "markdown",
      "source": [
        "\n",
        "\n",
        "---\n",
        "\n"
      ],
      "metadata": {
        "id": "faT3F0oaXklL"
      }
    },
    {
      "cell_type": "markdown",
      "source": [
        "##**Model Training and Evaluation**"
      ],
      "metadata": {
        "id": "OVKNzkhuP0P5"
      }
    },
    {
      "cell_type": "markdown",
      "source": [
        "###Logistic Regression"
      ],
      "metadata": {
        "id": "3nGYN5xfZL7a"
      }
    },
    {
      "cell_type": "markdown",
      "source": [
        "The first model to be tested will be **Logistic Regression**. For a binary classification problem like this, it can be quite effective."
      ],
      "metadata": {
        "id": "8F-JZFs3ZT83"
      }
    },
    {
      "cell_type": "code",
      "source": [
        "from sklearn.linear_model       import LogisticRegression\n",
        "from sklearn.pipeline           import Pipeline\n",
        "from sklearn.model_selection    import GridSearchCV\n",
        "from sklearn.metrics            import confusion_matrix, \\\n",
        "                                       accuracy_score, \\\n",
        "                                       ConfusionMatrixDisplay"
      ],
      "metadata": {
        "id": "ADA-Rr9vcluG"
      },
      "execution_count": 45,
      "outputs": []
    },
    {
      "cell_type": "markdown",
      "source": [
        "In the following code I'll perform a **Corss-Validated Grid Search** to systematically explore combinations of hyperparameters and select the best configuration for the Logistic Regression model. By evaluating each combination across multiple data splits, we ensure the model's performance generalizes well on unseen data."
      ],
      "metadata": {
        "id": "UfJRiMj5KsBH"
      }
    },
    {
      "cell_type": "code",
      "source": [
        "### For TF-IDF ###\n",
        "\n",
        "lr_tfidf_param_grid = [\n",
        "    {\n",
        "        'vect__ngram_range':    [(1, 1), (1, 2)],\n",
        "        'vect__use_idf':        [True, False],\n",
        "        'vect__norm':           ['l1', 'l2'],\n",
        "        'clf__penalty':         ['l2'],\n",
        "        'clf__C':               [1.0, 10.0, 100.0],\n",
        "        'clf__solver':          ['lbfgs', 'liblinear']\n",
        "    }\n",
        "]\n",
        "\n",
        "lr_tfidf_pipe = Pipeline([\n",
        "    ('vect', tfidf_vect),\n",
        "    ('clf', LogisticRegression())\n",
        "])\n",
        "\n",
        "lr_tfidf_gs = GridSearchCV(lr_tfidf_pipe,\n",
        "                           lr_tfidf_param_grid,\n",
        "                           scoring='accuracy',\n",
        "                           cv=5,\n",
        "                           verbose=3,\n",
        "                           n_jobs=2)"
      ],
      "metadata": {
        "id": "wss0_UomeuEM"
      },
      "execution_count": 46,
      "outputs": []
    },
    {
      "cell_type": "markdown",
      "source": [
        "About the explored parameters:\n",
        "-  `vect__ngram_range`: This controls the range of the n-grams considered by the TF-IDF vectorizer.\n",
        "-  `vect__use_idf`: Testing both True and False helps determine whether IDF improves performance.\n",
        "-  `vect__norm`: Normalization adjusts term vectors to have unit length.\n",
        "-  `clf__penalty`: Specifies the regularization technique for Logistic Regression.\n",
        "-  `clf__C`: The inverse of regularization strength. Lower values (e.g., 1.0) apply stronger regularization, while higher values (e.g., 100.0) allow more flexibility.\n",
        "-  `clf__solver`: Specifies the optimization algorithm for Logistic Regression.\n",
        "    -  `lbfgs` is efficient for small-to-medium datasets.\n",
        "    -  `liblinear` supports smaller datasets and sparse matrices, making it well-suited for text data."
      ],
      "metadata": {
        "id": "G003KFiELT7g"
      }
    },
    {
      "cell_type": "code",
      "source": [
        "### For BOW ###\n",
        "\n",
        "param_grid_bow = [\n",
        "    {\n",
        "        'vect__ngram_range':    [(1, 1), (1, 2)],\n",
        "        'vect__binary':         [True, False],\n",
        "        'clf__penalty':         ['l2'],\n",
        "        'clf__C':               [1.0, 10.0, 100.0],\n",
        "        'clf__solver':          ['lbfgs', 'liblinear']\n",
        "    }\n",
        "]\n",
        "\n",
        "lr_bow_pipe = Pipeline([\n",
        "    ('vect', bow_vect),\n",
        "    ('clf', LogisticRegression())\n",
        "])\n",
        "\n",
        "lr_bow_gs = GridSearchCV(lr_bow_pipe,\n",
        "                         param_grid_bow,\n",
        "                         scoring='accuracy',\n",
        "                         cv=5,\n",
        "                         verbose=3,\n",
        "                         n_jobs=2)"
      ],
      "metadata": {
        "id": "mWvzxDtZlQLn"
      },
      "execution_count": 47,
      "outputs": []
    },
    {
      "cell_type": "markdown",
      "source": [
        "Accuracy measures the proportion of correctly classified samples. It is intuitive, easy to compute, and provides a quick overall assessment of the model's performance. But we must take into account:\n",
        "-  In datasets with class imbalance (like this one), accuracy can be misleading. I will use it only for selecting the best combination and then explore other metrics."
      ],
      "metadata": {
        "id": "opN3khM7NGEu"
      }
    },
    {
      "cell_type": "markdown",
      "source": [
        "I'll now fit the models to the training set."
      ],
      "metadata": {
        "id": "AP4iojCcOLO1"
      }
    },
    {
      "cell_type": "markdown",
      "source": [
        "For TF-IDF:"
      ],
      "metadata": {
        "id": "HfgMIllylotT"
      }
    },
    {
      "cell_type": "code",
      "source": [
        "lr_tfidf_gs.fit(X_train, y_train)"
      ],
      "metadata": {
        "id": "GRB8AFn0jZ8l"
      },
      "execution_count": null,
      "outputs": []
    },
    {
      "cell_type": "code",
      "source": [
        "print(f'Best parameter set: {lr_tfidf_gs.best_params_}')"
      ],
      "metadata": {
        "colab": {
          "base_uri": "https://localhost:8080/"
        },
        "id": "LOOvEK8zjgEy",
        "outputId": "033ec051-53ae-4e2b-e343-f7fa6c719b04"
      },
      "execution_count": 49,
      "outputs": [
        {
          "output_type": "stream",
          "name": "stdout",
          "text": [
            "Best parameter set: {'clf__C': 100.0, 'clf__penalty': 'l2', 'clf__solver': 'lbfgs', 'vect__ngram_range': (1, 1), 'vect__norm': 'l2', 'vect__use_idf': True}\n"
          ]
        }
      ]
    },
    {
      "cell_type": "markdown",
      "source": [
        "Average 5-fold cross validation accuracy on the training set:"
      ],
      "metadata": {
        "id": "O366fp34jFq4"
      }
    },
    {
      "cell_type": "code",
      "source": [
        "print(f'CV Accuracy: {lr_tfidf_gs.best_score_:.3f}')"
      ],
      "metadata": {
        "colab": {
          "base_uri": "https://localhost:8080/"
        },
        "id": "-M_-_BMijmEj",
        "outputId": "d3e256d6-3413-4fb6-9532-9a36bfd8139c"
      },
      "execution_count": 50,
      "outputs": [
        {
          "output_type": "stream",
          "name": "stdout",
          "text": [
            "CV Accuracy: 0.983\n"
          ]
        }
      ]
    },
    {
      "cell_type": "markdown",
      "source": [
        "For BOW:"
      ],
      "metadata": {
        "id": "d7WA_849lrAY"
      }
    },
    {
      "cell_type": "code",
      "source": [
        "lr_bow_gs.fit(X_train, y_train)"
      ],
      "metadata": {
        "id": "7dlDPr0Nlt5i"
      },
      "execution_count": null,
      "outputs": []
    },
    {
      "cell_type": "code",
      "source": [
        "print(f'Best parameter set: {lr_bow_gs.best_params_}')"
      ],
      "metadata": {
        "colab": {
          "base_uri": "https://localhost:8080/"
        },
        "id": "bdsVi-IFlt5j",
        "outputId": "0701896d-b92d-4a2a-dfd8-4ef8996ea46d"
      },
      "execution_count": 52,
      "outputs": [
        {
          "output_type": "stream",
          "name": "stdout",
          "text": [
            "Best parameter set: {'clf__C': 100.0, 'clf__penalty': 'l2', 'clf__solver': 'lbfgs', 'vect__binary': True, 'vect__ngram_range': (1, 1)}\n"
          ]
        }
      ]
    },
    {
      "cell_type": "markdown",
      "source": [
        "Average 5-fold cross validation accuracy on the training set:"
      ],
      "metadata": {
        "id": "XqE5N9wCi5Ld"
      }
    },
    {
      "cell_type": "code",
      "source": [
        "print(f'CV Accuracy: {lr_bow_gs.best_score_:.3f}')"
      ],
      "metadata": {
        "colab": {
          "base_uri": "https://localhost:8080/"
        },
        "id": "b5A704mjlt5k",
        "outputId": "c2723ca4-e644-47bc-c9d0-f95622ecf758"
      },
      "execution_count": 53,
      "outputs": [
        {
          "output_type": "stream",
          "name": "stdout",
          "text": [
            "CV Accuracy: 0.985\n"
          ]
        }
      ]
    },
    {
      "cell_type": "markdown",
      "source": [
        "In what follows, I will analyze the cross-validation accuracy results obtained during the grid search process for Logistic Regression with TF-IDF. Cross-validation helps evaluate model performance on multiple data splits, providing insights into how the model generalizes to unseen data.\n",
        "\n",
        "To better understand the stability of different parameter combinations, I will plot the mean accuracy and its variability (±1 standard deviation) across folds."
      ],
      "metadata": {
        "id": "Hlubt4tLnY7S"
      }
    },
    {
      "cell_type": "code",
      "source": [
        "# Extract results from GridSearchCV\n",
        "results = pd.DataFrame(lr_tfidf_gs.cv_results_)\n",
        "\n",
        "# Get the mean and standard deviation of accuracy scores for each parameter combination\n",
        "mean_scores = results['mean_test_score']\n",
        "std_scores = results['std_test_score']\n",
        "x_values = range(len(mean_scores))\n",
        "\n",
        "# Plot the accuracy variations using fill_between for a nice viewing\n",
        "plt.figure(figsize=(10, 6))\n",
        "plt.plot(x_values, mean_scores, marker='o', label='Mean Accuracy', color='blue')\n",
        "plt.fill_between(x_values, mean_scores - std_scores, mean_scores + std_scores,\n",
        "                 color='blue', alpha=0.2, label='±1 StdDev')\n",
        "\n",
        "plt.title('Cross-Validation Accuracy Across Folds')\n",
        "plt.xlabel('Parameter Combination Index')\n",
        "plt.ylabel('Accuracy')\n",
        "plt.xticks(x_values, labels=range(1, len(mean_scores) + 1), rotation=90)\n",
        "plt.legend()\n",
        "plt.grid(True)\n",
        "plt.tight_layout()\n",
        "plt.show()"
      ],
      "metadata": {
        "colab": {
          "base_uri": "https://localhost:8080/",
          "height": 607
        },
        "id": "6cEMiivKluzQ",
        "outputId": "433fb1b2-c161-4e8f-a8f9-cd010627e9de"
      },
      "execution_count": 54,
      "outputs": [
        {
          "output_type": "display_data",
          "data": {
            "text/plain": [
              "<Figure size 1000x600 with 1 Axes>"
            ],
            "image/png": "[encoded data removed]"
          },
          "metadata": {}
        }
      ]
    },
    {
      "cell_type": "markdown",
      "source": [
        "The plot illustrates the mean accuracy across folds for each parameter combination tested during grid search, represented by the blue line. The shaded region around the line visualizes the variability in accuracy across the folds.\n",
        "\n",
        "**Some observations**:\n",
        "1. Many parameter combinations exhibit minimal variability, as shown by the narrow shaded regions. These combinations are robust and perform consistently.\n",
        "2. Other combinations display larger shaded regions, indicating sensitivity to the specific training split. These configurations might overfit or underfit depending on the data.\n",
        "3. Combinations with high mean accuracy and small variability (e.g., 44) are ideal candidates, as they suggest both strong performance and stability."
      ],
      "metadata": {
        "id": "3y-ak8fmoVde"
      }
    },
    {
      "cell_type": "markdown",
      "source": [
        "Now it's time to **evaluate it in the test dataset**. We can get the best classificator (i.e. the logistic regression classifier with the best parameters combination encountered) via the <tt>best_estimator_</tt> parameter of the GridSearch objetct after training."
      ],
      "metadata": {
        "id": "Kd0DGsMpjODL"
      }
    },
    {
      "cell_type": "code",
      "source": [
        "# Get the best classifiers\n",
        "lr_clf_tfidf = lr_tfidf_gs.best_estimator_\n",
        "lr_clf_bow = lr_bow_gs.best_estimator_\n",
        "\n",
        "# Transform the test dataset using the vectorizers from the best pipelines\n",
        "X_test_tfidf = lr_clf_tfidf.named_steps['vect'].transform(X_test)\n",
        "X_test_bow = lr_clf_bow.named_steps['vect'].transform(X_test)\n",
        "\n",
        "# Make predictions on the transformed test dataset\n",
        "lr_clf_tfidf_pred = lr_clf_tfidf.named_steps['clf'].predict(X_test_tfidf)\n",
        "lr_clf_bow_pred = lr_clf_bow.named_steps['clf'].predict(X_test_bow)"
      ],
      "metadata": {
        "id": "xHmHzhqNkADR"
      },
      "execution_count": 56,
      "outputs": []
    },
    {
      "cell_type": "markdown",
      "source": [
        "Accuracy on test:"
      ],
      "metadata": {
        "id": "jfmQ30RDk_1Y"
      }
    },
    {
      "cell_type": "code",
      "source": [
        "print(f'LR with TF-IDF Accuracy: {accuracy_score(y_test, lr_clf_tfidf_pred):.3f}\\n'\n",
        "      f'LR with BOW Accuracy: {accuracy_score(y_test, lr_clf_bow_pred):.3f}')"
      ],
      "metadata": {
        "colab": {
          "base_uri": "https://localhost:8080/"
        },
        "id": "cbPHbeE6lBqk",
        "outputId": "3ccbecea-93cc-43fa-f217-05a6c0d5f553"
      },
      "execution_count": 57,
      "outputs": [
        {
          "output_type": "stream",
          "name": "stdout",
          "text": [
            "LR with TF-IDF Accuracy: 0.981\n",
            "LR with BOW Accuracy: 0.985\n"
          ]
        }
      ]
    },
    {
      "cell_type": "markdown",
      "source": [
        "With BOW vectorizer, LogisticRegression got a slightly better performance regarding to accuracy. But, although accuracy is a good metric, it doesn't tell much about the performance on each class (spam or ham). So, I'm going to construct the confusion matrix for each classifier and see how they performed. But first, I'm going to show some misclasified samples and try to understand why they where misclassified."
      ],
      "metadata": {
        "id": "uRvBNqbzleDX"
      }
    },
    {
      "cell_type": "code",
      "source": [
        "import numpy as np"
      ],
      "metadata": {
        "id": "MCbTa7VrrIsG"
      },
      "execution_count": 58,
      "outputs": []
    },
    {
      "cell_type": "code",
      "source": [
        "# Identify indices of misclassified messages\n",
        "misclassified_indices = np.where(lr_clf_tfidf_pred != y_test)[0]\n",
        "\n",
        "# Display some examples of misclassified messages\n",
        "print(\"Examples of Misclassified Messages:\\n\")\n",
        "for i in misclassified_indices[:5]:\n",
        "    print(f\"Message: {X_test[i]}\")\n",
        "    print(f\"True Label: {y_test[i]} | 'Predicted Label: {lr_clf_tfidf_pred[i]}\")\n",
        "    print(\"-\" * 80)"
      ],
      "metadata": {
        "colab": {
          "base_uri": "https://localhost:8080/"
        },
        "id": "haPLcO6vqbos",
        "outputId": "53213bfd-1f89-4d69-acce-51fe55bbdc09"
      },
      "execution_count": 59,
      "outputs": [
        {
          "output_type": "stream",
          "name": "stdout",
          "text": [
            "Examples of Misclassified Messages:\n",
            "\n",
            "Message: want explicit sex < NUMBER > secs ring < NUMBER > costs < NUMBER > pmin\n",
            "True Label: spam | 'Predicted Label: ham\n",
            "--------------------------------------------------------------------------------\n",
            "Message: v nice < NUMBER > sheffield tom < NUMBER > air opinions categories < NUMBER > b used < NUMBER > measure ethnicity next census busy transcribing\n",
            "True Label: ham | 'Predicted Label: spam\n",
            "--------------------------------------------------------------------------------\n",
            "Message: bought one ringtone getting texts costing < NUMBER > pound offering tones etc\n",
            "True Label: spam | 'Predicted Label: ham\n",
            "--------------------------------------------------------------------------------\n",
            "Message: please come imin towndontmatter urgoin outl < NUMBER > rjust reallyneed < NUMBER > docdplease dontplease dontignore mycallsu thecd isvimportant tome < NUMBER > < NUMBER > moro\n",
            "True Label: ham | 'Predicted Label: spam\n",
            "--------------------------------------------------------------------------------\n",
            "Message: missed call alert numbers called left message < NUMBER >\n",
            "True Label: spam | 'Predicted Label: ham\n",
            "--------------------------------------------------------------------------------\n"
          ]
        }
      ]
    },
    {
      "cell_type": "markdown",
      "source": [
        "**Some observations**:\n",
        "\n",
        "The model seems to have missed obvious spam messages, possible due to unfamiliar terms or insufficient weight given to certain keywords like \"sex\". Another reason could be that some spam messages include transactional language that overlaps with legitimate contexts.\n",
        "\n",
        "The model also have false positives. This could be due to the inclusion of numbers, as it encounter similarities with spam patterns. Another reason could be due to words that express urgency, this is also related to spam messages, leading to misclassification."
      ],
      "metadata": {
        "id": "uxAlokWusMiK"
      }
    },
    {
      "cell_type": "markdown",
      "source": [
        "Ok then, let's continue with the confusion matrices."
      ],
      "metadata": {
        "id": "q-UeV2Ueqa73"
      }
    },
    {
      "cell_type": "code",
      "source": [
        "import seaborn as sns"
      ],
      "metadata": {
        "id": "OpivsieDsDM0"
      },
      "execution_count": 60,
      "outputs": []
    },
    {
      "cell_type": "code",
      "source": [
        "lr_tfidf_conf_mtx = confusion_matrix(y_test, lr_clf_tfidf_pred)\n",
        "lr_bow_conf_mtx = confusion_matrix(y_test, lr_clf_bow_pred)\n",
        "\n",
        "labels = ['Ham', 'Spam']\n",
        "lr_tfidf_mtx_disp = ConfusionMatrixDisplay(confusion_matrix=lr_tfidf_conf_mtx,\n",
        "                                           display_labels=labels)\n",
        "lr_bow_mtx_disp = ConfusionMatrixDisplay(confusion_matrix=lr_bow_conf_mtx,\n",
        "                                         display_labels=labels)\n",
        "fig, (ax1, ax2) = plt.subplots(1, 2, figsize=(12, 5))\n",
        "\n",
        "sns.heatmap(lr_tfidf_conf_mtx, annot=True, fmt='d', cmap='Blues', ax=ax1)\n",
        "ax1.set_title('LR Confusion Matrix with TF-IDF')\n",
        "ax1.set_xlabel('Predicted label')\n",
        "ax1.set_ylabel('True label')\n",
        "ax1.set_xticklabels(labels)\n",
        "ax1.set_yticklabels(labels)\n",
        "\n",
        "sns.heatmap(lr_bow_conf_mtx, annot=True, fmt='d', cmap='Greens', ax=ax2)\n",
        "ax2.set_title('LR Confusion Matrix with BOW')\n",
        "ax2.set_xlabel('Predicted label')\n",
        "ax2.set_ylabel('True label')\n",
        "ax2.set_xticklabels(labels)\n",
        "ax2.set_yticklabels(labels)\n",
        "\n",
        "plt.tight_layout()\n",
        "plt.show()"
      ],
      "metadata": {
        "colab": {
          "base_uri": "https://localhost:8080/",
          "height": 507
        },
        "id": "pp3-RqbjmCNT",
        "outputId": "9e2450f2-5e5b-4716-ad23-59b34b7769eb"
      },
      "execution_count": 61,
      "outputs": [
        {
          "output_type": "display_data",
          "data": {
            "text/plain": [
              "<Figure size 1200x500 with 4 Axes>"
            ],
            "image/png": "[encoded data removed]"
          },
          "metadata": {}
        }
      ]
    },
    {
      "cell_type": "markdown",
      "source": [
        "**Interpretation**:\n",
        "\n",
        "-  **True Positives**: Correctly identifie spam messages (171 for TF-IDF, 169 for BOW)\n",
        "-  **False Positives**: Ham messages misclassified as spam (11 for TF-IDF, 3 for BOW)\n",
        "-  **True Negatives**: Correctly identified ham messages (1195 for TF-IDF, 1203 for BOW).\n",
        "-  **False Negatives**: Spam messages misclassified as ham (16 for TF-IDF, 18 for BOW).\n",
        "\n",
        "**The balance matters**:\n",
        "\n",
        "-  Misclassifying spam as ham (FN) means spam gets through to users, potentially causing annoyance or harm.\n",
        "-  Misclassifying ham as spam (FP) leads to legitimate messages being blocked, degrading user experience.\n",
        "\n",
        "**Precision and Recall of the *spam* class**:\n",
        "\n",
        "- Precision answers the question: Of the messages that the model classified as spam, what proportion were actually spam?\n",
        "- Recall answers the question: Of all the messages that were spam, what proportion did the model manage to correctly classify?\n",
        "\n",
        "-  For TF-IDF:\n",
        "$$ Precision = \\frac{TP}{TP + FP} = \\frac{171}{171 + 11} = 0.940 $$\n",
        "    -  Of all the messages classified as spam, 94% were actually spam.\n",
        "$$ Recall = \\frac{TP}{TP + FN} = \\frac{171}{171 + 16} = 0.914 $$\n",
        "    -  Of all the actual spam messages, 91.4% were correctly identified by the model. The model has a strong ability to catch most spam messages, although a small proportion of spam messages were missed.\n",
        "\n",
        "-  For BOW:\n",
        "$$ Precision = \\frac{TP}{TP + FP} = \\frac{169}{169 + 3} = 0.983 $$\n",
        "    -  Of all the messages classified as spam, 98.3% were actually spam. The model rarely misclassifies ham as spam.\n",
        "$$ Recall = \\frac{TP}{TP + FN} = \\frac{169}{169 + 18} = 0.904 $$\n",
        "    -  Of all the actual spam messages, 90.4% were correctly identified by the model."
      ],
      "metadata": {
        "id": "U2MCuehmgZEL"
      }
    },
    {
      "cell_type": "markdown",
      "source": [
        "BOW has a higher precision than TF-IDF, meaning it is more cautious in labeling a message as spam. This makes BOW better at avoiding false positives. On the other hand, TF-IDF has slightly recall compared to BOW, meaning TF-IDF is slightly better at identifying spam messages overall. However, the difference is small and might not be practically significant.\n",
        "\n",
        "It is difficult to draw conclusions from such a small difference. It would be interesting to see both models with a large dataset to see how they perform. It seems that TF-IDF is more balanced between precision and recall, while BOW prioritizes precision over recall. Depending on the context one might prefer one approach over the other."
      ],
      "metadata": {
        "id": "e6n_WH8YuL1h"
      }
    },
    {
      "cell_type": "markdown",
      "source": [
        "####**Feature Importance**"
      ],
      "metadata": {
        "id": "AM_bsGVFVyYs"
      }
    },
    {
      "cell_type": "markdown",
      "source": [
        "To gain deeper insights into how Logistic Regression identifies spam versus ham messages, let's examine the most influential words in our trained model. Logistic Regression assigns a coefficient to each feature (word or n-gram), representing its imporatnce in determining whether a message is spam or not.\n",
        "\n",
        "By analyzing these coefficients, we can identify which words strongly indicate spam (positive coefficients) or ham (negative coefficients). In this way we can:\n",
        "1. Validate the model's behavior by checking whether important words align with our expectations.\n",
        "2. Gain interpretability to understanding the decisions.\n",
        "\n",
        "In the following code I will extract these coefficients, sort them by magnitude, and plot the top 20 most influential words."
      ],
      "metadata": {
        "id": "eMITXM1qV2Hf"
      }
    },
    {
      "cell_type": "code",
      "source": [
        "# Extract the best Logistic Regression model trained with TF-IDF\n",
        "best_model = lr_tfidf_gs.best_estimator_\n",
        "vectorizer = best_model.named_steps['vect']\n",
        "classifier = best_model.named_steps['clf']\n",
        "\n",
        "# Get feature names and coefficients\n",
        "feature_names = vectorizer.get_feature_names_out()\n",
        "coefficients = classifier.coef_[0]  # Coefficients for spam class\n",
        "\n",
        "# Create a DataFrame for easier handling\n",
        "feature_importance = pd.DataFrame({\n",
        "    'Feature': feature_names,\n",
        "    'Coefficient': coefficients\n",
        "})\n",
        "\n",
        "# Sort by absolute coefficient values\n",
        "feature_importance['AbsCoefficient'] = feature_importance['Coefficient'].abs()\n",
        "feature_importance = feature_importance.sort_values(by='AbsCoefficient',\n",
        "                                                    ascending=False)\n",
        "\n",
        "# Select top 20 features\n",
        "top_features = feature_importance.head(20)\n",
        "\n",
        "# Plot the results\n",
        "plt.figure(figsize=(12, 6))\n",
        "plt.barh(top_features['Feature'], top_features['Coefficient'], color='skyblue')\n",
        "plt.xlabel('Coefficient Value')\n",
        "plt.ylabel('Feature')\n",
        "plt.title('Top 20 Most Influential Words for Spam Detection')\n",
        "plt.gca().invert_yaxis()\n",
        "plt.show()"
      ],
      "metadata": {
        "colab": {
          "base_uri": "https://localhost:8080/",
          "height": 564
        },
        "id": "3W1gv8bzPoKg",
        "outputId": "174deb94-6ac8-4dd4-a9de-aaca606a8ca3"
      },
      "execution_count": 62,
      "outputs": [
        {
          "output_type": "display_data",
          "data": {
            "text/plain": [
              "<Figure size 1200x600 with 1 Axes>"
            ],
            "image/png": "[encoded data removed]"
          },
          "metadata": {}
        }
      ]
    },
    {
      "cell_type": "markdown",
      "source": [
        "The bar chart above reveals the top 20 most influential words in the Logistic Regression model for spam detection. Here's what we can observe:\n",
        "1. **Positive coefficients (spam)**:\n",
        "    -  Words such as \"win\", \"claim\" and \"free\" are strongly associated with spam messages. These terms are common in promotional content, as we expected...\n",
        "2. **Negative coefficients (ham)**:\n",
        "    -  Words like \"liked\" or \"ill\" are linked to ham messages. These terms may appear in personal or informational texts.\n",
        "    -  The word \"sir\" is an interesting inclusion under ham, potentially reflecting polite or formal communication styles.\n",
        "\n",
        "So, the model demonstrates a reasonable distribution between spam and ham-related terms, indicating it effectively indentifies features for both classes."
      ],
      "metadata": {
        "id": "LfJ1FkWGY2CM"
      }
    },
    {
      "cell_type": "markdown",
      "source": [
        "\n",
        "\n",
        "---\n",
        "\n"
      ],
      "metadata": {
        "id": "esKqK6lKdTYR"
      }
    },
    {
      "cell_type": "markdown",
      "source": [
        "###Naive Bayes"
      ],
      "metadata": {
        "id": "8QRfUWNgvujv"
      }
    },
    {
      "cell_type": "markdown",
      "source": [
        "The other model I want to try is Naive Bayes, particularly the **Multinomial Naive Bayes** is typically the go-to version for classification tasks like this, so I will use this version also from *sklearn*.\n",
        "\n",
        "The frequency concept also appears here, as this model considers the frequency of each word's occurrence in documents. This method has been widely used and validated in text classification tasks, especially spam filtering.\n",
        "\n",
        "MNB assumes that features are conditionally independent given the class label and are distributed multinomially—a suitable choice for text data where features represent word frequencies. For this experiment, I use the BOW representation, as it aligns well with MNB's assumptions and performs efficiently on text classification tasks.\n",
        "\n",
        "Unlike the Logistic Regression models, I skip grid search here. I just want to see the performance without additional optimization steps.\n"
      ],
      "metadata": {
        "id": "Wu-0VIGB0J-v"
      }
    },
    {
      "cell_type": "code",
      "source": [
        "from sklearn.naive_bayes import MultinomialNB\n",
        "from sklearn.metrics import classification_report"
      ],
      "metadata": {
        "id": "yCV6Xpz21XqJ"
      },
      "execution_count": 63,
      "outputs": []
    },
    {
      "cell_type": "code",
      "source": [
        "# Transform data\n",
        "X_train_bow = bow_vect.fit_transform(X_train)\n",
        "X_test_bow = bow_vect.transform(X_test)\n",
        "\n",
        "# Let's use it directly, without grid search nor cross validation\n",
        "mnb_clf = MultinomialNB()\n",
        "mnb_clf.fit(X_train_bow, y_train)\n",
        "\n",
        "mnb_pred = mnb_clf.predict(X_test_bow)\n",
        "print(classification_report(y_test, mnb_pred, target_names=['ham', 'spam']))\n",
        "\n",
        "mnb_conf_mtx = confusion_matrix(y_test, mnb_pred)\n",
        "mnb_conf_mtx_disp = ConfusionMatrixDisplay(confusion_matrix=mnb_conf_mtx,\n",
        "                                           display_labels=labels)\n",
        "mnb_conf_mtx_disp.plot(cmap=plt.cm.Purples)\n",
        "plt.title('MultinomialNB Confusion Matrix with BOW')\n",
        "plt.show()"
      ],
      "metadata": {
        "colab": {
          "base_uri": "https://localhost:8080/",
          "height": 628
        },
        "id": "ko6SlFNQ2peS",
        "outputId": "7320c5dc-61f1-421e-fe58-f528ebdf57a5"
      },
      "execution_count": 64,
      "outputs": [
        {
          "output_type": "stream",
          "name": "stdout",
          "text": [
            "              precision    recall  f1-score   support\n",
            "\n",
            "         ham       0.99      0.99      0.99      1206\n",
            "        spam       0.91      0.95      0.93       187\n",
            "\n",
            "    accuracy                           0.98      1393\n",
            "   macro avg       0.95      0.97      0.96      1393\n",
            "weighted avg       0.98      0.98      0.98      1393\n",
            "\n"
          ]
        },
        {
          "output_type": "display_data",
          "data": {
            "text/plain": [
              "<Figure size 640x480 with 2 Axes>"
            ],
            "image/png": "[encoded data removed]"
          },
          "metadata": {}
        }
      ]
    },
    {
      "cell_type": "markdown",
      "source": [
        "Even without making any parameters searching this model outperformed the other two regarding to *recall* making it suitable when detecting spam is more important than avoiding false positives. It has more misclassified ham messages (false positives), but the difference is not too high, though."
      ],
      "metadata": {
        "id": "kKT6am_x7Z6H"
      }
    },
    {
      "cell_type": "markdown",
      "source": [
        "\n",
        "\n",
        "---\n",
        "\n"
      ],
      "metadata": {
        "id": "F3l86orvvtVh"
      }
    }
  ]
}